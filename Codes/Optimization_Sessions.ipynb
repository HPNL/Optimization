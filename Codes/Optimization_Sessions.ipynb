{
  "cells": [
    {
      "cell_type": "markdown",
      "source": [
        "## **Optimization Sessions**\n",
        "### Date : 1402 - 02 (2024 - 05)\n",
        "### Professor: Dr.Ahmad Khonsari\n",
        "#### Chief TA(s) : S. Bahereh Hassanpour , Behrad Mahmoudi\n",
        "#### Main lecturer: *Behrad Mahmoudi*\n",
        "\n",
        "\n",
        "---\n",
        "\n",
        "\n",
        "##### Ph.D Students: S. *Bahereh Hassanpour, Leila Asadzadeh*\n",
        "##### Master Students: *Behrad Mahmoudi, Nadia Yazdani, Mina Faridi, Mojtba Mozhganfar*\n",
        "\n",
        "---\n",
        "\n",
        "\n",
        "###### *Lab Link : https://hpnl.ir/*"
      ],
      "metadata": {
        "id": "u5ZqesZG9ZKl"
      },
      "id": "u5ZqesZG9ZKl"
    },
    {
      "cell_type": "markdown",
      "source": [
        "\n",
        "\n",
        "---\n",
        "\n",
        "\n",
        "\n",
        "---\n",
        "\n",
        "\n",
        "\n",
        "---\n",
        "\n",
        "\n",
        "\n",
        "---\n",
        "\n",
        "\n",
        "\n",
        "---\n",
        "\n"
      ],
      "metadata": {
        "id": "-GZDWnci5uTK"
      },
      "id": "-GZDWnci5uTK"
    },
    {
      "cell_type": "markdown",
      "source": [
        "\n",
        "\n",
        "\n",
        "---\n",
        "\n",
        "\n",
        "<h1 id=\"hid1\" class=\"section\">Prepared by Leila Asadzadeh</h1>\n",
        "\n",
        "Reference:\n",
        "\n",
        "Linear Algebra Review and Reference</br>\n",
        "Zico Kolter (updated by Chuong Do)</br>\n",
        "October 7, 2008</br>\n",
        "link:\n",
        "https://www.cs.cmu.edu/~zkolter/course/15-884/linalg-review.pdf"
      ],
      "metadata": {
        "id": "QjtYpC7E6UmF"
      },
      "id": "QjtYpC7E6UmF"
    },
    {
      "cell_type": "markdown",
      "metadata": {
        "id": "aU8H10QCw7fS"
      },
      "source": [
        "#  2. Matrix Multiplication\n",
        "\n",
        "Let $A$ and $B$ be $m × n$ and $n × p$ matrices respectively. We define the product\n",
        "$AB$ to be the $m × p$ matrix $C$ whose $c_{ij}$ is given by\n",
        "\n",
        "$$c_{ij} = \\sum_{k}a_{ik}*b_{kj}$$\n",
        "\n",
        "That is, each element $c_{ij}$ of $C$ is the product of the $i$th row of $A$ times the $j$th column of $B$.\n"
      ],
      "id": "aU8H10QCw7fS"
    },
    {
      "cell_type": "code",
      "execution_count": null,
      "metadata": {
        "id": "mLdrEz0fw7gH",
        "outputId": "5bc3d16d-f926-4a3d-9c11-47269e2b8c9d",
        "colab": {
          "base_uri": "https://localhost:8080/"
        }
      },
      "outputs": [
        {
          "output_type": "stream",
          "name": "stdout",
          "text": [
            "[[81 69]\n",
            " [96 84]]\n"
          ]
        }
      ],
      "source": [
        "import numpy as np\n",
        "A = np.array([[1, 3, 5, 7, 9], [2, 4, 6, 8, 10]])\n",
        "B = np.array([[1, 2], [3, 4], [5, 5], [4, 3], [2, 1]])\n",
        "\n",
        "if A.shape[1] != B.shape[0] :\n",
        "    print ( \"Dimention mismatch Error!\")\n",
        "else:\n",
        "    C=np.dot(A,B)\n",
        "    #C=np.dot(A,B)\n",
        "    print(C)"
      ],
      "id": "mLdrEz0fw7gH"
    },
    {
      "cell_type": "markdown",
      "metadata": {
        "id": "WPqla9wGw7gO"
      },
      "source": [
        "# 2.1 Vector outer product\n",
        "\n",
        "The outer product of two vectors $A$ and $B$, $A \\otimes B$ is equivalent to a matrix multiplication $AB^T$ :\n",
        "\n",
        "$$A \\otimes B = \\left[ \\begin{array}{cc}\n",
        "a_1 \\\\ a_2 \\\\ .. \\\\ a_i\\end{array} \\right]  \\otimes \\left[ \\begin{array}{cc}\n",
        "b_1 \\\\ b_2 \\\\ .. \\\\ b_j\\end{array} \\right]= \\left[ \\begin{array}{cc}\n",
        "a_1b_1 & a_1b_2 & ... & a_1b_j \\\\ a_2b_1 & a_2b_2 & ... & a_2b_j \\\\.. & .. & .. & ..\\\\ a_ib_1 & a_ib_2 & ... & a_ib_j\\end{array} \\right]=C$$"
      ],
      "id": "WPqla9wGw7gO"
    },
    {
      "cell_type": "code",
      "execution_count": null,
      "metadata": {
        "id": "l-xs5RGWw7gP",
        "outputId": "868f4511-4282-49ce-8dfe-4c34994c0bf5",
        "colab": {
          "base_uri": "https://localhost:8080/"
        }
      },
      "outputs": [
        {
          "output_type": "stream",
          "name": "stdout",
          "text": [
            "[[ 5  6  7  8  9 10]\n",
            " [10 12 14 16 18 20]\n",
            " [15 18 21 24 27 30]\n",
            " [20 24 28 32 36 40]]\n"
          ]
        }
      ],
      "source": [
        "import numpy as np\n",
        "#outer-product\n",
        "A = np.array([[1, 2, 3, 4]])\n",
        "B = np.array([[5, 6, 7, 8, 9, 10]])\n",
        "\n",
        "print(np.outer(A,B))"
      ],
      "id": "l-xs5RGWw7gP"
    },
    {
      "cell_type": "markdown",
      "metadata": {
        "id": "-rsK0lMMw7gX"
      },
      "source": [
        "# 2.2 Element-wise matrix multiplication\n",
        "\n",
        "Element-wise multiplication, or Hadamard Product, multiples every element of the first matrix by the equivalent element in the second matrix. When using this method, both matrices should have the same dimensions."
      ],
      "id": "-rsK0lMMw7gX"
    },
    {
      "cell_type": "code",
      "execution_count": null,
      "metadata": {
        "id": "wf0TdLhWw7gY",
        "outputId": "4688571a-91b1-4575-830d-261fb5df0c0b",
        "colab": {
          "base_uri": "https://localhost:8080/"
        }
      },
      "outputs": [
        {
          "output_type": "stream",
          "name": "stdout",
          "text": [
            "[[ 1  6 15 28 45]\n",
            " [10 16 18 16 10]]\n",
            "[[ 1  6 15 28 45]\n",
            " [10 16 18 16 10]]\n"
          ]
        }
      ],
      "source": [
        "#Element-wise matrix multiplication\n",
        "A = np.array([[1, 3, 5, 7, 9], [2, 4, 6, 8, 10]])\n",
        "B = np.array([[1, 2, 3, 4, 5], [5, 4, 3, 2, 1]])\n",
        "\n",
        "if A.shape != B.shape :\n",
        "    print ( \"Error!\")\n",
        "else:\n",
        "    print(np.multiply(A,B))\n",
        "\n",
        "print(A*B)"
      ],
      "id": "wf0TdLhWw7gY"
    },
    {
      "cell_type": "markdown",
      "source": [
        "\n",
        "\n",
        "\n",
        "---\n",
        "\n",
        "\n",
        "<h1 id=\"hid1\" class=\"section\">Prepared by Mojtaba Mozhganfar</h1>\n",
        "\n",
        "Reference:\n",
        "\n",
        "Linear Algebra Review and Reference</br>\n",
        "Zico Kolter (updated by Chuong Do)</br>\n",
        "October 7, 2008</br>\n",
        "link:\n",
        "https://www.cs.cmu.edu/~zkolter/course/15-884/linalg-review.pdf"
      ],
      "metadata": {
        "id": "f5vJNhDPi--m"
      },
      "id": "f5vJNhDPi--m"
    },
    {
      "cell_type": "markdown",
      "metadata": {
        "id": "PjCyzYHshc11"
      },
      "source": [
        "# 3.1 The Identity Matrix and Diagonal Matrices\n",
        "The identity matrix, denoted $I \\in \\mathbb{R}^{n \\times n}$, is a square matrix with ones on the diagonal and zeros everywhere else. That is,\n",
        "\n",
        "$$\n",
        "I_{i j}= \\begin{cases}1 & i=j \\\\ 0 & i \\neq j\\end{cases}\n",
        "$$\n",
        "\n",
        "It has the property that for all $A \\in \\mathbb{R}^{m \\times n}$\n",
        "\n",
        "$$\n",
        "A I=A=I A\n",
        "$$\n",
        "\n",
        "Note that in some sense, the notation for the identity matrix is ambiguous, since it does not specify the dimension of $I$. Generally, the dimensions of $I$ are inferred from context so as to make matrix multiplication possible. For example, in the equation above, the $I$ in $A I=A$ is an $n \\times n$ matrix, whereas the $I$ in $A=I A$ is an $m \\times m$ matrix.\n",
        "\n",
        "A diagonal matrix is a matrix where all non-diagonal elements are 0. This is typically denoted $D=\\operatorname{diag}\\left(d_{1}, d_{2}, \\ldots, d_{n}\\right)$, with\n",
        "\n",
        "$$\n",
        "D_{i j}= \\begin{cases}d_{i} & i=j \\\\ 0 & i \\neq j\\end{cases}\n",
        "$$\n",
        "\n",
        "Clearly, $I=\\operatorname{diag}(1,1, \\ldots, 1)$.\n",
        "\n"
      ],
      "id": "PjCyzYHshc11"
    },
    {
      "cell_type": "code",
      "source": [
        "import numpy as np\n",
        "dimension = 4\n",
        "n = dimension\n",
        "I = np.eye(n)\n",
        "B = np.random.randn(n,n)\n",
        "print(I@B == B)"
      ],
      "metadata": {
        "colab": {
          "base_uri": "https://localhost:8080/"
        },
        "id": "_BQXo5qsiFwn",
        "outputId": "dc52acf4-69b0-4fd6-fc00-82155a8ef1cd"
      },
      "id": "_BQXo5qsiFwn",
      "execution_count": null,
      "outputs": [
        {
          "output_type": "stream",
          "name": "stdout",
          "text": [
            "[[ True  True  True  True]\n",
            " [ True  True  True  True]\n",
            " [ True  True  True  True]\n",
            " [ True  True  True  True]]\n"
          ]
        }
      ]
    },
    {
      "cell_type": "code",
      "source": [
        "import numpy as np\n",
        "\n",
        "# create a 3x3 identity matrix\n",
        "I = np.identity(3)\n",
        "print(\"Identity matrix I:\")\n",
        "print(I)\n",
        "\n",
        "# create a diagonal matrix with diagonal elements [2, 4, 6]\n",
        "D = np.diag([2, 4, 6])\n",
        "print(\"\\nDiagonal matrix D:\")\n",
        "print(D)\n",
        "\n",
        "# create a 2x3 matrix A\n",
        "A = np.array([[1, 2, 3], [4, 5, 6]])\n",
        "print(\"\\nMatrix A:\")\n",
        "print(A)\n",
        "\n",
        "# multiply A by the identity matrix I\n",
        "A_times_I = A @ I\n",
        "print(\"\\nA times I:\")\n",
        "print(A_times_I)\n",
        "\n",
        "# multiply the identity matrix I by A\n",
        "I_times_A_T = I @ A.transpose()\n",
        "print(\"\\nI times A^T:\")\n",
        "print(I_times_A_T)\n",
        "\n",
        "# multiply A by the diagonal matrix D\n",
        "A_times_D = A @ D\n",
        "print(\"\\nA times D:\")\n",
        "print(A_times_D)"
      ],
      "metadata": {
        "colab": {
          "base_uri": "https://localhost:8080/"
        },
        "id": "_NIr89dQRckH",
        "outputId": "4900cd9e-a7c1-4222-86c0-94b2d2ecbc2a"
      },
      "id": "_NIr89dQRckH",
      "execution_count": null,
      "outputs": [
        {
          "output_type": "stream",
          "name": "stdout",
          "text": [
            "Identity matrix I:\n",
            "[[1. 0. 0.]\n",
            " [0. 1. 0.]\n",
            " [0. 0. 1.]]\n",
            "\n",
            "Diagonal matrix D:\n",
            "[[2 0 0]\n",
            " [0 4 0]\n",
            " [0 0 6]]\n",
            "\n",
            "Matrix A:\n",
            "[[1 2 3]\n",
            " [4 5 6]]\n",
            "\n",
            "A times I:\n",
            "[[1. 2. 3.]\n",
            " [4. 5. 6.]]\n",
            "\n",
            "I times A^T:\n",
            "[[1. 4.]\n",
            " [2. 5.]\n",
            " [3. 6.]]\n",
            "\n",
            "A times D:\n",
            "[[ 2  8 18]\n",
            " [ 8 20 36]]\n"
          ]
        }
      ]
    },
    {
      "cell_type": "markdown",
      "metadata": {
        "id": "14d6f8fa"
      },
      "source": [
        "# 3.2 The Transpose\n",
        "\n",
        "The transpose of a matrix results from \"flipping\" the rows and columns. Given a matrix $A \\in \\mathbb{R}^{m \\times n}$, its transpose, written $A^{T} \\in \\mathbb{R}^{n \\times m}$, is the $n \\times m$ matrix whose entries are given by\n",
        "\n",
        "$$\n",
        "\\left(A^{T}\\right)_{i j}=A_{j i}\n",
        "$$\n",
        "\n",
        "We have in fact already been using the transpose when describing row vectors, since the transpose of a column vector is naturally a row vector.\n",
        "\n",
        "The following properties of transposes are easily verified:\n",
        "\n",
        "\n",
        "$\\left(A^{T}\\right)^{T}=A$\n",
        "\n",
        "$(A B)^{T}=B^{T} A^{T}$\n",
        "\n",
        "$(A+B)^{T}=A^{T}+B^{T}$\n",
        "\n"
      ],
      "id": "14d6f8fa"
    },
    {
      "cell_type": "code",
      "execution_count": null,
      "metadata": {
        "id": "c15f7952",
        "outputId": "9968143f-b481-465d-ec7f-c8a420b1eace",
        "colab": {
          "base_uri": "https://localhost:8080/"
        }
      },
      "outputs": [
        {
          "output_type": "stream",
          "name": "stdout",
          "text": [
            "[[ True  True  True]\n",
            " [ True  True  True]]\n",
            "[[ True  True]\n",
            " [ True  True]]\n",
            "[[ True  True]\n",
            " [ True  True]\n",
            " [ True  True]]\n"
          ]
        }
      ],
      "source": [
        "import numpy as np\n",
        "\n",
        "# Define a matrix A\n",
        "A = np.array([[1, 2, 3], [4, 5, 6]])\n",
        "\n",
        "# Compute the transpose of A\n",
        "A_T = A.T\n",
        "\n",
        "# Verify that (A^T)^T = A\n",
        "print((A_T).T == A)  # Output: [[ True  True  True]\n",
        "                     #          [ True  True  True]]\n",
        "\n",
        "# Define a matrix B\n",
        "B = np.array([[7, 8], [9, 10], [11, 12]])\n",
        "\n",
        "# Compute the product AB and its transpose\n",
        "AB = np.dot(A, B)\n",
        "AB_T = AB.T\n",
        "\n",
        "# Verify that (AB)^T = B^T A^T\n",
        "print(AB_T == np.dot(B.T, A.T))  # Output: [[ True  True]\n",
        "                                  #          [ True  True]]\n",
        "\n",
        "# Define a matrix C\n",
        "C = np.array([[4, 5, 6], [7, 8, 9]])\n",
        "\n",
        "# Compute the sum A + C and its transpose\n",
        "A_plus_C = A + C\n",
        "A_plus_C_T = A_plus_C.T\n",
        "\n",
        "# Verify that (A+C)^T = A^T + C^T\n",
        "print(A_plus_C_T == A_T + C.T)  # Output: [[ True  True]\n",
        "                                #          [ True  True]\n",
        "                                #          [ True  True]]\n"
      ],
      "id": "c15f7952"
    },
    {
      "cell_type": "markdown",
      "metadata": {
        "id": "77e367d2"
      },
      "source": [
        "<h2 id=\"hid1\" class=\"section\">3.3 Symmetric Matrices</h2>\n",
        "\n",
        "A square matrix $A \\in \\mathbb{R}^{n \\times n}$ is symmetric if $A=A^{T}$. It is anti-symmetric if $A=-A^{T}$. It is easy to show that for any matrix $A \\in \\mathbb{R}^{n \\times n}$, the matrix $A+A^{T}$ is symmetric and the\n",
        "\n",
        "matrix $A−A^T$ is anti-symmetric. From this it follows that any square matrix $A \\in \\mathbb{R}^{n \\times n}$ can\n",
        "be represented as a sum of a symmetric matrix and an anti-symmetric matrix, since\n",
        "\n",
        "$$\n",
        "A = \\frac{1}{2}(A + A^T) + \\frac{1}{2}(A - A^T)\n",
        "$$\n",
        "\n",
        "and the first matrix on the right is symmetric, while the second is anti-symmetric. It turns out\n",
        "that symmetric matrices occur a great deal in practice, and they have many nice properties\n",
        "which we will look at shortly. It is common to denote the set of all symmetric matrices of\n",
        "size n as $\\mathbb{S}^{n}$, so that $A \\in \\mathbb{S}^{n}$ means that A is a symmetric $n × n$ matrix;"
      ],
      "id": "77e367d2"
    },
    {
      "cell_type": "code",
      "execution_count": null,
      "metadata": {
        "id": "4abb3c39",
        "outputId": "c9382cb7-88e7-4c49-fd19-a24d39e6a1f1",
        "colab": {
          "base_uri": "https://localhost:8080/"
        }
      },
      "outputs": [
        {
          "output_type": "stream",
          "name": "stdout",
          "text": [
            "A:\n",
            " [[1 2 3]\n",
            " [2 4 5]\n",
            " [3 5 6]]\n",
            "B:\n",
            " [[ 0  1 -2]\n",
            " [-1  0  3]\n",
            " [ 2 -3  0]]\n",
            "A^T:\n",
            " [[1 2 3]\n",
            " [2 4 5]\n",
            " [3 5 6]]\n",
            "A - A^T:\n",
            " [[0 0 0]\n",
            " [0 0 0]\n",
            " [0 0 0]]\n",
            "B^T:\n",
            " [[ 0 -1  2]\n",
            " [ 1  0 -3]\n",
            " [-2  3  0]]\n",
            "B + B^T:\n",
            " [[0 0 0]\n",
            " [0 0 0]\n",
            " [0 0 0]]\n",
            "C:\n",
            " [[1 2 3]\n",
            " [4 5 6]\n",
            " [7 8 9]]\n",
            "D (symmetric):\n",
            " [[1. 3. 5.]\n",
            " [3. 5. 7.]\n",
            " [5. 7. 9.]]\n",
            "E (anti-symmetric):\n",
            " [[ 0. -1. -2.]\n",
            " [ 1.  0. -1.]\n",
            " [ 2.  1.  0.]]\n",
            "D + E:\n",
            " [[1. 2. 3.]\n",
            " [4. 5. 6.]\n",
            " [7. 8. 9.]]\n"
          ]
        }
      ],
      "source": [
        "import numpy as np\n",
        "\n",
        "# Create a symmetric matrix\n",
        "A = np.array([[1, 2, 3], [2, 4, 5], [3, 5, 6]])\n",
        "print(\"A:\\n\", A)\n",
        "\n",
        "# Create an anti-symmetric matrix\n",
        "B = np.array([[0, 1, -2], [-1, 0, 3], [2, -3, 0]])\n",
        "print(\"B:\\n\", B)\n",
        "\n",
        "# Verify properties of symmetric matrices\n",
        "print(\"A^T:\\n\", A.T)\n",
        "print(\"A - A^T:\\n\", A - A.T)\n",
        "\n",
        "# Verify properties of anti-symmetric matrices\n",
        "print(\"B^T:\\n\", B.T)\n",
        "print(\"B + B^T:\\n\", B + B.T)\n",
        "\n",
        "# Decompose any square matrix into a sum of a symmetric and an anti-symmetric matrix\n",
        "C = np.array([[1, 2, 3], [4, 5, 6], [7, 8, 9]])\n",
        "print(\"C:\\n\", C)\n",
        "D = 0.5 * (C + C.T)\n",
        "E = 0.5 * (C - C.T)\n",
        "print(\"D (symmetric):\\n\", D)\n",
        "print(\"E (anti-symmetric):\\n\", E)\n",
        "print(\"D + E:\\n\", D + E)\n"
      ],
      "id": "4abb3c39"
    },
    {
      "cell_type": "markdown",
      "metadata": {
        "id": "Az3EnmrJlWtc"
      },
      "source": [
        "<h2 id=\"hid1\" class=\"section\">3.4 Trace</h2>"
      ],
      "id": "Az3EnmrJlWtc"
    },
    {
      "cell_type": "code",
      "execution_count": null,
      "metadata": {
        "colab": {
          "base_uri": "https://localhost:8080/"
        },
        "id": "E8x3oBAzgDzv",
        "outputId": "e208afb4-d77d-4a05-c0f2-b6e3b46ceaff"
      },
      "outputs": [
        {
          "output_type": "stream",
          "name": "stdout",
          "text": [
            "[[0.95669874 0.0590586 ]\n",
            " [0.62266119 0.19641064]]\n"
          ]
        }
      ],
      "source": [
        "import numpy as np\n",
        "matrixsize = 2\n",
        "A = np.random.rand(matrixsize, matrixsize)\n",
        "print(A)"
      ],
      "id": "E8x3oBAzgDzv"
    },
    {
      "cell_type": "markdown",
      "source": [
        "Here, we define a function trace() that takes in a square matrix as an argument. We initialize a variable sum to 0, then loop over the diagonal elements of the matrix (where row index is equal to column index), adding them to sum. Finally, we return sum, which represents the trace of the matrix."
      ],
      "metadata": {
        "id": "6LVLWB8zlI_q"
      },
      "id": "6LVLWB8zlI_q"
    },
    {
      "cell_type": "code",
      "source": [
        "def trace(matrix):\n",
        "    \"\"\"\n",
        "    This function takes in a square matrix and returns its trace.\n",
        "    \"\"\"\n",
        "    n = len(matrix)\n",
        "    sum = 0\n",
        "    for i in range(n):\n",
        "        sum += matrix[i][i]\n",
        "    return sum\n",
        "trace(A)"
      ],
      "metadata": {
        "id": "r6Yz33e9hdRI",
        "colab": {
          "base_uri": "https://localhost:8080/"
        },
        "outputId": "944aa97b-2375-472f-811e-4edd439d678b"
      },
      "execution_count": null,
      "outputs": [
        {
          "output_type": "execute_result",
          "data": {
            "text/plain": [
              "1.1531093799321912"
            ]
          },
          "metadata": {},
          "execution_count": 9
        }
      ],
      "id": "r6Yz33e9hdRI"
    },
    {
      "cell_type": "markdown",
      "source": [
        "Verify if we obtain the trace or not"
      ],
      "metadata": {
        "id": "Q8SKdMdGl3-R"
      },
      "id": "Q8SKdMdGl3-R"
    },
    {
      "cell_type": "code",
      "source": [
        "np.trace(A)"
      ],
      "metadata": {
        "colab": {
          "base_uri": "https://localhost:8080/"
        },
        "id": "KPsWbP7HyYGe",
        "outputId": "466e0d7a-0884-4813-af9d-f6dfe01aa3c9"
      },
      "execution_count": null,
      "outputs": [
        {
          "output_type": "execute_result",
          "data": {
            "text/plain": [
              "1.1531093799321912"
            ]
          },
          "metadata": {},
          "execution_count": 10
        }
      ],
      "id": "KPsWbP7HyYGe"
    },
    {
      "cell_type": "markdown",
      "metadata": {
        "id": "ncxEYnkdl_3S"
      },
      "source": [
        "<h2 id=\"hid1\" class=\"section\">3.5 Norms</h2>"
      ],
      "id": "ncxEYnkdl_3S"
    },
    {
      "cell_type": "markdown",
      "source": [
        "# یک ماتریس مشخص تعریف کرده و برای هر سه نوع نرم گفته شده مقدار نرم را محاسبه کنید"
      ],
      "metadata": {
        "id": "xGTK9c_ZmWJV"
      },
      "id": "xGTK9c_ZmWJV"
    },
    {
      "cell_type": "markdown",
      "source": [
        "<h1 id=\"hid1\" class=\"section\">Prepared by Nadia Yazdani</h1>\n",
        "\n",
        "Reference:\n",
        "\n",
        "Convex Optimization</br>\n",
        "S. Boyd / L. Vandenberghe</br>\n",
        "2004</br>\n",
        "link:\n",
        "https://ds.amu.edu.et/xmlui/bitstream/handle/123456789/10327/convex%20optimization%20%282004%29.pdf?sequence=2&isAllowed=y </br>\n",
        "\n",
        "\n",
        "Reference code:\n",
        "\n",
        "https://numpy.org/doc/stable/reference/generated/numpy.linalg.matrix_rank.html</br>\n",
        "https://www.geeksforgeeks.org/how-to-calculate-the-determinant-of-a-matrix-using-numpy/</br>\n",
        "\n",
        "\n"
      ],
      "metadata": {
        "id": "TGETfb8KUTHO"
      },
      "id": "TGETfb8KUTHO"
    },
    {
      "cell_type": "markdown",
      "metadata": {
        "id": "wwWIgNXJmKu0"
      },
      "source": [
        "<h2 id=\"hid1\" class=\"section\">3.6 Linear Independence and Rank</h2>"
      ],
      "id": "wwWIgNXJmKu0"
    },
    {
      "cell_type": "markdown",
      "source": [
        "\n",
        "A set of vectors $\\left\\{x_1, x_2, \\ldots x_n\\right\\} \\subset \\mathbb{R}^m$ is said to be (linearly) independent if no vector can be represented as a linear combination of the remaining vectors. Conversely, if one vector belonging to the set can be represented as a linear combination of the remaining vectors, then the vectors are said to be (linearly) dependent. That is, if\n",
        "\n",
        "\n",
        "$$\n",
        "x_n=\\sum_{i=1}^{n-1} \\alpha_i x_i\n",
        "$$\n",
        "\n",
        "\n",
        "\n",
        "for some scalar values $\\alpha_1, \\ldots, \\alpha_{n-1} \\in \\mathbb{R}$, then we say that the vectors $x_1, \\ldots, x_n$ are linearly dependent; otherwise, the vectors are linearly independent. For example, the vectors\n",
        "\n",
        "\n",
        "$$\n",
        "x_1=\\left[\\begin{array}{l}\n",
        "1 \\\\\n",
        "2 \\\\\n",
        "3\n",
        "\\end{array}\\right] \\quad x_2=\\left[\\begin{array}{l}\n",
        "4 \\\\\n",
        "1 \\\\\n",
        "5\n",
        "\\end{array}\\right] \\quad x_3=\\left[\\begin{array}{c}\n",
        "2 \\\\\n",
        "-3 \\\\\n",
        "-1\n",
        "\\end{array}\\right]\n",
        "$$\n",
        "\n",
        "\n",
        "\n",
        "are linearly dependent because $x_3=-2 x_1+x_2$."
      ],
      "metadata": {
        "id": "Mfn3wnq9MBRL"
      },
      "id": "Mfn3wnq9MBRL"
    },
    {
      "cell_type": "markdown",
      "source": [
        "Here's two Python program to check whether three vectors are linearly independent:"
      ],
      "metadata": {
        "id": "NScDbfhAmMMF"
      },
      "id": "NScDbfhAmMMF"
    },
    {
      "cell_type": "code",
      "source": [
        "import numpy as np\n",
        "\n",
        "vec1 = [[1, 2, 3], [4, 1, 5], [2, -3, -1]]\n",
        "vec2 = [[1, 0, 0], [0, 1, 0], [0, 0, 1]]\n",
        "vec3 = np.array([[1, 2, 3], [4, 5, 6], [7, 8, 9]])\n",
        "\n",
        "det = np.linalg.det(vec1)\n",
        "\n",
        "if det != 0:\n",
        "    print(\"The vectors are linearly independent.\")\n",
        "else:\n",
        "    print(\"The vectors are linearly dependent.\")"
      ],
      "metadata": {
        "id": "BhWb9fJ-mDNs",
        "colab": {
          "base_uri": "https://localhost:8080/"
        },
        "outputId": "f74274f2-a633-4b63-cf1e-41779f8f3fdb"
      },
      "id": "BhWb9fJ-mDNs",
      "execution_count": null,
      "outputs": [
        {
          "output_type": "stream",
          "name": "stdout",
          "text": [
            "The vectors are linearly dependent.\n"
          ]
        }
      ]
    },
    {
      "cell_type": "markdown",
      "source": [
        "The column rank of a matrix  A∈Rm×n  is the size of the largest subset of columns of  A  that constitute a linearly independent set. With some abuse of terminology, this is often referred to simply as the number of linearly independent columns of  A . In the same way, the row rank is the largest number of rows of  A  that constitute a linearly independent set. For any matrix  A∈Rm×n , it turns out that the column rank of  A  is equal to the row rank of  A  (though we will not prove this), and so both quantities are referred to collectively as the  rank  of  A , denoted as  rank(A) . The following are some basic properties of the rank:"
      ],
      "metadata": {
        "id": "1b7RhrNJMU_G"
      },
      "id": "1b7RhrNJMU_G"
    },
    {
      "cell_type": "code",
      "source": [
        "import numpy as np\n",
        "#np.random.seed(1)\n",
        "A = np.random.randn(4,4)\n",
        "print(A)"
      ],
      "metadata": {
        "id": "0paRLqdtMMfb",
        "colab": {
          "base_uri": "https://localhost:8080/"
        },
        "outputId": "c5219640-dea1-4149-bb9e-090d92978a26"
      },
      "id": "0paRLqdtMMfb",
      "execution_count": null,
      "outputs": [
        {
          "output_type": "stream",
          "name": "stdout",
          "text": [
            "[[-0.06767558 -0.32407059  0.90927728 -0.11316722]\n",
            " [ 0.89226713  0.29623876 -0.01686496  0.65504037]\n",
            " [ 0.70201158 -0.44192774 -0.35728972  1.34230595]\n",
            " [ 0.8613051   0.1825758  -1.33200346 -0.25348065]]\n"
          ]
        }
      ]
    },
    {
      "cell_type": "code",
      "source": [
        "\n",
        "A = np.array([[1, 4, 2],\n",
        "              [2, 1, -3],\n",
        "              [3, 5, -1]])"
      ],
      "metadata": {
        "id": "Vq0rFlhIMNuh"
      },
      "id": "Vq0rFlhIMNuh",
      "execution_count": null,
      "outputs": []
    },
    {
      "cell_type": "code",
      "source": [
        "# Find the rank of the matrix\n",
        "rank = np.linalg.matrix_rank(A)\n",
        "\n",
        "# Print the rank\n",
        "print(\"Rank of matrix A is:\", rank)"
      ],
      "metadata": {
        "id": "LJtobQsHMV-X",
        "colab": {
          "base_uri": "https://localhost:8080/"
        },
        "outputId": "2a2cd54d-7f06-495f-e9e2-16ec4f996089"
      },
      "id": "LJtobQsHMV-X",
      "execution_count": null,
      "outputs": [
        {
          "output_type": "stream",
          "name": "stdout",
          "text": [
            "Rank of matrix A is: 2\n"
          ]
        }
      ]
    },
    {
      "cell_type": "markdown",
      "source": [
        "In this example, we use the NumPy 'matrix_rank' function to find the rank of the matrix  A . The function returns an integer value that represents the rank of the matrix. In this case, the rank of  A  is 2, which means that there are two linearly independent rows in the matrix."
      ],
      "metadata": {
        "id": "9zpY02zTMZSv"
      },
      "id": "9zpY02zTMZSv"
    },
    {
      "cell_type": "code",
      "source": [
        "import numpy as np\n",
        "\n",
        "# Define a 3x3 full-rank matrix\n",
        "A = np.array([[1, 0, 0],\n",
        "              [0, 2, 0],\n",
        "              [0, 0, 3]])\n",
        "\n",
        "# Check if the matrix is full rank\n",
        "if np.linalg.matrix_rank(A) == A.shape[0]:\n",
        "    print(\"Matrix A is full rank!\")\n",
        "else:\n",
        "    print(\"Matrix A is not full rank.\")"
      ],
      "metadata": {
        "id": "pHtN3_lVMbXv",
        "colab": {
          "base_uri": "https://localhost:8080/"
        },
        "outputId": "34fc9c25-15a9-4120-a7cd-cc360a6b2d1b"
      },
      "id": "pHtN3_lVMbXv",
      "execution_count": null,
      "outputs": [
        {
          "output_type": "stream",
          "name": "stdout",
          "text": [
            "Matrix A is full rank!\n"
          ]
        }
      ]
    },
    {
      "cell_type": "markdown",
      "source": [
        "In this example, we define a 3x3 matrix  A  that has linearly independent rows and columns. We then use the 'matrix_rank' function from NumPy to check if the rank of the matrix is equal to the number of rows in the matrix. If the rank is equal to the number of rows, then the matrix is full rank."
      ],
      "metadata": {
        "id": "2bvAPrDXMdb8"
      },
      "id": "2bvAPrDXMdb8"
    },
    {
      "cell_type": "code",
      "source": [
        "import numpy as np\n",
        "\n",
        "# Define a 3x3 non-full-rank matrix\n",
        "A = np.array([[1, 2, 3],\n",
        "              [14, 16, 18],\n",
        "              [7, 8, 9]])\n",
        "\n",
        "# Check if the matrix is full rank\n",
        "if np.linalg.matrix_rank(A) == A.shape[0]:\n",
        "    print(\"Matrix A is full rank!\")\n",
        "else:\n",
        "    print(\"Matrix A is not full rank.\")"
      ],
      "metadata": {
        "id": "ADaPt0LBMgzw",
        "colab": {
          "base_uri": "https://localhost:8080/"
        },
        "outputId": "a19f59f0-72e7-4a65-f076-1422805951e7"
      },
      "id": "ADaPt0LBMgzw",
      "execution_count": null,
      "outputs": [
        {
          "output_type": "stream",
          "name": "stdout",
          "text": [
            "Matrix A is not full rank.\n"
          ]
        }
      ]
    },
    {
      "cell_type": "markdown",
      "source": [
        "In this example, we define a 3x3 matrix  A  that has linearly dependent rows (i.e., the third row is equal to the second row). We use the 'matrix_rank' function from NumPy to check if the rank of the matrix is equal to the number of rows in the matrix. If the rank is less than the number of rows, then the matrix is not full rank"
      ],
      "metadata": {
        "id": "jHYUGoW4MjOG"
      },
      "id": "jHYUGoW4MjOG"
    },
    {
      "cell_type": "markdown",
      "source": [
        "- For $A \\in \\mathbb{R}^{m \\times n}, \\operatorname{rank}(A)=\\operatorname{rank}\\left(A^T\\right)$.\n"
      ],
      "metadata": {
        "id": "F6m2ZXKQMvDW"
      },
      "id": "F6m2ZXKQMvDW"
    },
    {
      "cell_type": "code",
      "source": [
        "import numpy as np\n",
        "\n",
        "\n",
        "A = np.array([[1, 2, 3], [4, 5, 6], [7, 8, 9]])\n",
        "\n",
        "rank_A = np.linalg.matrix_rank(A)\n",
        "rank_AT = np.linalg.matrix_rank(A.T)\n",
        "\n",
        "if rank_A == rank_AT:\n",
        "    print(\"The ranks of A and A^T are equal.\")\n",
        "else:\n",
        "    print(\"The ranks of A and A^T are not equal.\")"
      ],
      "metadata": {
        "id": "s-LwzYhiMyBo",
        "colab": {
          "base_uri": "https://localhost:8080/"
        },
        "outputId": "345d928c-153a-4bce-e9d2-b4af91162e68"
      },
      "id": "s-LwzYhiMyBo",
      "execution_count": null,
      "outputs": [
        {
          "output_type": "stream",
          "name": "stdout",
          "text": [
            "The ranks of A and A^T are equal.\n"
          ]
        }
      ]
    },
    {
      "cell_type": "markdown",
      "source": [
        "- For $A \\in \\mathbb{R}^{m \\times n}, B \\in \\mathbb{R}^{n \\times p}, \\operatorname{rank}(A B) \\leq \\min (\\operatorname{rank}(A), \\operatorname{rank}(B))$.\n"
      ],
      "metadata": {
        "id": "nkZGTr2aM0WS"
      },
      "id": "nkZGTr2aM0WS"
    },
    {
      "cell_type": "code",
      "source": [
        "import numpy as np\n",
        "\n",
        "A = np.array([[1, 0, 1],\n",
        "              [2, 1, 9],\n",
        "              [0, 1, 2]])\n",
        "\n",
        "B = np.array([[0, 1, 1],\n",
        "              [4, 3, 4],\n",
        "              [6, 9, 3]])\n",
        "\n",
        "rank_A = np.linalg.matrix_rank(A)\n",
        "rank_B = np.linalg.matrix_rank(B)\n",
        "\n",
        "AB = np.dot(A, B)\n",
        "rank_AB = np.linalg.matrix_rank(AB)\n",
        "\n",
        "if rank_AB <= min(rank_A, rank_B):\n",
        "    print(\"True\")\n",
        "else:\n",
        "    print(\"False\")"
      ],
      "metadata": {
        "id": "aXMq6rPjM2WO",
        "colab": {
          "base_uri": "https://localhost:8080/"
        },
        "outputId": "09e970db-c68d-4bb5-d39d-33d1ceeb4d7d"
      },
      "id": "aXMq6rPjM2WO",
      "execution_count": null,
      "outputs": [
        {
          "output_type": "stream",
          "name": "stdout",
          "text": [
            "True\n"
          ]
        }
      ]
    },
    {
      "cell_type": "markdown",
      "source": [
        "- For $A, B \\in \\mathbb{R}^{m \\times n}, \\operatorname{rank}(A+B) \\leq \\operatorname{rank}(A)+\\operatorname{rank}(B)$."
      ],
      "metadata": {
        "id": "HCQhkGxZM4YZ"
      },
      "id": "HCQhkGxZM4YZ"
    },
    {
      "cell_type": "code",
      "source": [
        "import numpy as np\n",
        "\n",
        "A = np.array([[1, 0, 1],\n",
        "              [2, 1, 9],\n",
        "              [0, 1, 2]])\n",
        "\n",
        "B = np.array([[0, 1, 1],\n",
        "              [4, 3, 4],\n",
        "              [6, 9, 3]])\n",
        "\n",
        "rank_A = np.linalg.matrix_rank(A)\n",
        "rank_B = np.linalg.matrix_rank(B)\n",
        "rank_AB = np.linalg.matrix_rank(A + B)\n",
        "\n",
        "if rank_AB <= min(rank_A, rank_B):\n",
        "    print(\"True\")\n",
        "else:\n",
        "    print(\"False\")"
      ],
      "metadata": {
        "id": "WCfGJUDUM52i",
        "colab": {
          "base_uri": "https://localhost:8080/"
        },
        "outputId": "aac9aa0c-320c-4a67-c910-a224ec86ecf5"
      },
      "id": "WCfGJUDUM52i",
      "execution_count": null,
      "outputs": [
        {
          "output_type": "stream",
          "name": "stdout",
          "text": [
            "True\n"
          ]
        }
      ]
    },
    {
      "cell_type": "markdown",
      "source": [
        "<h1 id=\"hid1\" class=\"section\">Prepared by Leila Asadzadeh</h1>\n",
        "\n",
        "Reference:\n",
        "\n",
        "Convex Optimization</br>\n",
        "S. Boyd / L. Vandenberghe</br>\n",
        "2004</br>\n",
        "link:\n",
        "https://ds.amu.edu.et/xmlui/bitstream/handle/123456789/10327/convex%20optimization%20%282004%29.pdf?sequence=2&isAllowed=y </br>\n"
      ],
      "metadata": {
        "id": "2It8gaBr7SjF"
      },
      "id": "2It8gaBr7SjF"
    },
    {
      "cell_type": "markdown",
      "metadata": {
        "id": "SsirwqVTmK1Z"
      },
      "source": [
        "<h2 id=\"hid1\" class=\"section\">3.7 The Inverse</h2>"
      ],
      "id": "SsirwqVTmK1Z"
    },
    {
      "cell_type": "markdown",
      "source": [
        "The inverse of a square matrix $A \\in R^{n \\times n}$ is denoted $A^{−1}$, and is the unique matrix such\n",
        "that\n",
        "\n",
        "$$A^{−1}A = I = AA^{−1}$$\n",
        "\n",
        "Note that not all matrices have inverses. Non-square matrices, for example, do not have inverses by definition. However, for some square matrices $A$, it may still be the case that $A^{−1}$ may not exist. In particular, we say that $A$ is invertible or non-singular if $A^{−1}$ exists and non-invertible or singular otherwise.\n",
        "\n",
        "In order for a square matrix $A$ to have an inverse $A^{−1}$, then $A$ must be full rank. We will soon see that there are many alternative sufficient and necessary conditions, in addition to full rank, for invertibility.\n",
        "The following are properties of the inverse; all assume that $A, B \\in R^{n \\times n}$ are non-singular:\n",
        "\n",
        "$\\bullet\\quad (A^{−1})^{−1} = A$\n",
        "\n",
        "$\\bullet\\quad (AB)^{−1} = B^{−1}A^{−1}$\n",
        "\n",
        "$\\bullet\\quad (A^{−1})^T = (A^T)^{−1}$. For this reason this matrix is often denoted $A^{−T}$.\n",
        "\n",
        "As an example of how the inverse is used, consider the linear system of equations, $Ax = b$ where $A \\in R^{n \\times n}$, and $x$, $b \\in R^{n}$. If $A$ is non-singular (i.e., invertible), then $x = A^{−1}b$. (What if $A \\in R^{m \\times n}$\n",
        "is not a square matrix? Does this work?)\n",
        "\n"
      ],
      "metadata": {
        "id": "oNWvlU2V4HoS"
      },
      "id": "oNWvlU2V4HoS"
    },
    {
      "cell_type": "code",
      "source": [
        "import numpy as np\n",
        "size=4\n",
        "\n",
        "A = np.array([[1, 3, 5, 7, 9], [2, 4, 6, 8, 10]])\n",
        "B = np.random.rand(size, size)\n",
        "\n",
        "\n",
        "if A.shape[0] != A.shape[1] :\n",
        "    print ( \"matrix is non-invertible!\")\n",
        "else:\n",
        "    print(np.linalg.inv(A))\n",
        "\n",
        "if B.shape[0] != B.shape[1] :\n",
        "    print ( \"non-invertible!\")\n",
        "else:\n",
        "    print ( \"The inverse is:\")\n",
        "    print(np.linalg.inv(B))"
      ],
      "metadata": {
        "colab": {
          "base_uri": "https://localhost:8080/"
        },
        "id": "oeQm6WST4LzX",
        "outputId": "52592e3f-e1d4-4ecb-fa24-8047c35a7218"
      },
      "execution_count": null,
      "outputs": [
        {
          "output_type": "stream",
          "name": "stdout",
          "text": [
            "matrix is non-invertible!\n",
            "The inverse is:\n",
            "[[-0.96351922 -1.26084487  0.51205882  1.38539953]\n",
            " [ 1.36502943  0.59233662  1.46797681 -1.93167774]\n",
            " [ 1.36626257 -2.67036828 -2.94837852  2.94332831]\n",
            " [-1.83694139  3.18980914  1.34533657 -1.26253841]]\n"
          ]
        }
      ],
      "id": "oeQm6WST4LzX"
    },
    {
      "cell_type": "code",
      "source": [
        "# property 1\n",
        "import numpy as np\n",
        "\n",
        "size=2\n",
        "A = np.random.rand(size, size)\n",
        "\n",
        "print(A)\n",
        "if A.shape[0] != A.shape[1] :\n",
        "    print ( \"non-invertible!\")\n",
        "else:\n",
        "    print(np.linalg.inv(A))\n",
        "    print(np.dot(A,np.linalg.inv(A)).astype('int'))\n",
        "    print(np.linalg.inv(np.linalg.inv(A)))"
      ],
      "metadata": {
        "colab": {
          "base_uri": "https://localhost:8080/"
        },
        "id": "mwWUcLB34PaY",
        "outputId": "ffa1bd41-eddf-4268-8061-37724821c980"
      },
      "execution_count": null,
      "outputs": [
        {
          "output_type": "stream",
          "name": "stdout",
          "text": [
            "[[0.54132256 0.30452901]\n",
            " [0.49866874 0.09664838]]\n",
            "[[-0.97093894  3.05932779]\n",
            " [ 5.00967433 -5.43817866]]\n",
            "[[1 0]\n",
            " [0 1]]\n",
            "[[0.54132256 0.30452901]\n",
            " [0.49866874 0.09664838]]\n"
          ]
        }
      ],
      "id": "mwWUcLB34PaY"
    },
    {
      "cell_type": "code",
      "source": [
        "# property 2\n",
        "import numpy as np\n",
        "A = np.array([[7, 9], [8, 10]])\n",
        "B = np.array([[1, 2], [3, 4]])\n",
        "\n",
        "if A.shape[0] != A.shape[1] & B.shape[0] != B.shape[1]:\n",
        "    print ( \"non-invertible!\")\n",
        "else:\n",
        "    print(np.linalg.inv(np.dot(A,B)))\n",
        "    print(np.dot(np.linalg.inv(B),np.linalg.inv(A)))\n",
        "    print(np.linalg.inv(np.dot(A,B)).astype('float16') == np.dot(np.linalg.inv(B),np.linalg.inv(A)).astype('float16'))"
      ],
      "metadata": {
        "colab": {
          "base_uri": "https://localhost:8080/"
        },
        "id": "XwOGOnK-4Sk7",
        "outputId": "2559c1e5-8670-4006-9294-77e114da624b"
      },
      "execution_count": null,
      "outputs": [
        {
          "output_type": "stream",
          "name": "stdout",
          "text": [
            "[[ 14.  -12.5]\n",
            " [ -9.5   8.5]]\n",
            "[[ 14.  -12.5]\n",
            " [ -9.5   8.5]]\n",
            "[[ True  True]\n",
            " [ True  True]]\n"
          ]
        }
      ],
      "id": "XwOGOnK-4Sk7"
    },
    {
      "cell_type": "code",
      "source": [
        "# property 3\n",
        "import numpy as np\n",
        "A = np.array([[1, 2], [3, 4]])\n",
        "\n",
        "print(A)\n",
        "if A.shape[0] != A.shape[1] :\n",
        "    print ( \"non-invertible!\")\n",
        "else:\n",
        "    print(np.transpose(np.linalg.inv(A)))\n",
        "    print(np.linalg.inv(np.transpose(A)))"
      ],
      "metadata": {
        "colab": {
          "base_uri": "https://localhost:8080/"
        },
        "id": "u4ky3fWb4Vfi",
        "outputId": "f01c1be4-8f3a-43d9-c92a-acac51f31d89"
      },
      "execution_count": null,
      "outputs": [
        {
          "output_type": "stream",
          "name": "stdout",
          "text": [
            "[[1 2]\n",
            " [3 4]]\n",
            "[[-2.   1.5]\n",
            " [ 1.  -0.5]]\n",
            "[[-2.   1.5]\n",
            " [ 1.  -0.5]]\n"
          ]
        }
      ],
      "id": "u4ky3fWb4Vfi"
    },
    {
      "cell_type": "markdown",
      "source": [
        "<h1 id=\"hid1\" class=\"section\">Prepared by Nadia Yazdani</h1>\n",
        "\n",
        "Reference:\n",
        "\n",
        "Convex Optimization</br>\n",
        "S. Boyd / L. Vandenberghe</br>\n",
        "2004</br>\n",
        "link:\n",
        "https://ds.amu.edu.et/xmlui/bitstream/handle/123456789/10327/convex%20optimization%20%282004%29.pdf?sequence=2&isAllowed=y </br>\n",
        "\n",
        "Code reference:\n",
        "\n",
        "https://www.geeksforgeeks.org/how-to-calculate-the-determinant-of-a-matrix-using-numpy/</br>\n",
        "\n",
        "\n"
      ],
      "metadata": {
        "id": "AkIWXkDtUZaP"
      },
      "id": "AkIWXkDtUZaP"
    },
    {
      "cell_type": "markdown",
      "metadata": {
        "id": "izfXq8-bmLHv"
      },
      "source": [
        "<h2 id=\"hid1\" class=\"section\">3.10  The Determinant\n",
        "</h2>"
      ],
      "id": "izfXq8-bmLHv"
    },
    {
      "cell_type": "markdown",
      "source": [
        "The determinant of a square matrix $A \\in \\mathbb{R}^{n \\times n}$, is a function det : $\\mathbb{R}^{n \\times n} \\rightarrow \\mathbb{R}$, and is denoted $|A|$ or $\\operatorname{det} A$ (like the trace operator, we usually omit parentheses). Algebraically, one could write down an explicit formula for the determinant of $A$, but this unfortunately gives little intuition about its meaning. Instead, we'll start out by providing a geometric interpretation of the determinant and then visit some of its specific algebraic properties afterwards.\n",
        "Given a matrix\n",
        "$$\n",
        "\\left[\\begin{array}{ccc}\n",
        "- & a_1^T & - \\\\\n",
        "- & a_2^T & - \\\\\n",
        "& \\vdots & \\\\\n",
        "- & a_n^T & -\n",
        "\\end{array}\\right]\n",
        "$$\n",
        "consider the set of points $S \\subset \\mathbb{R}^n$ formed by taking all possible linear combinations of the row vectors $a_1, \\ldots, a_n \\in \\mathbb{R}^n$ of $A$, where the coefficients of the linear combination are all between 0 and 1 ; that is, the set $S$ is the restriction of $\\operatorname{span}\\left(\\left\\{a_1, \\ldots, a_n\\right\\}\\right)$ to only those linear combinations whose coefficients $\\alpha_1, \\ldots, \\alpha_n$ satisfy $0 \\leq \\alpha_i \\leq 1, i=1, \\ldots, n$. Formally,\n",
        "$$\n",
        "S=\\left\\{v \\in \\mathbb{R}^n: v=\\sum_{i=1}^n \\alpha_i a_i \\text { where } 0 \\leq \\alpha_i \\leq 1, i=1, \\ldots, n\\right\\} .\n",
        "$$\n",
        "The absolute value of the determinant of $A$, it turns out, is a measure of the \"volume\" of the set $S .^2$\n",
        "For example, consider the $2 \\times 2$ matrix,\n",
        "$$\n",
        "A=\\left[\\begin{array}{ll}\n",
        "1 & 3 \\\\\n",
        "3 & 2\n",
        "\\end{array}\\right]\n",
        "$$\n",
        "Here, the rows of the matrix are\n",
        "$$\n",
        "a_1=\\left[\\begin{array}{l}\n",
        "1 \\\\\n",
        "3\n",
        "\\end{array}\\right] \\quad a_2=\\left[\\begin{array}{l}\n",
        "3 \\\\\n",
        "2\n",
        "\\end{array}\\right]\n",
        "$$\n",
        "The set $S$ corresponding to these rows is shown in Figure 1. For two-dimensional matrices, $S$ generally has the shape of a parallelogram. In our example, the value of the determinant is $|A|=-7$ (as can be computed using the formulas shown later in this section), so the area of the parallelogram is 7. (Verify this for yourself!)\n",
        "\n",
        "In three dimensions, the set $S$ corresponds to an object known as a parallelepiped (a threedimensional box with skewed sides, such that every face has the shape of a parallelogram). The absolute value of the determinant of the $3 \\times 3$ matrix whose rows define $S$ give the three-dimensional volume of the parallelepiped. In even higher dimensions, the set $S$ is an object known as an $n$-dimensional parallelotope.\n"
      ],
      "metadata": {
        "id": "29pQpABUQA2F"
      },
      "id": "29pQpABUQA2F"
    },
    {
      "cell_type": "markdown",
      "source": [
        "\n",
        "Algebraically, the determinant satisfies the following three properties (from which all other properties follow, including the general formula):\n",
        "1. The determinant of the identity is $1,|I|=1$. (Geometrically, the volume of a unit hypercube is 1 ).\n",
        "2. Given a matrix $A \\in \\mathbb{R}^{n \\times n}$, if we multiply a single row in $A$ by a scalar $t \\in \\mathbb{R}$, then the determinant of the new matrix is $t|A|$,\n",
        "$$\n",
        "\\left|\\left[\\begin{array}{ccc}\n",
        "- & t a_1^T & - \\\\\n",
        "- & a_2^T & - \\\\\n",
        "& \\vdots & \\\\\n",
        "- & a_m^T & -\n",
        "\\end{array}\\right]\\right|=t|A| .\n",
        "$$\n",
        "(Geometrically, multiplying one of the sides of the set $S$ by a factor $t$ causes the volume to increase by a factor $t$.)\n",
        "3. If we exchange any two rows $a_i^T$ and $a_j^T$ of $A$, then the determinant of the new matrix is $-|A|$, for example\n",
        "$$\n",
        "\\left|\\left[\\begin{array}{ccc}\n",
        "- & a_2^T & - \\\\\n",
        "- & a_1^T & - \\\\\n",
        "& \\vdots & \\\\\n",
        "- & a_m^T & -\n",
        "\\end{array}\\right]\\right|=-|A| .\n",
        "$$\n",
        "In case you are wondering, it is not immediately obvious that a function satisfying the above three properties exists. In fact, though, such a function does exist, and is unique (which we will not prove here)."
      ],
      "metadata": {
        "id": "iZaFezcnQJR3"
      },
      "id": "iZaFezcnQJR3"
    },
    {
      "cell_type": "markdown",
      "source": [
        "First we calculate eterminant of a matrix. The determinant of a matrix is a scalar value that can be computed from the elements of the matrix. It is a fundamental concept in linear algebra and has numerous applications in mathematics, science, and engineering. The determinant of a matrix is defined recursively in terms of the determinants of its submatrices. Specifically, the determinant of a 2x2 matrix is the product of its diagonal elements minus the product of its off-diagonal elements. For larger matrices, the Laplace expansion or cofactor expansion method is commonly used to calculate the determinant. The determinant can be either positive, negative, or zero, and the sign of the determinant plays an important role in various applications, such as determining the orientation of a set of vectors or the chirality of a molecule."
      ],
      "metadata": {
        "id": "J-ud3zm-QWEl"
      },
      "id": "J-ud3zm-QWEl"
    },
    {
      "cell_type": "code",
      "source": [
        "def determinant(matrix):\n",
        "    \"\"\"Calculates the determinant of a square matrix.\"\"\"\n",
        "    n = len(matrix)\n",
        "    if n == 1:\n",
        "        # base case\n",
        "        return matrix[0][0]\n",
        "    elif n == 2:\n",
        "        # base case\n",
        "        return matrix[0][0] * matrix[1][1] - matrix[0][1] * matrix[1][0]\n",
        "    else:\n",
        "        # recursive case\n",
        "        det = 0\n",
        "        for j in range(n):\n",
        "            # calculate the minor of the (0, j) element\n",
        "            minor = [[matrix[i][k] for k in range(n) if k != j] for i in range(1, n)]\n",
        "            # calculate the cofactor of the (0, j) element\n",
        "            cofactor = (-1) ** j * determinant(minor)\n",
        "            # add the product of the (0, j) element and its cofactor to the determinant\n",
        "            det += matrix[0][j] * cofactor\n",
        "        return det"
      ],
      "metadata": {
        "id": "_C9en7-wQXfW"
      },
      "id": "_C9en7-wQXfW",
      "execution_count": null,
      "outputs": []
    },
    {
      "cell_type": "markdown",
      "source": [
        "The code uses the Laplace expansion to recursively calculate the determinant of the matrix. If the matrix is a 1x1 or 2x2 matrix, the determinant is calculated directly. Otherwise, the code loops over the first row of the matrix and calculates the cofactor of each element by calculating the determinant of its corresponding minor. The determinant of the matrix is then the sum of the product of each element in the first row and its corresponding cofactor."
      ],
      "metadata": {
        "id": "PnZCcMP2QgGA"
      },
      "id": "PnZCcMP2QgGA"
    },
    {
      "cell_type": "markdown",
      "source": [
        "We can also use the NumPy function 'np.linalg.det' to calculate the determinant. Here are examples of these two functions:"
      ],
      "metadata": {
        "id": "EK1kh1ldQi_U"
      },
      "id": "EK1kh1ldQi_U"
    },
    {
      "cell_type": "code",
      "source": [
        "import numpy as np\n",
        "np.random.seed(1)\n",
        "A = np.random.randn(5,5)\n",
        "print(np.linalg.det(A))\n",
        "print(determinant(A))"
      ],
      "metadata": {
        "id": "JEALDXVhQksV",
        "colab": {
          "base_uri": "https://localhost:8080/"
        },
        "outputId": "4677c119-f799-4f58-b77f-4ca30c5ae4a1"
      },
      "id": "JEALDXVhQksV",
      "execution_count": null,
      "outputs": [
        {
          "output_type": "stream",
          "name": "stdout",
          "text": [
            "0.990422171694092\n",
            "0.9904221716940915\n"
          ]
        }
      ]
    },
    {
      "cell_type": "markdown",
      "source": [
        "<h1 id=\"hid1\" class=\"section\">Prepared by:\n",
        "\n",
        "Mojtaba Mozhganfar: Eigenvalue test </br>\n",
        "Nadia Yazdani: Determinants test</br>\n",
        "Pivot test</br>\n",
        "</h1>\n",
        "\n",
        "References:\n",
        "\n",
        "Convex Optimization</br>\n",
        "S. Boyd / L. Vandenberghe</br>\n",
        "2004</br>\n",
        "link:\n",
        "https://ds.amu.edu.et/xmlui/bitstream/handle/123456789/10327/convex%20optimization%20%282004%29.pdf?sequence=2&isAllowed=y </br>\n",
        "\n",
        "Lecture 27: Positive definite matrices and minima</br>\n",
        "\n",
        "link:\n",
        "https://ocw.mit.edu/courses/18-06sc-linear-algebra-fall-2011/d163e012754258d3b374548504d8a18a_MIT18_06SCF11_Ses3.3sum.pdf </br>\n",
        "\n",
        "Code reference:\n",
        "\n",
        "https://stackoverflow.com/questions/16266720/find-out-if-matrix-is-positive-definite-with-numpy</br>\n",
        "\n",
        "\n"
      ],
      "metadata": {
        "id": "Xde_nkIZsl6G"
      },
      "id": "Xde_nkIZsl6G"
    },
    {
      "cell_type": "markdown",
      "metadata": {
        "id": "i6G3X4F-mLO3"
      },
      "source": [
        "<h2 id=\"hid1\" class=\"section\">3.11  Quadratic Forms and Positive Semidefinite Matrices</h2>"
      ],
      "id": "i6G3X4F-mLO3"
    },
    {
      "cell_type": "markdown",
      "source": [
        "## Question\n",
        "### **What are the four methods to determine a positive semidefinite matrices**\n",
        "#### Below is the four available methods:\n",
        "\n",
        "Given a symmetric two by two matrix $\\left[\\begin{array}{ll}a & b \\\\ b & c\\end{array}\\right]$, here is a way to tell if it's positive definite:"
      ],
      "metadata": {
        "id": "zg0trUnlpWt_"
      },
      "id": "zg0trUnlpWt_"
    },
    {
      "cell_type": "markdown",
      "source": [
        "1 -  **Eigenvalue test**\n",
        "\n",
        "here are one way to tell if it’s positive definite: $\\lambda_1 > 0, \\lambda_2 > 0.$"
      ],
      "metadata": {
        "id": "wVD3wLZJR8z3"
      },
      "id": "wVD3wLZJR8z3"
    },
    {
      "cell_type": "code",
      "source": [
        "import numpy as np\n",
        "\n",
        "A = np.array([[2, -1, 0],\n",
        "              [-1, 2, -1],\n",
        "              [0, -1, 2]])\n",
        "\n",
        "B = np.array([[1, 2, 3],\n",
        "              [4, 5, 6],\n",
        "              [7, 8, 9]])\n",
        "\n",
        "eigvalsA = np.linalg.eigvals(A)\n",
        "eigvalsB = np.linalg.eigvals(B)\n",
        "\n",
        "print(\"A eigvals are:\",eigvalsA)\n",
        "if np.all(eigvalsA > 0):\n",
        "    print(\"A is positive definite.\")\n",
        "else:\n",
        "    print(\"A is not positive definite.\")\n",
        "\n",
        "print(\"B eigvals are:\",eigvalsB)\n",
        "if np.all(eigvalsB > 0):\n",
        "    print(\"B is positive definite.\")\n",
        "else:\n",
        "    print(\"B is not positive definite.\")"
      ],
      "metadata": {
        "colab": {
          "base_uri": "https://localhost:8080/"
        },
        "id": "NbMnOPWeSJzI",
        "outputId": "d12200a3-aaa2-46b5-f08f-219bf5beb768"
      },
      "id": "NbMnOPWeSJzI",
      "execution_count": null,
      "outputs": [
        {
          "output_type": "stream",
          "name": "stdout",
          "text": [
            "A eigvals are: [3.41421356 2.         0.58578644]\n",
            "A is positive definite.\n",
            "B eigvals are: [ 1.61168440e+01 -1.11684397e+00 -1.30367773e-15]\n",
            "B is not positive definite.\n"
          ]
        }
      ]
    },
    {
      "cell_type": "markdown",
      "source": [
        "\n",
        "\n",
        "2- **Determinants test: $a>0, a c-b^2>0$.**\n",
        "\n"
      ],
      "metadata": {
        "id": "zHrkkid7Rqaz"
      },
      "id": "zHrkkid7Rqaz"
    },
    {
      "cell_type": "code",
      "source": [
        "import numpy as np\n",
        "matrixsize = 2\n",
        "A = np.random.rand(matrixsize, matrixsize)\n",
        "B = np.dot(A, A.transpose())\n",
        "print(B)"
      ],
      "metadata": {
        "id": "Xf4yFGevRwaX",
        "colab": {
          "base_uri": "https://localhost:8080/"
        },
        "outputId": "08f5d7f9-88aa-4615-aee8-05416af2ca4c"
      },
      "id": "Xf4yFGevRwaX",
      "execution_count": null,
      "outputs": [
        {
          "output_type": "stream",
          "name": "stdout",
          "text": [
            "[[0.21126422 0.22529856]\n",
            " [0.22529856 0.91175506]]\n"
          ]
        }
      ]
    },
    {
      "cell_type": "markdown",
      "source": [
        "For the case where the matrix is 2 by 2:"
      ],
      "metadata": {
        "id": "N4_hbIGkRz1e"
      },
      "id": "N4_hbIGkRz1e"
    },
    {
      "cell_type": "code",
      "source": [
        "\n",
        "def is_pos_def(matrix):\n",
        "  a = matrix[0, 0]\n",
        "  b = matrix[0, 1]\n",
        "  c = matrix[1, 1]\n",
        "\n",
        "  if a > 0 and a*c - b*b > 0:\n",
        "    return True\n",
        "  else:\n",
        "    return False\n",
        "\n",
        "is_pos_def(B)"
      ],
      "metadata": {
        "id": "DqyxUUOyR2GT",
        "colab": {
          "base_uri": "https://localhost:8080/"
        },
        "outputId": "00e0bcfe-209a-4ca3-8768-c6b044d006bf"
      },
      "id": "DqyxUUOyR2GT",
      "execution_count": null,
      "outputs": [
        {
          "output_type": "execute_result",
          "data": {
            "text/plain": [
              "True"
            ]
          },
          "metadata": {},
          "execution_count": 28
        }
      ]
    },
    {
      "cell_type": "markdown",
      "source": [
        "3- calculating leading principal minors for matrices:"
      ],
      "metadata": {
        "id": "ZbC5bZO9R6Wd"
      },
      "id": "ZbC5bZO9R6Wd"
    },
    {
      "cell_type": "code",
      "source": [
        "def leading_principal_minors(matrix):\n",
        "    n = matrix.shape[0]\n",
        "    minors = np.zeros(n)\n",
        "\n",
        "    for i in range(n):\n",
        "        minors[i] = np.linalg.det(matrix[:i+1,:i+1])\n",
        "\n",
        "    return minors"
      ],
      "metadata": {
        "id": "kydCoHz0SGzS"
      },
      "id": "kydCoHz0SGzS",
      "execution_count": null,
      "outputs": []
    },
    {
      "cell_type": "markdown",
      "source": [
        "Checking the positivity of each minors element:"
      ],
      "metadata": {
        "id": "zLEw_qY-SKvW"
      },
      "id": "zLEw_qY-SKvW"
    },
    {
      "cell_type": "code",
      "source": [
        "minors = leading_principal_minors(B)\n",
        "print(minors)\n",
        "ans = True\n",
        "for i in range(len(B)):\n",
        "  if minors[i] <= 0:\n",
        "    ans = False\n",
        "print(ans)"
      ],
      "metadata": {
        "id": "kpj4_pUGSMrQ",
        "colab": {
          "base_uri": "https://localhost:8080/"
        },
        "outputId": "d85eabab-a9bf-4b93-b6b7-eb4b1c72b206"
      },
      "id": "kpj4_pUGSMrQ",
      "execution_count": null,
      "outputs": [
        {
          "output_type": "stream",
          "name": "stdout",
          "text": [
            "[0.21126422 0.14186178]\n",
            "True\n"
          ]
        }
      ]
    },
    {
      "cell_type": "markdown",
      "source": [
        "4- **checking if $X^{T}AX$ is positive**"
      ],
      "metadata": {
        "id": "DveNMUgv29Zy"
      },
      "id": "DveNMUgv29Zy"
    },
    {
      "cell_type": "markdown",
      "source": [
        "Given a symmetric two by two matrix $\\left[\\begin{array}{cc} a & b \\\\ b & c \\end{array}\\right]$ and a vector X, one way to tell if it’s positive definite is:\n",
        "\n",
        "$\\bullet$ $X^{T}AX$ is positive except when x = 0 (this is usually the definition of positive definiteness).\n",
        "\n",
        "The matrix $\\left[\\begin{array}{cc} 2 & 6 \\\\ 6 & 18 \\end{array}\\right]$ is on the borderline of positive definiteness and is\n",
        "called a positive semidefinite matrix. It’s a singular matrix with eigenvalues 0\n",
        "and 20. Positive semidefinite matrices have eigenvalues greater than or equal\n",
        "to 0. For a singular matrix, the determinant is 0 and it only has one pivot.\n",
        "\n",
        "$$X^{T}AX=\\left[\\begin{array}{cc} x_1 & x_2\\end{array}\\right] \\left[\\begin{array}{cc} 2 & 6 \\\\ 6 & 18 \\end{array}\\right] \\left[\\begin{array}{cc} x_1 \\\\ x_2\\end{array}\\right]$$\n",
        "\n",
        "$$ =\\left[\\begin{array}{cc} x_1 & x_2\\end{array}\\right] \\left[\\begin{array}{cc} 2x_1+6x_2 \\\\ 6x_1+18x_2 \\end{array}\\right] $$\n",
        "\n",
        "$$=2x_1^2+12x_1x_2+18x_2^2 $$\n",
        "\n",
        "$$=ax_1^2+2bx_1x_2+cx_2^2 $$\n",
        "\n",
        "If this quadratic form is positive for every (real) $x_1$ and $x_2$ then the matrix is positive definite. In this positive semi-definite example, $2x_1^2 + 12x_1x_2 + 18x_2^2 = 2(x_1 + 3x_2)^2 = 0$ when $x_1 = 3$ and $x_2 = −1$."
      ],
      "metadata": {
        "id": "tEYr6cyJ0oKN"
      },
      "id": "tEYr6cyJ0oKN"
    },
    {
      "cell_type": "code",
      "source": [
        "import numpy as np\n",
        "A = np.array([[2,6],[6,18]])\n",
        "\n",
        "#check that all eigenvalues are positive:\n",
        "print(np.linalg.eigvals(A))\n",
        "print(np.linalg.eig(A))\n",
        "print(np.all(np.linalg.eigvals(A) > 0))\n",
        "\n",
        "X=np.array([3,-1])\n",
        "print(np.dot(np.dot(X.transpose(),A),X)>0)"
      ],
      "metadata": {
        "colab": {
          "base_uri": "https://localhost:8080/"
        },
        "id": "1OHSWTvl0zDN",
        "outputId": "94338bd4-cb92-41fc-9608-3550ee1aa142"
      },
      "id": "1OHSWTvl0zDN",
      "execution_count": null,
      "outputs": [
        {
          "output_type": "stream",
          "name": "stdout",
          "text": [
            "[ 0. 20.]\n",
            "(array([ 0., 20.]), array([[-0.9486833 , -0.31622777],\n",
            "       [ 0.31622777, -0.9486833 ]]))\n",
            "False\n",
            "False\n"
          ]
        }
      ]
    },
    {
      "cell_type": "code",
      "source": [
        "import numpy as np\n",
        "A = np.array([[2,6],[6,18]])\n",
        "\n",
        "print(np.linalg.eigvals(A))\n",
        "print(np.linalg.eig(A))\n",
        "print(np.all(np.linalg.eigvals(A) > 0))\n",
        "\n",
        "X=np.array([3,-1])\n",
        "print(np.dot(np.dot(X.transpose(),A),X))\n",
        "print(np.dot(np.dot(X.transpose(),A),X)>0)"
      ],
      "metadata": {
        "colab": {
          "base_uri": "https://localhost:8080/"
        },
        "id": "ZNonSGIB0-Mf",
        "outputId": "8247b5ec-e0aa-48b3-f4bb-f0cfcf5d8253"
      },
      "id": "ZNonSGIB0-Mf",
      "execution_count": null,
      "outputs": [
        {
          "output_type": "stream",
          "name": "stdout",
          "text": [
            "[ 0. 20.]\n",
            "(array([ 0., 20.]), array([[-0.9486833 , -0.31622777],\n",
            "       [ 0.31622777, -0.9486833 ]]))\n",
            "False\n",
            "0\n",
            "False\n"
          ]
        }
      ]
    },
    {
      "cell_type": "markdown",
      "source": [
        "<h1 id=\"hid1\" class=\"section\">Prepared by Nadia Yazdani</h1>\n",
        "\n",
        "Reference:\n",
        "\n",
        "Convex Optimization</br>\n",
        "S. Boyd / L. Vandenberghe</br>\n",
        "2004</br>\n",
        "link:\n",
        "https://ds.amu.edu.et/xmlui/bitstream/handle/123456789/10327/convex%20optimization%20%282004%29.pdf?sequence=2&isAllowed=y </br>\n",
        "\n",
        "Code reference:\n",
        "\n",
        "https://stackoverflow.com/questions/47971514/coefficients-of-charpoly-using-sympy-in-python</br>\n",
        "https://numpy.org/doc/stable/reference/generated/numpy.linalg.eig.html</br>\n",
        "\n"
      ],
      "metadata": {
        "id": "t_VJqQ_CUf_N"
      },
      "id": "t_VJqQ_CUf_N"
    },
    {
      "cell_type": "markdown",
      "metadata": {
        "id": "6Rvf7625mLWQ"
      },
      "source": [
        "<h2 id=\"hid1\" class=\"section\">3.12  Eigenvalues and Eigenvectors</h2>"
      ],
      "id": "6Rvf7625mLWQ"
    },
    {
      "cell_type": "markdown",
      "source": [
        "\n",
        "For a square matrix $A \\in \\mathbb{R}^{n \\times n}$, an Eigenvector and Eigenvalue make this equation true:\n",
        "\n",
        "$$\n",
        "A x=\\lambda x, \\quad x \\neq 0\n",
        "$$\n",
        "\n",
        "In this equation, $\\lambda \\in \\mathbb{C}$ is the eigenvalues and $x \\in \\mathbb{C}^n$ is the eigenvector."
      ],
      "metadata": {
        "id": "SWImL8zDSypl"
      },
      "id": "SWImL8zDSypl"
    },
    {
      "cell_type": "markdown",
      "source": [
        "Intuitively, this definition means that multiplying $A$ by the vector $x$ results in a new vector that points in the same direction as $x$, but scaled by a factor $\\lambda$. Also note that for any eigenvector $x \\in \\mathbb{C}^n$, and scalar $t \\in \\mathbb{C}, A(c x)=c A x=c \\lambda x=\\lambda(c x)$, so $c x$ is also an eigenvector. For this reason when we talk about \"the\" eigenvector associated with $\\lambda$, we usually assume that the eigenvector is normalized to have length 1 (this still creates some ambiguity, since $x$ and $-x$ will both be eigenvectors, but we will have to live with this)."
      ],
      "metadata": {
        "id": "S3zEH1neS4S8"
      },
      "id": "S3zEH1neS4S8"
    },
    {
      "cell_type": "markdown",
      "source": [
        "How do we find these eigen things?\n",
        "\n",
        "We can rewrite the equation above to state that $(\\lambda, x)$ is an eigenvalue-eigenvector pair of $A$ if,\n",
        "$$\n",
        "(\\lambda I-A) x=0, \\quad x \\neq 0 .\n",
        "$$\n",
        "\n",
        "But $(\\lambda I-A) x=0$ has a non-zero solution to $x$ if and only if $(\\lambda I-A)$ has a non-empty nullspace, which is only the case if $(\\lambda I-A)$ is singular, i.e.,\n",
        "$$\n",
        "|(\\lambda I-A)|=0\n",
        "$$"
      ],
      "metadata": {
        "id": "TqkxM2hsS-24"
      },
      "id": "TqkxM2hsS-24"
    },
    {
      "cell_type": "markdown",
      "source": [
        "Here is the code of eigenvalue and eigenvector and we can also use the NumPy function 'np.linalg.eig' to calculate the to compute the eigenvalues and eigenvectors. Here are examples of these two functions:"
      ],
      "metadata": {
        "id": "92EAT85wTCSJ"
      },
      "id": "92EAT85wTCSJ"
    },
    {
      "cell_type": "code",
      "source": [
        "import numpy as np\n",
        "import sympy as sp\n",
        "from scipy.linalg import null_space\n",
        "\n",
        "def eigenvectors(A, eigenvalues):\n",
        "    eigenvectors = []\n",
        "    for eigenvalue in eigenvalues:\n",
        "        eigenspace = null_space(A - eigenvalue * np.eye(A.shape[0]))\n",
        "        for i in range(eigenspace.shape[1]):\n",
        "            eigenvector = eigenspace[:, i] / np.linalg.norm(eigenspace[:, i])\n",
        "            eigenvectors.append(eigenvector)\n",
        "    for i, eigenvector in enumerate(eigenvectors):\n",
        "        print(f\"Eigenvector {i+1}: {eigenvector}\")\n",
        "\"\"\"\"\"\n",
        "def eigenvectors(matrix, eigenvalues):\n",
        "    n = matrix.shape[0]\n",
        "    eigvecs = np.zeros((n, len(eigenvalues)))\n",
        "    for i in range(len(eigenvalues)):\n",
        "        B = matrix - eigenvalues[i]*np.eye(n)\n",
        "\n",
        "        eigvecs[:, i] = np.linalg.solve(B, np.zeros(n))\n",
        "        eigvecs[:, i] = eigvecs[:, i] / np.linalg.norm(eigvecs[:, i])\n",
        "    return eigvecs\n",
        "\"\"\"\n",
        "\n",
        "matrix = [[2, -4], [-1, -1]]\n",
        "#matrix = [[2, 3], [-3, 2]]\n",
        "#matrix = [[2, 0, 0], [2, 4, 5],[0, 4, 3]]\n",
        "A =sp.Matrix(matrix)\n",
        "lamda = sp.symbols('lamda')\n",
        "poly = A.charpoly(lamda)\n",
        "X = poly.all_coeffs()\n",
        "eigvals = np.roots(X)\n",
        "print(eigvals)\n",
        "print(np.linalg.eig(matrix)[0])\n",
        "eigvecs = eigenvectors(np.array(matrix),eigvals)\n",
        "#print(eigvecs)\n",
        "print(np.linalg.eig(matrix)[1])"
      ],
      "metadata": {
        "id": "m6OlVFmTTHPB",
        "colab": {
          "base_uri": "https://localhost:8080/"
        },
        "outputId": "4608937f-4b8b-42bd-d20a-7d2b448a7e8b"
      },
      "id": "m6OlVFmTTHPB",
      "execution_count": null,
      "outputs": [
        {
          "output_type": "stream",
          "name": "stdout",
          "text": [
            "[ 3. -2.]\n",
            "[ 3. -2.]\n",
            "Eigenvector 1: [-0.9701425   0.24253563]\n",
            "Eigenvector 2: [0.70710678 0.70710678]\n",
            "[[ 0.9701425   0.70710678]\n",
            " [-0.24253563  0.70710678]]\n"
          ]
        }
      ]
    },
    {
      "cell_type": "markdown",
      "source": [
        "The code defines a Python function called eigenvectors that takes in a square matrix A and a list of eigenvalues eigenvalues, and computes the corresponding eigenvectors using the null space method. The function first imports the NumPy and SymPy libraries, as well as the null_space function from the scipy.linalg module. It then creates an empty list to store the eigenvectors and loops over the eigenvalues to compute the eigenspace for each eigenvalue using the null space function. The function then normalizes the eigenvectors and appends them to the list. Finally, the function prints out each eigenvector with its corresponding index. Overall, the eigenvectors function provides a convenient way to compute eigenvectors given a matrix and its eigenvalues."
      ],
      "metadata": {
        "id": "-oawhFMCTywJ"
      },
      "id": "-oawhFMCTywJ"
    },
    {
      "cell_type": "markdown",
      "source": [
        "The following are properties of eigenvalues and eigenvectors (in all cases assume $A \\in \\mathbb{R}^{n \\times n}$ has eigenvalues $\\lambda_i, \\ldots, \\lambda_n$ and associated eigenvectors $\\left.x_1, \\ldots x_n\\right)$ :\n",
        "- The trace of a $A$ is equal to the sum of its eigenvalues,\n",
        "$$\n",
        "\\operatorname{tr} A=\\sum_{i=1}^n \\lambda_i\n",
        "$$\n"
      ],
      "metadata": {
        "id": "Il4ZTlbWVbQO"
      },
      "id": "Il4ZTlbWVbQO"
    },
    {
      "cell_type": "code",
      "source": [
        "import numpy as np\n",
        "\n",
        "A = np.array([[1, 2, 3], [4, 8, 6], [7, 8, 1]])\n",
        "\n",
        "eigenvalues, eigenvectors = np.linalg.eig(A)\n",
        "trace_A = np.trace(A)\n",
        "sum_eigenvalues = np.sum(eigenvalues)\n",
        "\n",
        "\n",
        "if np.isclose(trace_A, sum_eigenvalues):\n",
        "    print(\"Trace(A) = Sum of eigenvalues of A is True!\")\n",
        "else:\n",
        "    print(\"Trace(A) = Sum of eigenvalues of A is False!\")"
      ],
      "metadata": {
        "id": "Tyi5h5iWWjrD",
        "colab": {
          "base_uri": "https://localhost:8080/"
        },
        "outputId": "91e10dfe-968f-4e70-bb25-c8d95398bee8"
      },
      "id": "Tyi5h5iWWjrD",
      "execution_count": null,
      "outputs": [
        {
          "output_type": "stream",
          "name": "stdout",
          "text": [
            "Trace(A) = Sum of eigenvalues of A is True!\n"
          ]
        }
      ]
    },
    {
      "cell_type": "markdown",
      "source": [
        "- The determinant of $A$ is equal to the product of its eigenvalues,\n",
        "$$\n",
        "|A|=\\prod_{i=1}^n \\lambda_i\n",
        "$$\n"
      ],
      "metadata": {
        "id": "WJr5tzm0WkH9"
      },
      "id": "WJr5tzm0WkH9"
    },
    {
      "cell_type": "code",
      "source": [
        "import numpy as np\n",
        "\n",
        "\n",
        "A = np.array([[1, 2, 3], [4, 8, 6], [7, 8, 1]])\n",
        "\n",
        "eigenvalues = np.linalg.eigvals(A)\n",
        "det_A = np.linalg.det(A)\n",
        "prod_eigenvalues = np.prod(eigenvalues)\n",
        "\n",
        "\n",
        "if np.isclose(det_A, prod_eigenvalues):\n",
        "    print(\"Determinant of A = Product of eigenvalues of A is True!\")\n",
        "else:\n",
        "    print(\"Determinant of A = Product of eigenvalues of A is False!\")"
      ],
      "metadata": {
        "id": "EnY9qqTlZEJw",
        "colab": {
          "base_uri": "https://localhost:8080/"
        },
        "outputId": "cdf7c6b0-2390-4291-f20f-d18d567eac8a"
      },
      "id": "EnY9qqTlZEJw",
      "execution_count": null,
      "outputs": [
        {
          "output_type": "stream",
          "name": "stdout",
          "text": [
            "Determinant of A = Product of eigenvalues of A is True!\n"
          ]
        }
      ]
    },
    {
      "cell_type": "markdown",
      "source": [
        "- The rank of $A$ is equal to the number of non-zero eigenvalues of $A$.\n",
        "- If $A$ is non-singular then $1 / \\lambda_i$ is an eigenvalue of $A^{-1}$ with associated eigenvector $x_i$, i.e., $A^{-1} x_i=\\left(1 / \\lambda_i\\right) x_i$. (To prove this, take the eigenvector equation, $A x_i=\\lambda_i x_i$ and left-multiply each side by $A^{-1}$.)\n",
        "- The eigenvalues of a diagonal matrix $D=\\operatorname{diag}\\left(d_1, \\ldots d_n\\right)$ are just the diagonal entries $d_1, \\ldots d_n$"
      ],
      "metadata": {
        "id": "Qql7OdgbX1tu"
      },
      "id": "Qql7OdgbX1tu"
    },
    {
      "cell_type": "markdown",
      "source": [
        "<h1 id=\"hid1\" class=\"section\">Prepared by Nadia Yazdani</h1>\n",
        "\n",
        "Reference:\n",
        "\n",
        "Convex Optimization</br>\n",
        "S. Boyd / L. Vandenberghe</br>\n",
        "2004</br>\n",
        "link:\n",
        "https://ds.amu.edu.et/xmlui/bitstream/handle/123456789/10327/convex%20optimization%20%282004%29.pdf?sequence=2&isAllowed=y </br>\n",
        "\n",
        "Code reference:\n",
        "\n",
        "https://numpy.org/doc/stable/reference/generated/numpy.linalg.eig.html</br>\n",
        "https://www.geeksforgeeks.org/how-to-compute-the-eigenvalues-and-right-eigenvectors-of-a-given-square-array-using-numpy/</br>\n",
        "\n"
      ],
      "metadata": {
        "id": "eA4vPU9tZj4P"
      },
      "id": "eA4vPU9tZj4P"
    },
    {
      "cell_type": "markdown",
      "metadata": {
        "id": "lFQ8BoRxmLcb"
      },
      "source": [
        "<h2 id=\"hid1\" class=\"section\">3.13 Eigenvalues and Eigenvectors of Symmetric Matrices</h2>"
      ],
      "id": "lFQ8BoRxmLcb"
    },
    {
      "cell_type": "markdown",
      "source": [
        "\n",
        "Two remarkable properties come about when we look at the eigenvalues and eigenvectors of a symmetric matrix $A \\in \\mathbb{S}^n$. First, it can be shown that all the eigenvalues of $A$ are real. Secondly, the eigenvectors of $A$ are orthonormal, i.e., the matrix $X$ defined above is an orthogonal matrix (for this reason, we denote the matrix of eigenvectors as $U$ in this case).\n",
        "We can therefore represent $A$ as $A=U \\Lambda U^T$, remembering from above that the inverse of an orthogonal matrix is just its transpose.\n",
        "\n",
        "Using this, we can show that the definiteness of a matrix depends entirely on the sign of its eigenvalues. Suppose $A \\in \\mathbb{S}^n=U \\Lambda U^T$. Then\n",
        "$$\n",
        "x^T A x=x^T U \\Lambda U^T x=y^T \\Lambda y=\\sum_{i=1}^n \\lambda_i y_i^2\n",
        "$$\n",
        "where $y=U^T x$ (and since $U$ is full rank, any vector $y \\in \\mathbb{R}^n$ can be represented in this form). Because $y_i^2$ is always positive, the sign of this expression depends entirely on the $\\lambda_i$ 's. If all $\\lambda_i>0$, then the matrix is positive definite; if all $\\lambda_i \\geq 0$, it is positive semidefinite. Likewise, if all $\\lambda_i<0$ or $\\lambda_i \\leq 0$, then $A$ is negative definite or negative semidefinite respectively. Finally, if $A$ has both positive and negative eigenvalues, it is indefinite.\n",
        "\n",
        "An application where eigenvalues and eigenvectors come up frequently is in maximizing some function of a matrix. In particular, for a matrix $A \\in \\mathbb{S}^n$, consider the following maximization problem,\n",
        "$$\n",
        "\\max _{x \\in \\mathbb{R}^n} x^T A x \\quad \\text { subject to }\\|x\\|_2^2=1\n",
        "$$\n",
        "i.e., we want to find the vector (of norm 1) which maximizes the quadratic form. Assuming the eigenvalues are ordered as $\\lambda_1 \\geq \\lambda_2 \\geq \\ldots \\geq \\lambda_n$, the optimal $x$ for this optimization problem is $x_1$, the eigenvector corresponding to $\\lambda_1$. In this case the maximal value of the quadratic form is $\\lambda_1$. Similarly, the optimal solution to the minimization problem,\n",
        "$$\n",
        "\\min _{x \\in \\mathbb{R}^n} x^T A x \\quad \\text { subject to }\\|x\\|_2^2=1\n",
        "$$\n",
        "is $x_n$, the eigenvector corresponding to $\\lambda_n$, and the minimal value is $\\lambda_n$. This can be proved by appealing to the eigenvector-eigenvalue form of $A$ and the properties of orthogonal matrices. However, in the next section we will see a way of showing it directly using matrix calculus.\n"
      ],
      "metadata": {
        "id": "hSxZwU5oaKwG"
      },
      "id": "hSxZwU5oaKwG"
    },
    {
      "cell_type": "code",
      "source": [
        "import numpy as np\n",
        "\n",
        "\n",
        "A = np.array([[2, 1, 1], [1, 2, 1], [1, 1, 2]])\n",
        "\n",
        "B = np.array([[2, 1, 0, 0, 1],\n",
        "              [1, 3, 1, 2, 0],\n",
        "              [0, 1, 4, 1, 0],\n",
        "              [0, 2, 1, 3, 1],\n",
        "              [1, 0, 0, 1, 2]])\n",
        "\n",
        "\n",
        "eigenvalues, eigenvectors = np.linalg.eig(B)\n",
        "\n",
        "print(\"Eigenvalues:\", eigenvalues)\n",
        "\n",
        "counter = 0\n",
        "for i in range(len(eigenvalues)):\n",
        "    if isinstance(eigenvalues[0], float):\n",
        "        counter +=1\n",
        "\n",
        "if counter == len(eigenvalues):\n",
        "    print(\"The eigenvalues are real numbers.\")\n",
        "else:\n",
        "    print(\"The value is not a real number.\")\n",
        "\n",
        "print(\"========================================================\")\n",
        "\n",
        "print(\"eigenvectors:\", eigenvectors)\n",
        "\n",
        "for i in range(len(eigenvectors)):\n",
        "    for j in range(len(eigenvectors)):\n",
        "        dot_product = np.dot(eigenvectors[:, i], eigenvectors[:, j])\n",
        "        #1e-6 = 0.000001 as a threshold for checking if the dot product between any two eigenvectors is close enough to 0 or 1\n",
        "        if i == j and abs(dot_product - 1) > 1e-6:\n",
        "            print(\"Eigenvectors are not orthonormal.\")\n",
        "        elif i != j and abs(dot_product) > 1e-6:\n",
        "            print(\"Eigenvectors are not orthonormal.\")\n",
        "\n",
        "if all(abs(np.linalg.norm(eigenvectors[:, i]) - 1) < 1e-6 for i in range(len(eigenvectors))):\n",
        "    print(\"Eigenvectors are orthonormal.\")\n",
        "else:\n",
        "    print(\"Eigenvectors are not orthonormal.\")"
      ],
      "metadata": {
        "id": "Su2FYFrefikk",
        "outputId": "708149f7-76fe-418e-e477-36ca533610fd",
        "colab": {
          "base_uri": "https://localhost:8080/"
        }
      },
      "id": "Su2FYFrefikk",
      "execution_count": null,
      "outputs": [
        {
          "output_type": "stream",
          "name": "stdout",
          "text": [
            "Eigenvalues: [6.21431974e+00 2.75821033e-16 3.46081113e+00 2.32486913e+00\n",
            " 2.00000000e+00]\n",
            "The eigenvalues are real numbers.\n",
            "========================================================\n",
            "eigenvectors: [[-1.79338395e-01 -5.00000000e-01  4.32486630e-01 -5.29899099e-01\n",
            "  -5.00000000e-01]\n",
            " [-5.76450945e-01  5.00000000e-01  1.99294651e-01  3.57751240e-01\n",
            "  -5.00000000e-01]\n",
            " [-5.20657368e-01  3.03287309e-17 -7.39238740e-01 -4.27132287e-01\n",
            "  -1.65987083e-16]\n",
            " [-5.76450945e-01 -5.00000000e-01  1.99294651e-01  3.57751240e-01\n",
            "   5.00000000e-01]\n",
            " [-1.79338395e-01  5.00000000e-01  4.32486630e-01 -5.29899099e-01\n",
            "   5.00000000e-01]]\n",
            "Eigenvectors are orthonormal.\n"
          ]
        }
      ]
    },
    {
      "cell_type": "markdown",
      "source": [
        "In this example, we define the matrix $A$ as a NumPy array. We then use the 'np.linalg.eig()' function to find the eigenvectors and eigenvalues of A. The eigenvectors are returned as a matrix, where each column is an eigenvector.\n",
        "\n",
        "We then use two nested loops to check if the eigenvectors are orthonormal. We use the 'np.dot()' function to calculate the dot product of each pair of eigenvectors. If the dot product is not 0 for eigenvectors that are not the same and not 1 for eigenvectors that are the same, then the eigenvectors are not orthonormal.\n",
        "\n",
        "We then use the 'np.linalg.norm()' function to check if each eigenvector has a length of 1. If all eigenvectors have a length of 1, then the eigenvectors are orthonormal.\n",
        "\n",
        "Note that the condition for checking if the dot product is 1 or 0 is based on the assumption that the eigenvectors have been normalized. If the eigenvectors have not been normalized, you will need to modify the condition accordingly."
      ],
      "metadata": {
        "id": "IR9zVB-pWx8-"
      },
      "id": "IR9zVB-pWx8-"
    },
    {
      "cell_type": "markdown",
      "source": [
        "<h1 id=\"hid1\" class=\"section\">Prepared by Mojtaba Mozhganfar</h1>\n",
        "\n",
        "Reference:\n",
        "\n",
        "Linear Algebra Review and Reference</br>\n",
        "Zico Kolter (updated by Chuong Do)</br>\n",
        "October 7, 2008</br>\n",
        "link:\n",
        "https://www.cs.cmu.edu/~zkolter/course/15-884/linalg-review.pdf"
      ],
      "metadata": {
        "id": "Rx6BNSMwXdMX"
      },
      "id": "Rx6BNSMwXdMX"
    },
    {
      "cell_type": "markdown",
      "source": [
        "# 4.1 The Gradient\n",
        "\n",
        "\n",
        "Suppose that $f: \\mathbb{R}^{m \\times n} \\rightarrow \\mathbb{R}$ is a function that takes as input a matrix $A$ of size $m \\times n$ and returns a real value. Then the gradient of $f$ (with respect to $A \\in \\mathbb{R}^{m \\times n}$ ) is the matrix of partial derivatives, defined as:\n",
        "\n",
        "$$\n",
        "\\nabla_{A} f(A) \\in \\mathbb{R}^{m \\times n}=\\left[\\begin{array}{cccc}\n",
        "\\frac{\\partial f(A)}{\\left.\\partial A_{11}\\right)} & \\frac{\\partial f(A)}{\\partial A_{12}} & \\cdots & \\frac{\\partial f(A)}{\\partial A_{1 n}} \\\\\n",
        "\\frac{\\partial f(A)}{\\partial A_{21}} & \\frac{\\partial f(A)}{\\partial A_{22}} & \\cdots & \\frac{\\partial f(A)}{\\partial A_{2 n}} \\\\\n",
        "\\vdots & \\vdots & \\ddots & \\vdots \\\\\n",
        "\\frac{\\partial f(A)}{\\partial A_{m 1}} & \\frac{\\partial f(A)}{\\partial A_{m 2}} & \\cdots & \\frac{\\partial f(A)}{\\partial A_{m n}}\n",
        "\\end{array}\\right]\n",
        "$$\n",
        "\n",
        "i.e., an $m \\times n$ matrix with\n",
        "\n",
        "$$\n",
        "\\left(\\nabla_{A} f(A)\\right)_{i j}=\\frac{\\partial f(A)}{\\partial A_{i j}} .\n",
        "$$\n",
        "\n",
        "Note that the size of $\\nabla_{A} f(A)$ is always the same as the size of $A$. So if, in particular, $A$ is just a vector $x \\in \\mathbb{R}^{n}$\n",
        "\n",
        "$$\n",
        "\\nabla_{x} f(x)=\\left[\\begin{array}{c}\n",
        "\\frac{\\partial f(x)}{\\partial 1} \\\\\n",
        "\\frac{\\partial f(x)}{\\partial x_{2}} \\\\\n",
        "\\vdots \\\\\n",
        "\\frac{\\partial f(x)}{\\partial x_{n}}\n",
        "\\end{array}\\right]\n",
        "$$\n",
        "\n",
        "It is very important to remember that the gradient of a function is only defined if the function is real-valued, that is, if it returns a scalar value. We can not, for example, take the gradient of $A x, A \\in \\mathbb{R}^{n \\times n}$ with respect to $x$, since this quantity is vector-valued.\n",
        "\n",
        "It follows directly from the equivalent properties of partial derivatives that:\n",
        "\n",
        "\n",
        "$\\nabla_{x}(f(x)+g(x))=\\nabla_{x} f(x)+\\nabla_{x} g(x)$.\n",
        "\n",
        "For $t \\in \\mathbb{R}, \\nabla_{x}(t f(x))=t \\nabla_{x} f(x)$.\n",
        "\n",
        "\n",
        "In principle, gradients are a natural extension of partial derivatives to functions of multiple variables. In practice, however, working with gradients can sometimes be tricky for notational reasons. For example, suppose that $A \\in \\mathbb{R}^{m \\times n}$ is a matrix of fixed coefficients and suppose that $b \\in \\mathbb{R}^{m}$ is a vector of fixed coefficients. Let $f: \\mathbb{R}^{m} \\rightarrow \\mathbb{R}$ be the function defined by $f(z)=z^{T} z$, such that $\\nabla_{z} f(z)=2 z$. But now, consider the expression,\n",
        "\n",
        "$$\n",
        "\\nabla f(A x) \\text {. }\n",
        "$$\n",
        "\n",
        "How should this expression be interpreted? There are at least two possibilities:\n",
        "\n",
        "1. In the first interpretation, recall that $\\nabla_{z} f(z)=2 z$. Here, we interpret $\\nabla f(A x)$ as evaluating the gradient at the point $A x$, hence,\n",
        "\n",
        "\n",
        "$$\n",
        "\\nabla f(A x)=2(A x)=2 A x \\in \\mathbb{R}^{m} .\n",
        "$$\n",
        "\n",
        "2. In the second interpretation, we consider the quantity $f(A x)$ as a function of the input variables $x$. More formally, let $g(x)=f(A x)$. Then in this interpretation,\n",
        "\n",
        "\n",
        "$$\n",
        "\\nabla f(A x)=\\nabla_{x} g(x) \\in \\mathbb{R}^{n} .\n",
        "$$\n",
        "\n",
        "Here, we can see that these two interpretations are indeed different. One interpretation yields an $m$-dimensional vector as a result, while the other interpretation yields an $n$-dimensional vector as a result! How can we resolve this?\n",
        "\n",
        "Here, the key is to make explicit the variables which we are differentiating with respect to. In the first case, we are differentiating the function $f$ with respect to its arguments $z$ and then substituting the argument $A x$. In the second case, we are differentiating the composite function $g(x)=f(A x)$ with respect to $x$ directly. We denote the first case as $\\nabla_{z} f(A x)$ and the second case as $\\nabla_{x} f(A x). $ Keeping the notation clear is extremely important (as you'll find out in your homework, in fact!).\n",
        "\n"
      ],
      "metadata": {
        "id": "8U9QOkssqXgF"
      },
      "id": "8U9QOkssqXgF"
    },
    {
      "cell_type": "markdown",
      "source": [
        "<div class=\"alert alert-block alert-warning\">\n",
        "<b>Note:</b>\n",
        "$\\mathrm{~A}$ drawback to this notation that we will have to live with is the fact that in the first case, $\\nabla_{z} f(A x)$ it appears that we are differentiating with respect to a variable that does not even appear in the expression being differentiated! For this reason, the first case is often written as $\\nabla f(A x)$, and the fact that we are differentiating with respect to the arguments of $f$ is understood. However, the second case is always written as $\\nabla_{x} f(A x)$.\n",
        "</div>"
      ],
      "metadata": {
        "id": "t6DXLfGjTlCd"
      },
      "id": "t6DXLfGjTlCd"
    },
    {
      "cell_type": "code",
      "source": [
        "import numpy as np\n",
        "\n",
        "# Define a function f: R^n -> R\n",
        "def f(x):\n",
        "    return np.dot(x, x)\n",
        "\n",
        "# Define the gradient of f\n",
        "def grad_f(x):\n",
        "    return 2 * x\n",
        "\n",
        "# Define a composite function g: R^m -> R^n -> R\n",
        "def g(A, x):\n",
        "    return f(np.dot(A, x))\n",
        "\n",
        "# Calculate the gradient of g with respect to z\n",
        "def grad_g_z(A, x):\n",
        "    z = np.dot(A, x)\n",
        "    return grad_f(z)\n",
        "\n",
        "# Calculate the gradient of g with respect to x using the chain rule\n",
        "def grad_g_x(A, x):\n",
        "    z = np.dot(A, x)\n",
        "    return np.dot(2 * z, A)\n",
        "\n",
        "# Example usage\n",
        "A = np.array([[1, 2], [3, 4]])\n",
        "x = np.array([1, 1])\n",
        "\n",
        "print(\"Function f(x):\", f(x))\n",
        "print(\"Gradient of f(x):\", grad_f(x))\n",
        "\n",
        "print(\"Composite function g(A, x):\", g(A, x))\n",
        "print(\"Gradient of g with respect to z (A * x):\", grad_g_z(A, x))\n",
        "print(\"Gradient of g with respect to x:\", grad_g_x(A, x))"
      ],
      "metadata": {
        "colab": {
          "base_uri": "https://localhost:8080/"
        },
        "id": "B9SFAo8fTn6M",
        "outputId": "c224270f-b09b-40a8-ec90-ac491baf05e8"
      },
      "id": "B9SFAo8fTn6M",
      "execution_count": null,
      "outputs": [
        {
          "output_type": "stream",
          "name": "stdout",
          "text": [
            "Function f(x): 2\n",
            "Gradient of f(x): [2 2]\n",
            "Composite function g(A, x): 58\n",
            "Gradient of g with respect to z (A * x): [ 6 14]\n",
            "Gradient of g with respect to x: [48 68]\n"
          ]
        }
      ]
    },
    {
      "cell_type": "markdown",
      "source": [
        "This code defines functions f, g and their gradients."
      ],
      "metadata": {
        "id": "GUcHfWMtTvtm"
      },
      "id": "GUcHfWMtTvtm"
    },
    {
      "cell_type": "markdown",
      "source": [
        "# 4.2 The Hessian\n",
        "\n",
        "Suppose that $f: \\mathbb{R}^{n} \\rightarrow \\mathbb{R}$ is a function that takes a vector in $\\mathbb{R}^{n}$ and returns a real number. Then the Hessian matrix with respect to $x$, written $\\nabla_{x}^{2} f(x)$ or simply as $H$ is the $n \\times n$ matrix of partial derivatives,\n",
        "\n",
        "$$\n",
        "\\nabla_{x}^{2} f(x) \\in \\mathbb{R}^{n \\times n}=\\left[\\begin{array}{cccc}\n",
        "\\frac{\\partial^{2} f(x)}{\\partial x_{1}^{2}} & \\frac{\\partial^{2} f(x)}{\\partial x_{1} \\partial x_{2}} & \\cdots & \\frac{\\partial^{2} f(x)}{\\partial x_{1} \\partial x_{n}} \\\\\n",
        "\\frac{\\partial^{2} f(x)}{\\partial x_{2} \\partial x_{1}} & \\frac{\\partial^{2} f(x)}{\\partial x_{2}^{2}} & \\cdots & \\frac{\\partial^{2} f(x)}{\\partial x_{2} \\partial x_{n}} \\\\\n",
        "\\vdots & \\vdots & \\ddots & \\vdots \\\\\n",
        "\\frac{\\partial^{2} f(x)}{\\partial x_{n} \\partial x_{1}} & \\frac{\\partial^{2} f(x)}{\\partial x_{n} \\partial x_{2}} & \\cdots & \\frac{\\partial^{2} f(x)}{\\partial x_{n}^{2}}\n",
        "\\end{array}\\right]\n",
        "$$\n",
        "\n",
        "In other words, $\\nabla_{x}^{2} f(x) \\in \\mathbb{R}^{n \\times n}$, with\n",
        "\n",
        "$$\n",
        "\\left(\\nabla_{x}^{2} f(x)\\right)_{i j}=\\frac{\\partial^{2} f(x)}{\\partial x_{i} \\partial x_{j}}\n",
        "$$\n",
        "\n",
        "Note that the Hessian is always symmetric, since\n",
        "\n",
        "$$\n",
        "\\frac{\\partial^{2} f(x)}{\\partial x_{i} \\partial x_{j}}=\\frac{\\partial^{2} f(x)}{\\partial x_{j} \\partial x_{i}}\n",
        "$$\n",
        "\n",
        "Similar to the gradient, the Hessian is defined only when $f(x)$ is real-valued.\n",
        "\n",
        "It is natural to think of the gradient as the analogue of the first derivative for functions of vectors, and the Hessian as the analogue of the second derivative (and the symbols we use also suggest this relation). This intuition is generally correct, but there a few caveats to keep in mind.\n",
        "\n",
        "\n",
        "First, for real-valued functions of one variable $f: \\mathbb{R} \\rightarrow \\mathbb{R}$, it is a basic definition that the second derivative is the derivative of the first derivative, i.e.,\n",
        "\n",
        "$$\n",
        "\\frac{\\partial^{2} f(x)}{\\partial x^{2}}=\\frac{\\partial}{\\partial x} \\frac{\\partial}{\\partial x} f(x)\n",
        "$$\n",
        "\n",
        "However, for functions of a vector, the gradient of the function is a vector, and we cannot take the gradient of a vector - i.e.,\n",
        "\n",
        "$$\n",
        "\\nabla_{x} \\nabla_{x} f(x)=\\nabla_{x}\\left[\\begin{array}{c}\n",
        "\\frac{\\partial f(x)}{\\partial x_{1}} \\\\\n",
        "\\frac{\\partial f(x)}{\\partial x_{2}} \\\\\n",
        "\\vdots \\\\\n",
        "\\frac{\\partial f(x)}{\\partial x_{n}}\n",
        "\\end{array}\\right]\n",
        "$$\n",
        "\n",
        "and this expression is not defined. Therefore, it is not the case that the Hessian is the gradient of the gradient. However, this is almost true, in the following sense: If we look at the $i$ th entry of the gradient $\\left(\\nabla_{x} f(x)\\right)_{i}=\\partial f(x) / \\partial x_{i}$, and take the gradient with respect to $x$ we get\n",
        "\n",
        "$$\n",
        "\\nabla_{x} \\frac{\\partial f(x)}{\\partial x_{i}}=\\left[\\begin{array}{c}\n",
        "\\frac{\\partial^{2} f(x)}{\\partial x_{i} \\partial x_{1}} \\\\\n",
        "\\frac{\\partial^{2} f(x)}{\\partial x_{i} \\partial x_{2}} \\\\\n",
        "\\vdots \\\\\n",
        "\\frac{\\partial f(x)}{\\partial x_{i} \\partial x_{n}}\n",
        "\\end{array}\\right]\n",
        "$$\n",
        "\n",
        "which is the $i$ th column (or row) of the Hessian. Therefore,\n",
        "\n",
        "$$\n",
        "\\nabla_{x}^{2} f(x)=\\left[\\begin{array}{llll}\n",
        "\\nabla_{x}\\left(\\nabla_{x} f(x)\\right)_{1} & \\nabla_{x}\\left(\\nabla_{x} f(x)\\right)_{2} & \\cdots & \\nabla_{x}\\left(\\nabla_{x} f(x)\\right)_{n}\n",
        "\\end{array}\\right]\n",
        "$$\n",
        "\n",
        "If we don't mind being a little bit sloppy we can say that (essentially) $\\nabla_{x}^{2} f(x)=\\nabla_{x}\\left(\\nabla_{x} f(x)\\right)^{T}$, so long as we understand that this really means taking the gradient of each entry of $\\left(\\nabla_{x} f(x)\\right)^{T}$, not the gradient of the whole vector.\n",
        "\n",
        "Finally, note that while we can take the gradient with respect to a matrix $A \\in \\mathbb{R}^{n}$, for the purposes of this class we will only consider taking the Hessian with respect to a vector $x \\in \\mathbb{R}^{n}$. This is simply a matter of convenience (and the fact that none of the calculations we do require us to find the Hessian with respect to a matrix), since the Hessian with respect to a matrix would have to represent all the partial derivatives $\\partial^{2} f(A) /\\left(\\partial A_{i j} \\partial A_{k \\ell}\\right)$, and it is rather cumbersome to represent this as a matrix."
      ],
      "metadata": {
        "id": "X0aEnRrYTxPN"
      },
      "id": "X0aEnRrYTxPN"
    },
    {
      "cell_type": "markdown",
      "source": [
        "For Example we compute the Gradient and Hessian of the following function with respect to the variables x and y.\n",
        "$$\n",
        "f(x, y)=\\frac{1}{2} x^2+5 y^2+\\frac{2}{3}(x-2)^4+8(y+1)^4\n",
        "$$"
      ],
      "metadata": {
        "id": "zhRtD2ZmT1v2"
      },
      "id": "zhRtD2ZmT1v2"
    },
    {
      "cell_type": "code",
      "source": [
        "from sympy import symbols, hessian, Function, N\n",
        "\n",
        "x, y = symbols('x y')\n",
        "f = symbols('f', cls=Function)\n",
        "\n",
        "f = (1/2)*np.power(x, 2) + 5*np.power(y, 2) + (2/3)*np.power((x-2), 4) + 8*np.power((y+1), 4)\n",
        "\n",
        "H = hessian(f, [x, y]).subs([(x,1), (y,1)])\n",
        "print(np.array(H))\n",
        "print(N(H.condition_number()))"
      ],
      "metadata": {
        "colab": {
          "base_uri": "https://localhost:8080/"
        },
        "id": "angj3kFQTzL3",
        "outputId": "431cfcf4-4bb3-4d7b-9af1-4b0a845c766a"
      },
      "id": "angj3kFQTzL3",
      "execution_count": null,
      "outputs": [
        {
          "output_type": "stream",
          "name": "stdout",
          "text": [
            "[[9.00000000000000 0]\n",
            " [0 394]]\n",
            "43.7777777777778\n"
          ]
        }
      ]
    },
    {
      "cell_type": "markdown",
      "source": [],
      "metadata": {
        "id": "elvc5oIpcnrC"
      },
      "id": "elvc5oIpcnrC"
    },
    {
      "cell_type": "markdown",
      "source": [
        "# 4.4 Least Squares\n",
        "\n",
        "\n",
        "Suppose we are given matrices $A \\in \\mathbb{R}^{m \\times n}$ (for simplicity we assume $A$ is full rank) and a vector $b \\in \\mathbb{R}^m$ such that $b \\notin \\mathcal{R}(A)$. In this situation we will not be able to find a vector $x \\in \\mathbb{R}^n$, such that $A x=b$, so instead we want to find a vector $x$ such that $A x$ is as close as possible to $b$, as measured by the square of the Euclidean norm $\\|A x-b\\|_2^2$.\n",
        "Using the fact that $\\|x\\|_2^2=x^T x$, we have\n",
        "$$\n",
        "\\begin{aligned}\n",
        "\\|A x-b\\|_2^2 & =(A x-b)^T(A x-b) \\\\\n",
        "& =x^T A^T A x-2 b^T A x+b^T b\n",
        "\\end{aligned}\n",
        "$$\n",
        "Taking the gradient with respect to $x$ we have, and using the properties we derived in the previous section\n",
        "$$\n",
        "\\begin{aligned}\n",
        "\\nabla_x\\left(x^T A^T A x-2 b^T A x+b^T b\\right) & =\\nabla_x x^T A^T A x-\\nabla_x 2 b^T A x+\\nabla_x b^T b \\\\\n",
        "& =2 A^T A x-2 A^T b\n",
        "\\end{aligned}\n",
        "$$\n",
        "Setting this last expression equal to zero and solving for $x$ gives the normal equations\n",
        "$$\n",
        "x=\\left(A^T A\\right)^{-1} A^T b\n",
        "$$\n",
        "which is the same as what we derived in class."
      ],
      "metadata": {
        "id": "Ywuu8aujg7te"
      },
      "id": "Ywuu8aujg7te"
    },
    {
      "cell_type": "code",
      "source": [
        "import cvxpy as cp\n",
        "import numpy as np\n",
        "\n",
        "# Define problem data\n",
        "m = 10\n",
        "n = 5\n",
        "A = np.random.rand(m, n)\n",
        "b = np.random.rand(m, 1)\n",
        "\n",
        "# Define optimization variable\n",
        "x = cp.Variable((n, 1))\n",
        "\n",
        "# Define objective function\n",
        "obj = cp.sum_squares(A @ x - b)\n",
        "\n",
        "# Define problem and solve\n",
        "problem = cp.Problem(cp.Minimize(obj))\n",
        "problem.solve()\n",
        "\n",
        "# Print solution\n",
        "print(\"Optimal value:\", problem.value)\n",
        "print(\"Optimal x:\", x.value)"
      ],
      "metadata": {
        "colab": {
          "base_uri": "https://localhost:8080/"
        },
        "outputId": "935a48c4-3143-49e3-e3a3-02d52e3c2744",
        "id": "w9cycoY1kVaw"
      },
      "execution_count": null,
      "outputs": [
        {
          "output_type": "stream",
          "name": "stdout",
          "text": [
            "Optimal value: 0.5535773093155207\n",
            "Optimal x: [[-0.25748793]\n",
            " [ 0.52399992]\n",
            " [ 0.84996453]\n",
            " [ 0.33491137]\n",
            " [-0.23884729]]\n"
          ]
        }
      ],
      "id": "w9cycoY1kVaw"
    },
    {
      "cell_type": "markdown",
      "source": [
        "<h1 id=\"hid1\" class=\"section\">Prepared by Mojtaba Mozhganfar</h1>\n",
        "<h2 id=\"hid1\" class=\"section\">Content Table</h2>\n",
        "\n",
        "1. Gradients of the Determinant\n",
        "\n",
        "Ref: Linear Algebra Review and Reference, Zico Kolter, Page25.\n",
        "\n",
        "References:\n",
        "- https://www.geeksforgeeks.org/adjoint-inverse-matrix\n",
        "- https://ocw.mit.edu/courses/18-s096-matrix-calculus-for-machine-learning-and-beyond-january-iap-2022/pages/lecture-notes-and-readings\n",
        "\n",
        "Related Links:\n",
        "\n",
        "- https://ocw.mit.edu/courses/18-s096-matrix-calculus-for-machine-learning-and-beyond-january-iap-2022/pages/lecture-notes-and-readings\n",
        "- https://rawcdn.githack.com/mitmath/matrixcalc/c97512521a9ff63802454ee258f1759c45f7d8b6/determinant_and_inverse.html"
      ],
      "metadata": {
        "id": "uFWIo7cicqPq"
      },
      "id": "uFWIo7cicqPq"
    },
    {
      "cell_type": "markdown",
      "source": [
        "# 4.5 Gradients of the Determinant\n",
        "\n",
        "Now let's consider a situation where we find the gradient of a function with respect to a matrix, namely for $A \\in \\mathbb{R}^{n \\times n}$, we want to find $\\nabla_A|A|$. Recall from our discussion of determinants that\n",
        "$$\n",
        "|A|=\\sum_{i=1}^n(-1)^{i+j} A_{i j}\\left|A_{\\backslash i, \\backslash j}\\right| \\quad \\text { (for any } j \\in 1, \\ldots, n \\text { ) }\n",
        "$$\n",
        "so\n",
        "$$\n",
        "\\frac{\\partial}{\\partial A_{k \\ell}}|A|=\\frac{\\partial}{\\partial A_{k \\ell}} \\sum_{i=1}^n(-1)^{i+j} A_{i j}\\left|A_{\\backslash i, \\backslash j}\\right|=(-1)^{k+\\ell}\\left|A_{\\backslash k, \\backslash \\ell}\\right|=(\\operatorname{adj}(A))_{\\ell k} .\n",
        "$$\n",
        "From this it immediately follows from the properties of the adjoint that\n",
        "$$\n",
        "\\nabla_A|A|=(\\operatorname{adj}(A))^T=|A| A^{-T} \\text {. }\n",
        "$$\n",
        "\n",
        "Now let's consider the function $f: \\mathbb{S}_{++}^n \\rightarrow \\mathbb{R}, f(A)=\\log |A|$. Note that we have to restrict the domain of $f$ to be the positive definite matrices, since this ensures that $|A|>0$, so that the $\\log$ of $|A|$ is a real number. In this case we can use the chain rule (nothing fancy, just the ordinary chain rule from single-variable calculus) to see that\n",
        "$$\n",
        "\\frac{\\partial \\log |A|}{\\partial A_{i j}}=\\frac{\\partial \\log |A|}{\\partial|A|} \\frac{\\partial|A|}{\\partial A_{i j}}=\\frac{1}{|A|} \\frac{\\partial|A|}{\\partial A_{i j}}\n",
        "$$\n",
        "\n",
        "From this it should be obvious that\n",
        "$$\n",
        "\\nabla_A \\log |A|=\\frac{1}{|A|} \\nabla_A|A|=A^{-1}\n",
        "$$\n",
        "where we can drop the transpose in the last expression because $A$ is symmetric. Note the similarity to the single-valued case, where $\\partial /(\\partial x) \\log x=1 / x$."
      ],
      "metadata": {
        "id": "0arBfxSCc25S"
      },
      "id": "0arBfxSCc25S"
    },
    {
      "cell_type": "markdown",
      "source": [
        "<strong>Method1:</strong>\n",
        "\n",
        "<strong>Matrix A:</strong>\n",
        "\n",
        "$$\n",
        "A=\n",
        "\\begin{bmatrix}\n",
        "-1 & 2 & 3 \\\\\n",
        "4 & 5 & 6 \\\\\n",
        "7 & 8 & 9\n",
        "\\end{bmatrix}\n",
        "$$\n",
        "\n",
        "<strong>Cofactor Matrix of A:</strong>\n",
        "\n",
        "$$\n",
        "C_{i,j} = (-1)^{i+j}\\mathbf{M}_{i,j}\n",
        "$$\n",
        "\n",
        "$$\n",
        "a_{0,0}: (-1)^{0} \\times (5\\times9 - 6\\times8) = -3\\\\\n",
        "a_{0,1}: (-1)^{1} \\times (4\\times9 - 6\\times7) = 6\\\\\n",
        "a_{0,2}: (-1)^{2} \\times (4\\times8 - 5\\times7) = -3\\\\\n",
        "a_{1,0}: (-1)^{1} \\times (2\\times9 - 3\\times8) = 6\\\\\n",
        "a_{1,1}: (-1)^{2} \\times (-1\\times9 - 3\\times7) = -30\\\\\n",
        "a_{1,2}: (-1)^{3} \\times (-1\\times8 - 2\\times7) = 22\\\\\n",
        "a_{2,0}: (-1)^{2} \\times (2\\times6 - 3\\times5) = -3\\\\\n",
        "a_{2,1}: (-1)^{3} \\times (-1\\times6 - 3\\times4) = 18\\\\\n",
        "a_{2,2}: (-1)^{4} \\times (-1\\times5 - 2\\times4) = -13\n",
        "$$\n",
        "\n",
        "$$\n",
        "C=\n",
        "\\begin{bmatrix}\n",
        "-3 & 6 & -3 \\\\\n",
        "6 & -30 & 22 \\\\\n",
        "-3 & 18 & -13\n",
        "\\end{bmatrix}\n",
        "$$\n",
        "\n",
        "<strong>Adjoint Matrix of A:</strong>\n",
        "\n",
        "$$\n",
        "\\operatorname{adj}(A) = C^T =\n",
        "\\begin{bmatrix}\n",
        "-3 & 6 & -3 \\\\\n",
        "6 & -30 & 18 \\\\\n",
        "-3 & 22 & -13\n",
        "\\end{bmatrix}\n",
        "$$\n",
        "\n",
        "<strong>Adjoint Transpose Matrix of A:</strong>\n",
        "\n",
        "$$\n",
        "\\operatorname{adj}(A)^T=\n",
        "\\begin{bmatrix}\n",
        "-3 & 6 & -3 \\\\\n",
        "6 & -30 & 18 \\\\\n",
        "-3 & 22 & -13\n",
        "\\end{bmatrix}\n",
        "\\color{red}{= C}\n",
        "$$\n",
        "\n",
        "<span style=\"color:red\"> *Note:</span>\n",
        "\n",
        "$$\n",
        "\\color{red} {\\operatorname{adj}(A)=C^T \\Rightarrow}\n",
        "$$\n",
        "$$\n",
        "\\color{red} {\\nabla_A|A|=(\\operatorname{adj}(A))^T=|A| A^{-T} =C}\n",
        "$$\n",
        "    \n",
        "<span style=\"color:red\"> Reference:</span> https://ocw.mit.edu/courses/18-s096-matrix-calculus-for-machine-learning-and-beyond-january-iap-2022/pages/lecture-notes-and-readings/"
      ],
      "metadata": {
        "id": "sz6qmYAVc6hq"
      },
      "id": "sz6qmYAVc6hq"
    },
    {
      "cell_type": "code",
      "source": [
        "import numpy as np\n",
        "\n",
        "# Define matrix\n",
        "\n",
        "'''\n",
        "A = np.array([[1, 2],\n",
        "              [3, 4]])\n",
        "'''\n",
        "'''\n",
        "A = np.array([[-3, 2, -5],\n",
        "              [-1, 0, -2],\n",
        "              [3, -4, 1]])\n",
        "'''\n",
        "\n",
        "A = np.array([[-1, 2, 3],\n",
        "              [4, 5, 6],\n",
        "              [7, 8, 9]])\n",
        "\n",
        "\n",
        "# Calculate determinant\n",
        "det_A = np.linalg.det(A)\n",
        "\n",
        "print(\"Matrix A:\")\n",
        "print(A)\n",
        "print(\"Determinant of A:\", det_A)\n",
        "\n",
        "# Method1\n",
        "\n",
        "# Calculate adjugate matrix\n",
        "adj_A = np.linalg.inv(A) * det_A\n",
        "\n",
        "# Calculate gradient of determinant\n",
        "grad_det_A = adj_A.T\n",
        "\n",
        "print(\"Adjoint matrix of A:\")\n",
        "print(adj_A)\n",
        "print(\"Method1: adj(A)^T :\")\n",
        "print(\"Gradient of determinant of A Acording to Method1:\")\n",
        "print(grad_det_A)\n",
        "\n",
        "# Method2\n",
        "\n",
        "# Calculate inverse matrix\n",
        "A_inv = np.linalg.inv(A)\n",
        "\n",
        "# Calculate gradient of determinant\n",
        "g_det_A = det_A * A_inv.T\n",
        "\n",
        "print(\"Method2: det(A) * A^-T :\")\n",
        "print(\"Gradient of determinant of A Acording to Method2:\")\n",
        "print(g_det_A)\n",
        "\n",
        "\n",
        "# Method3\n",
        "\n",
        "def determinant_gradient(A):\n",
        "    n, m = A.shape\n",
        "    grad_det_matrix = np.zeros((n, m))\n",
        "    for i in range(0,n):\n",
        "        for j in range(0,m):\n",
        "                grad_det_matrix[i][j]=(-1)**(i+j)*(np.linalg.det(np.delete(np.delete(A, i, axis=0), j, axis=1)))\n",
        "    return grad_det_matrix\n",
        "\n",
        "print(\"Method3: C :\")\n",
        "print(\"Gradient of determinant of A Acording to Method3:\")\n",
        "print(determinant_gradient(A))"
      ],
      "metadata": {
        "id": "EFnYhAAt-xDE",
        "colab": {
          "base_uri": "https://localhost:8080/"
        },
        "outputId": "592be566-2ae3-44bf-9a7b-7493d0fc1dc9"
      },
      "id": "EFnYhAAt-xDE",
      "execution_count": null,
      "outputs": [
        {
          "output_type": "stream",
          "name": "stdout",
          "text": [
            "Matrix A:\n",
            "[[-1  2  3]\n",
            " [ 4  5  6]\n",
            " [ 7  8  9]]\n",
            "Determinant of A: 6.000000000000016\n",
            "Adjoint matrix of A:\n",
            "[[ -3.   6.  -3.]\n",
            " [  6. -30.  18.]\n",
            " [ -3.  22. -13.]]\n",
            "Method1: adj(A)^T :\n",
            "Gradient of determinant of A Acording to Method1:\n",
            "[[ -3.   6.  -3.]\n",
            " [  6. -30.  22.]\n",
            " [ -3.  18. -13.]]\n",
            "Method2: det(A) * A^-T :\n",
            "Gradient of determinant of A Acording to Method2:\n",
            "[[ -3.   6.  -3.]\n",
            " [  6. -30.  22.]\n",
            " [ -3.  18. -13.]]\n",
            "Method3: C :\n",
            "Gradient of determinant of A Acording to Method3:\n",
            "[[ -3.   6.  -3.]\n",
            " [  6. -30.  22.]\n",
            " [ -3.  18. -13.]]\n"
          ]
        }
      ]
    },
    {
      "cell_type": "markdown",
      "source": [
        "\n",
        "\n",
        "---\n",
        "\n",
        "\n",
        "\n",
        "---\n",
        "\n",
        "\n",
        "\n",
        "---\n",
        "\n"
      ],
      "metadata": {
        "id": "9qGcusj-7LL-"
      },
      "id": "9qGcusj-7LL-"
    },
    {
      "cell_type": "markdown",
      "source": [
        "## Examples\n",
        "#### Please add your examples + code under this section\n",
        "\n",
        "1.   Boyd Examples\n",
        "2.   CVXPY.org -> Basic Examples\n",
        "3.   Examples in different Links\n",
        "\n"
      ],
      "metadata": {
        "id": "pI0QYbdD-x_j"
      },
      "id": "pI0QYbdD-x_j"
    },
    {
      "cell_type": "code",
      "source": [
        "## Ms. Faridi\n",
        "## Example : Semidefinite Example in CVXPY.org\n",
        "### Link: https://www.cvxpy.org/examples/basic/sdp.html\n",
        "###"
      ],
      "metadata": {
        "id": "cB-nU0mB-xAt"
      },
      "id": "cB-nU0mB-xAt",
      "execution_count": null,
      "outputs": []
    },
    {
      "cell_type": "code",
      "source": [
        "# Import packages.\n",
        "import cvxpy as cp\n",
        "import numpy as np\n",
        "\n",
        "# Generate a random SDP.\n",
        "n = 3\n",
        "p = 3\n",
        "np.random.seed(1)\n",
        "C = np.random.randn(n, n)\n",
        "A = []\n",
        "b = []\n",
        "for i in range(p):\n",
        "    A.append(np.random.randn(n, n))\n",
        "    b.append(np.random.randn())"
      ],
      "metadata": {
        "id": "sX-Rk9JZrHGJ"
      },
      "id": "sX-Rk9JZrHGJ",
      "execution_count": null,
      "outputs": []
    },
    {
      "cell_type": "code",
      "source": [
        "A"
      ],
      "metadata": {
        "colab": {
          "base_uri": "https://localhost:8080/"
        },
        "id": "M2MzattmmmQ8",
        "outputId": "a020bec8-82be-4b25-dcf5-0448d1b74123"
      },
      "execution_count": null,
      "outputs": [
        {
          "output_type": "execute_result",
          "data": {
            "text/plain": [
              "[array([[-0.24937038,  1.46210794, -2.06014071],\n",
              "        [-0.3224172 , -0.38405435,  1.13376944],\n",
              "        [-1.09989127, -0.17242821, -0.87785842]]),\n",
              " array([[ 0.58281521, -1.10061918,  1.14472371],\n",
              "        [ 0.90159072,  0.50249434,  0.90085595],\n",
              "        [-0.68372786, -0.12289023, -0.93576943]]),\n",
              " array([[ 0.53035547, -0.69166075, -0.39675353],\n",
              "        [-0.6871727 , -0.84520564, -0.67124613],\n",
              "        [-0.0126646 , -1.11731035,  0.2344157 ]])]"
            ]
          },
          "metadata": {},
          "execution_count": 43
        }
      ],
      "id": "M2MzattmmmQ8"
    },
    {
      "cell_type": "code",
      "source": [
        "b"
      ],
      "metadata": {
        "id": "L5FJAGVQowkQ",
        "outputId": "6af8bb30-2a52-4259-c2a9-fecc60c3a3d1",
        "colab": {
          "base_uri": "https://localhost:8080/"
        }
      },
      "execution_count": null,
      "outputs": [
        {
          "output_type": "execute_result",
          "data": {
            "text/plain": [
              "[0.04221374671559283, -0.2678880796260159, 1.6598021771098705]"
            ]
          },
          "metadata": {},
          "execution_count": 44
        }
      ],
      "id": "L5FJAGVQowkQ"
    },
    {
      "cell_type": "code",
      "source": [
        "# Define and solve the CVXPY problem.\n",
        "# Create a symmetric matrix variable.\n",
        "X = cp.Variable((n,n), symmetric=True)"
      ],
      "metadata": {
        "id": "KVQzAm0yoSRo"
      },
      "execution_count": null,
      "outputs": [],
      "id": "KVQzAm0yoSRo"
    },
    {
      "cell_type": "markdown",
      "source": [
        "![image.png](data:image/png;base64,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)"
      ],
      "metadata": {
        "id": "z4LqDJ4Pm7Tk"
      },
      "id": "z4LqDJ4Pm7Tk"
    },
    {
      "cell_type": "code",
      "source": [
        "# The operator >> denotes matrix inequality.\n",
        "constraints = [X >> 0]\n",
        "constraints += [\n",
        "    cp.trace(A[i] @ X) == b[i] for i in range(p)\n",
        "]"
      ],
      "metadata": {
        "id": "2n-6ipKtm4kJ"
      },
      "execution_count": null,
      "outputs": [],
      "id": "2n-6ipKtm4kJ"
    },
    {
      "cell_type": "code",
      "source": [
        "prob = cp.Problem(cp.Minimize(cp.trace(C @ X)),\n",
        "                  constraints)\n",
        "prob.solve()"
      ],
      "metadata": {
        "colab": {
          "base_uri": "https://localhost:8080/"
        },
        "id": "8z_pQ392nVFk",
        "outputId": "6e9a0243-41c7-4854-8908-d547f7a4bc22"
      },
      "execution_count": null,
      "outputs": [
        {
          "output_type": "execute_result",
          "data": {
            "text/plain": [
              "2.654347058555728"
            ]
          },
          "metadata": {},
          "execution_count": 47
        }
      ],
      "id": "8z_pQ392nVFk"
    },
    {
      "cell_type": "code",
      "source": [
        "# Print result.\n",
        "print(\"The optimal value is\", prob.value)\n",
        "print(\"A solution X is\")\n",
        "print(X.value)"
      ],
      "metadata": {
        "id": "TRUAwtdhndjv",
        "outputId": "9fe4d7ed-9ccb-4927-b602-194e7667c3fb",
        "colab": {
          "base_uri": "https://localhost:8080/"
        }
      },
      "execution_count": null,
      "outputs": [
        {
          "output_type": "stream",
          "name": "stdout",
          "text": [
            "The optimal value is 2.654347058555728\n",
            "A solution X is\n",
            "[[ 1.60805504 -0.59770125 -0.69575821]\n",
            " [-0.59770125  0.22228555  0.24689067]\n",
            " [-0.69575821  0.24689067  1.39679134]]\n"
          ]
        }
      ],
      "id": "TRUAwtdhndjv"
    },
    {
      "cell_type": "code",
      "source": [
        "## Mrs. Asadzadeh\n",
        "## Example : Knapsack Problem\n",
        "## From : \"\"\"\"ADD NAME OF THE PDF FILE\n",
        "### Link: ?????????\n",
        "###"
      ],
      "metadata": {
        "id": "bBI34-u1-w-O"
      },
      "id": "bBI34-u1-w-O",
      "execution_count": null,
      "outputs": []
    },
    {
      "cell_type": "markdown",
      "source": [
        "<h1 id=\"hid1\" class=\"section\">Prepared by Nadia Yazdani</h1>\n",
        "\n",
        "Reference:\n",
        "\n",
        "https://colab.research.google.com/github/cvxpy/cvxpy/blob/master/examples/notebooks/WWW/mTSP_en.ipynb#scrollTo=WkvfuVQkFhyj </br>\n",
        "\n",
        "Code reference:\n",
        "\n",
        "https://colab.research.google.com/github/cvxpy/cvxpy/blob/master/examples/notebooks/WWW/mTSP_en.ipynb#scrollTo=WkvfuVQkFhyj </br>"
      ],
      "metadata": {
        "id": "pNEqqf7OS_zh"
      },
      "id": "pNEqqf7OS_zh"
    },
    {
      "cell_type": "markdown",
      "source": [
        "\n",
        "# Multiple Traveling Salesman Problem\n",
        "\n",
        "## 1. Mathematical Problem\n",
        "\n",
        "In this notebook, we show how to solve the Multiple Traveling Salesman Problem (mTSP) using CVXPY. The problem considers $m$ traveling salesmen. To solve it, I'm going to use the Miller-Tucker-Zemlin formulation, which follows:\n",
        "\n",
        "The cities are identified with the numbers $1, \\ldots, n$, with which we define:\n",
        "\n",
        "$$\n",
        "x_{ij} = \\begin{cases} 1 & \\text{the path goes from the city} \\, i \\text{ to city } j \\\\ 0 & \\text{otherwise} \\end{cases}\n",
        "$$\n",
        "\n",
        "For $i = 1, \\ldots, n$, $m$ is the number of salesmen, $u_{i}$ is an auxiliary variable and $c_{i, j}$ is the distance from city $i$ to the city $j$. Then the mTSP can be written as the following integer linear programming problem:\n",
        "\n",
        "$$\n",
        "\\begin{align}\n",
        "\\min &\\sum_{i=1}^n \\sum_{j\\ne i,j=1}^n c_{i,j}x_{i,j}\\colon &&  \\\\\n",
        "     & \\sum_{i=2}^n x_{i,1} = m \\\\\n",
        "     & \\sum_{j=2}^n x_{1,j} = m \\\\\n",
        "     & \\sum_{i=2,i\\ne j}^n x_{i,j} = 1 && j=1, \\ldots, n; \\\\\n",
        "     & \\sum_{j=2,j\\ne i}^n x_{i,j} = 1 && i=1, \\ldots, n; \\\\\n",
        "     & u_{i}-u_{j} + 1 \\le (n-1)(1-x_{i,j}) && 2 \\le i \\ne j \\le n;  \\\\\n",
        "     & 0 \\le u_{i} \\le n && 2 \\le i \\le n; \\\\\n",
        "     & x_{i,j} \\in \\{0,1\\}  && i,j=1, \\ldots, n; \\\\\n",
        "     & u_{i} \\in \\mathbf{Z} && i=2, \\ldots, n. \\\\\n",
        "\\end{align}\n",
        "$$\n",
        "\n",
        "The objective function minimizes the distance of each salesman's routes. The first two restrictions guarantee that there is a number of salesmen $m$ who leave and return to the city of origin. The following two restrictions ensure that each city is reached from exactly one other city and that from each city there is an exit to exactly one other city. The constraints of the auxiliary variables force that no salesman passes through the same city twice.\n",
        "\n",
        "## 2. Example for a single Traveling Salesman\n",
        "\n",
        "We are going to find the optimal paths (shortest distance) for a single salesman that starts from the point of origin (O) and must pass through all points A to F and return to point O.\n",
        "\n",
        "| Point |\tCoordinates |\n",
        "| :----------: | :----------: |\n",
        "| Origin(O) | (-12.059296, -76.975893) |\n",
        "| A | (-12.079575, -77.009686) |\n",
        "| B | (-12.087303, -76.996620) |\n",
        "| C | (-12.084391, -76.975651) |\n",
        "| D | (-12.063603, -76.960483) |\n",
        "| E | (-12.056762, -77.014452) |\n",
        "| F | (-12.011531, -77.002383) |"
      ],
      "metadata": {
        "id": "V-XLlGP0S2QG"
      },
      "id": "V-XLlGP0S2QG"
    },
    {
      "cell_type": "code",
      "source": [
        "################################################\n",
        "# Loading libraries\n",
        "################################################\n",
        "!pip install --quiet geopy\n",
        "\n",
        "import numpy as np\n",
        "import pandas as pd\n",
        "import matplotlib.pyplot as plt\n",
        "import cvxpy as cp\n",
        "from geopy import distance # Library for geographical calculations\n",
        "\n",
        "################################################\n",
        "# Original Data\n",
        "################################################\n",
        "points = [(-12.059296, -76.975893),\n",
        "          (-12.078000, -77.009686),\n",
        "          (-12.087303, -76.996620),\n",
        "          (-12.084391, -76.975651),\n",
        "          (-12.063603, -76.960483),\n",
        "          (-12.056762, -77.014452),\n",
        "          (-12.011531, -77.002383)]\n",
        "\n",
        "################################################\n",
        "# Building distance matrix\n",
        "################################################\n",
        "n = len(points)\n",
        "C = np.zeros((n,n))\n",
        "\n",
        "for i in range(0, n):\n",
        "    for j in range(0, len(points)):\n",
        "        C[i,j] = distance.distance(points[i], points[j]).km\n",
        "\n",
        "# Showing distance matrix\n",
        "print('Distance Matrix is:\\n')\n",
        "print(np.round(C,4))"
      ],
      "metadata": {
        "id": "oHKOeQmSTIoW",
        "colab": {
          "base_uri": "https://localhost:8080/"
        },
        "outputId": "3eb12630-f3d8-4ac5-e374-b4a9c1f96d8d"
      },
      "id": "oHKOeQmSTIoW",
      "execution_count": null,
      "outputs": [
        {
          "output_type": "stream",
          "name": "stdout",
          "text": [
            "Distance Matrix is:\n",
            "\n",
            "[[0.     4.2211 3.8329 2.7762 1.7441 4.2076 6.0199]\n",
            " [4.2211 0.     1.7557 3.7722 5.5887 2.406  7.3958]\n",
            " [3.8329 1.7557 0.     2.3055 4.7278 3.8966 8.4056]\n",
            " [2.7762 3.7722 2.3055 0.     2.8311 5.2142 8.5694]\n",
            " [1.7441 5.5887 4.7278 2.8311 0.     5.9246 7.3483]\n",
            " [4.2076 2.406  3.8966 5.2142 5.9246 0.     5.1733]\n",
            " [6.0199 7.3958 8.4056 8.5694 7.3483 5.1733 0.    ]]\n"
          ]
        }
      ]
    },
    {
      "cell_type": "code",
      "source": [
        "import matplotlib.pyplot as plt\n",
        "import networkx as nx\n",
        "\n",
        "# Create a graph\n",
        "G = nx.Graph()\n",
        "\n",
        "# Add nodes to the graph\n",
        "for i, point in enumerate(points):\n",
        "    G.add_node(i, pos=point)\n",
        "\n",
        "# Add edges between all pairs of nodes\n",
        "for i in range(len(points)):\n",
        "    for j in range(i + 1, len(points)):\n",
        "        G.add_edge(i, j)\n",
        "\n",
        "# Get positions of nodes\n",
        "pos = nx.get_node_attributes(G, 'pos')\n",
        "\n",
        "# Plot the graph\n",
        "plt.figure(figsize=(8, 6))\n",
        "nx.draw_networkx(G, pos, node_size=200, node_color='steelblue', edge_color='gray')\n",
        "\n",
        "# Set labels and title\n",
        "plt.xlabel('Latitude')\n",
        "plt.ylabel('Longitude')\n",
        "plt.title('Fully Connected Graph')\n",
        "\n",
        "# Display the plot\n",
        "plt.tight_layout()\n",
        "plt.show()\n"
      ],
      "metadata": {
        "colab": {
          "base_uri": "https://localhost:8080/",
          "height": 607
        },
        "id": "pzWyr7Q7IcXU",
        "outputId": "274be233-ea73-482d-94de-6857a0d617b9"
      },
      "id": "pzWyr7Q7IcXU",
      "execution_count": null,
      "outputs": [
        {
          "output_type": "display_data",
          "data": {
            "text/plain": [
              "<Figure size 800x600 with 1 Axes>"
            ],
            "image/png": "[encoded data removed]"
          },
          "metadata": {}
        }
      ]
    },
    {
      "cell_type": "code",
      "source": [
        "################################################\n",
        "# Solving the integer programming problem\n",
        "################################################\n",
        "\n",
        "# Defining variables\n",
        "X = cp.Variable(C.shape, boolean=True)\n",
        "u = cp.Variable(n, integer=True)\n",
        "ones = np.ones((n,1))\n",
        "\n",
        "\n",
        "# Defining the objective function\n",
        "objective = cp.Minimize(cp.sum(cp.multiply(C, X)))\n",
        "\n",
        "\n",
        "# Defining the constraints\n",
        "constraints = []\n",
        "constraints += [X @ ones == ones]\n",
        "constraints += [X.T @ ones == ones]\n",
        "constraints += [cp.diag(X) == 0]\n",
        "constraints += [u[1:] >= 2]\n",
        "constraints += [u[1:] <= n]\n",
        "constraints += [u[0] == 1]\n",
        "\n",
        "for i in range(1, n):\n",
        "    for j in range(1, n):\n",
        "        if i != j:\n",
        "            constraints += [ u[i] - u[j] + 1  <= (n - 1) * (1 - X[i, j]) ]\n",
        "\n",
        "# Solving the problem\n",
        "prob = cp.Problem(objective, constraints)\n",
        "prob.solve(verbose=False)\n",
        "\n",
        "# Transforming the solution to a path\n",
        "X_sol = np.argwhere(X.value==1)\n",
        "orden = X_sol[0].tolist()\n",
        "\n",
        "for i in range(1, n):\n",
        "    row = orden[-1]\n",
        "    orden.append(X_sol[row,1])\n",
        "\n",
        "# Showing the optimal path\n",
        "print('The path is:\\n')\n",
        "print( ' => '.join(map(str, orden)))\n"
      ],
      "metadata": {
        "colab": {
          "base_uri": "https://localhost:8080/"
        },
        "id": "n2q7xv0UTMhj",
        "outputId": "2aeaf20a-d8b8-4254-92e0-2c34bbcf9d17"
      },
      "id": "n2q7xv0UTMhj",
      "execution_count": null,
      "outputs": [
        {
          "output_type": "stream",
          "name": "stdout",
          "text": [
            "The path is:\n",
            "\n",
            "0 => 6 => 5 => 1 => 2 => 3 => 4 => 0\n"
          ]
        }
      ]
    },
    {
      "cell_type": "code",
      "source": [
        "import matplotlib.pyplot as plt\n",
        "\n",
        "\n",
        "# Separate the x and y coordinates\n",
        "x = [point[0] for point in points]\n",
        "y = [point[1] for point in points]\n",
        "\n",
        "# Plot the points\n",
        "plt.scatter(x, y)\n",
        "\n",
        "# Connect the points based on the order\n",
        "for i in range(len(orden) - 1):\n",
        "    start = orden[i]\n",
        "    end = orden[i + 1]\n",
        "    plt.plot([points[start][0], points[end][0]], [points[start][1], points[end][1]], 'r-')\n",
        "\n",
        "# Add numbers to the points\n",
        "for i, point in enumerate(points):\n",
        "    plt.annotate(str(i), xy=point, xytext=(5, 5), textcoords='offset points')\n",
        "\n",
        "# Set labels and title\n",
        "plt.xlabel('Latitude')\n",
        "plt.ylabel('Longitude')\n",
        "plt.title('Connected Points')\n",
        "\n",
        "# Display the plot\n",
        "plt.show()\n"
      ],
      "metadata": {
        "colab": {
          "base_uri": "https://localhost:8080/",
          "height": 472
        },
        "id": "gp9SRBl-LAc5",
        "outputId": "e4cb0b1a-adc3-4912-9179-5fedd0db9b1e"
      },
      "id": "gp9SRBl-LAc5",
      "execution_count": null,
      "outputs": [
        {
          "output_type": "display_data",
          "data": {
            "text/plain": [
              "<Figure size 640x480 with 1 Axes>"
            ],
            "image/png": "[encoded data removed]"
          },
          "metadata": {}
        }
      ]
    },
    {
      "cell_type": "code",
      "source": [
        "################################################\n",
        "# Plotting the optimal path\n",
        "################################################\n",
        "\n",
        "# Transforming the points to the xy plane approximately\n",
        "xy_cords = np.zeros((n,2))\n",
        "\n",
        "for i in range(0, n):\n",
        "    xy_cords[i,0] = distance.distance((points[0][1],0), (points[i][1],0)).km\n",
        "    xy_cords[i,1] = distance.distance((0,points[0][0]), (0,points[i][0])).km\n",
        "\n",
        "# Plotting the points\n",
        "fig, ax = plt.subplots(figsize=(14,7))\n",
        "\n",
        "for i in range(n):\n",
        "    ax.annotate(str(i), xy=(xy_cords[i,0], xy_cords[i,1]+0.1))\n",
        "\n",
        "ax.scatter(xy_cords[:,0],xy_cords[:,1])\n",
        "ax.plot(xy_cords[orden,0], xy_cords[orden,1])"
      ],
      "metadata": {
        "colab": {
          "base_uri": "https://localhost:8080/",
          "height": 617
        },
        "id": "P3lqO3YuTQqR",
        "outputId": "8fa56020-7d71-4874-af52-181b90eb6246"
      },
      "id": "P3lqO3YuTQqR",
      "execution_count": null,
      "outputs": [
        {
          "output_type": "execute_result",
          "data": {
            "text/plain": [
              "[<matplotlib.lines.Line2D at 0x7aeac6799c60>]"
            ]
          },
          "metadata": {},
          "execution_count": 54
        },
        {
          "output_type": "display_data",
          "data": {
            "text/plain": [
              "<Figure size 1400x700 with 1 Axes>"
            ],
            "image/png": "[encoded data removed]"
          },
          "metadata": {}
        }
      ]
    },
    {
      "cell_type": "markdown",
      "source": [
        "<h1 id=\"hid1\" class=\"section\">Prepared by Mojtaba Mozhganfar</h1>\n",
        "\n",
        "Reference:\n",
        "\n",
        "https://machinelearninggeek.com/solving-linear-programming-using-python-pulp/"
      ],
      "metadata": {
        "id": "DR5vxuOBTSyc"
      },
      "id": "DR5vxuOBTSyc"
    },
    {
      "cell_type": "markdown",
      "source": [
        "# Modeling Linear Programming Using Python PuLP\n",
        "There are various excellent optimization python packages are available such as SciPy, PuLP, Gurobi, and CPLEX. In this article, we will focus on the PuLP python library. PuLP is a general-purpose and open-source Linear Programming modeling package in python.\n",
        "\n",
        "\n"
      ],
      "metadata": {
        "id": "PBtosqD0RRLv"
      },
      "id": "PBtosqD0RRLv"
    },
    {
      "cell_type": "code",
      "source": [
        " #Install pulp package:\n",
        "\n",
        " !pip install pulp\n",
        "\n",
        "#PuLP modeling process has the following steps for solving LP problems:\n",
        "\n",
        "#Initialize Model\n",
        "#Define Decision Variable\n",
        "#Define Objective Function\n",
        "#Define the Constraints\n",
        "#Solve Model"
      ],
      "metadata": {
        "colab": {
          "base_uri": "https://localhost:8080/"
        },
        "id": "P5pwUc9OTIuM",
        "outputId": "96159c1b-8e37-4d7d-988a-f242766078ec"
      },
      "id": "P5pwUc9OTIuM",
      "execution_count": null,
      "outputs": [
        {
          "output_type": "stream",
          "name": "stdout",
          "text": [
            "Collecting pulp\n",
            "  Downloading PuLP-2.7.0-py3-none-any.whl (14.3 MB)\n",
            "\u001b[2K     \u001b[90m━━━━━━━━━━━━━━━━━━━━━━━━━━━━━━━━━━━━━━━━\u001b[0m \u001b[32m14.3/14.3 MB\u001b[0m \u001b[31m54.6 MB/s\u001b[0m eta \u001b[36m0:00:00\u001b[0m\n",
            "\u001b[?25hInstalling collected packages: pulp\n",
            "Successfully installed pulp-2.7.0\n"
          ]
        }
      ]
    },
    {
      "cell_type": "markdown",
      "source": [
        "## Understand the problem\n",
        "This problem is taken from [Introduction to Management Science By Stevenson and Ozgur.](https://www.amazon.in/Introduction-Management-Science-Spreadsheets-Student/dp/0073252905)\n",
        "\n",
        "A furniture company produces a variety of products. One department specializes in wood tables, chairs, and bookcases. These are made using three resources labor, wood, and machine time. The department has 60 hours of labor available each day, 16 hours of machine time, and 400 board feet of wood. A consultant has developed a linear programming model for the department.\n",
        "\n",
        "x1= quantity of tables\n",
        "\n",
        "x2= quantity of chairs\n",
        "\n",
        "x3= quantity of bookcases\n",
        "\n",
        "**Objective Function:** Profit = 40*x1+30*x2+45*x3\n",
        "\n",
        "**Constraints:**\n",
        "\n",
        "* labor: 2*x1 + 1*x2 + 2.5*x3 <= 60 Hours\n",
        "* Machine: 0.8*x1 + 0.6*x2 + 1.0*x3 <= 16 Hours\n",
        "* Wood: 30*x1 + 20*x2 + 30*x3 <= 400 board-feet\n",
        "* Tables: x1>=10 board-feet\n",
        "* x1, x2, x3 >= 0\n",
        "\n",
        "## Initialize Model\n",
        "In this step, we will import all the classes and functions of pulp module and create a Maxzimization LP problem using LpProblem class."
      ],
      "metadata": {
        "id": "d245z2kaTaYF"
      },
      "id": "d245z2kaTaYF"
    },
    {
      "cell_type": "code",
      "source": [
        "# Import all classes of PuLP module\n",
        "!pip install -q pulp\n",
        "from pulp import *\n",
        "\n",
        "# Create the problem variable to contain the problem data\n",
        "model = LpProblem(\"FurnitureProblem\", LpMaximize)"
      ],
      "metadata": {
        "id": "cfSsFyLZT0ec"
      },
      "id": "cfSsFyLZT0ec",
      "execution_count": null,
      "outputs": []
    },
    {
      "cell_type": "markdown",
      "source": [
        "## Define Decision Variable\n",
        "In this step, we will define the decision variables. In our problem, we have three variables wood tables, chairs, and bookcases. Let’s create them using LpVariable class. LpVariable will take the following four values:\n",
        "\n",
        "* First, arbitrary name of what this variable represents.\n",
        "* Second is the lower bound on this variable.\n",
        "* Third is the upper bound.\n",
        "* Fourth is essentially the type of data (discrete or continuous). The options for the fourth parameter are *LpContinuous* or *LpInteger*.\n"
      ],
      "metadata": {
        "id": "V7i_X1LAT6Uc"
      },
      "id": "V7i_X1LAT6Uc"
    },
    {
      "cell_type": "code",
      "source": [
        "# Create 3 variables tables, chairs, and bookcases\n",
        "\n",
        "x1 = LpVariable(\"tables\", 0, None, LpInteger)\n",
        "x2 = LpVariable(\"chairs\", 0, None, LpInteger)\n",
        "x3 = LpVariable(\"bookcases\", 0, None, LpInteger)"
      ],
      "metadata": {
        "id": "eTq5DeD4UPNT"
      },
      "id": "eTq5DeD4UPNT",
      "execution_count": null,
      "outputs": []
    },
    {
      "cell_type": "markdown",
      "source": [
        "## Define Objective Function\n",
        "In this step, we will define the maximum objective function by adding it to the *LpProblem* object.\n",
        "\n"
      ],
      "metadata": {
        "id": "DiYpcgsuURfC"
      },
      "id": "DiYpcgsuURfC"
    },
    {
      "cell_type": "code",
      "source": [
        "# Create maximize objective function\n",
        "model += 40 * x1 + 30 * x2 + 45 * x3"
      ],
      "metadata": {
        "id": "Jz4MiU-YUVUL"
      },
      "id": "Jz4MiU-YUVUL",
      "execution_count": null,
      "outputs": []
    },
    {
      "cell_type": "markdown",
      "source": [
        "## Define the Constraints\n",
        "In this step, we will add the 4 constraints defined in the problem by adding them to the LpProblem object."
      ],
      "metadata": {
        "id": "-hZsRTRqUY68"
      },
      "id": "-hZsRTRqUY68"
    },
    {
      "cell_type": "code",
      "source": [
        "# Create three constraints\n",
        "model += 2 * x1 + 1 * x2 + 2.5 * x3 <= 60, \"Labour\"\n",
        "model += 0.8 * x1 + 0.6 * x2 + 1.0 * x3 <= 16, \"Machine\"\n",
        "model += 30 * x1 + 20 * x2 + 30 * x3 <= 400, \"wood\"\n",
        "model += x1 >= 10, \"tables\""
      ],
      "metadata": {
        "id": "sleI16PCUcAL"
      },
      "id": "sleI16PCUcAL",
      "execution_count": null,
      "outputs": []
    },
    {
      "cell_type": "markdown",
      "source": [
        "## Solve Model\n",
        "In this step, we will solve the LP problem by calling solve() method. We can print the final value by using the following for loop."
      ],
      "metadata": {
        "id": "jbEjG6smUgJD"
      },
      "id": "jbEjG6smUgJD"
    },
    {
      "cell_type": "code",
      "source": [
        "# The problem is solved using PuLP's choice of Solver\n",
        "model.solve()\n",
        "\n",
        "# Each of the variables is printed with it's resolved optimum value\n",
        "for v in model.variables():\n",
        "    print(v.name, \"=\", v.varValue)"
      ],
      "metadata": {
        "colab": {
          "base_uri": "https://localhost:8080/"
        },
        "id": "tDwG85LaUkYT",
        "outputId": "7ebd102c-bdcc-4917-bceb-1ea9f663890d"
      },
      "id": "tDwG85LaUkYT",
      "execution_count": null,
      "outputs": [
        {
          "output_type": "stream",
          "name": "stdout",
          "text": [
            "bookcases = 0.0\n",
            "chairs = 5.0\n",
            "tables = 10.0\n"
          ]
        }
      ]
    },
    {
      "cell_type": "markdown",
      "source": [
        "<h1 id=\"hid1\" class=\"section\">Prepared by Leila Asadzadeh</h1>\n",
        "\n",
        "Reference: https://sofdem.github.io/teach/oro/m2oro-ilp-demassey-notes-lec7-8.pdf\n",
        "\n"
      ],
      "metadata": {
        "id": "lmwRe4U4_YPU"
      },
      "id": "lmwRe4U4_YPU"
    },
    {
      "cell_type": "markdown",
      "metadata": {
        "id": "-LWnLW3LKGvU"
      },
      "source": [
        "## Knapsack problem example\n",
        "\n",
        "The knapsack problem is a well known combinatorial optimization problem. Given a set of items, each with a size and a value, the problem is to choose the items that maximize the total value under the condition that the total size is below a certain threshold.\n",
        "\n",
        "Formally, let\n",
        "\n",
        " $ \\bullet $ $x_i$ be a boolean variable that indicates whether item $i$ is included in the knapsack,\n",
        "\n",
        " $ \\bullet $ $n$ be the total number of items,\n",
        "\n",
        " $ \\bullet $ $v_i$ be the value of item $i$,\n",
        "\n",
        " $ \\bullet $ $s_i$ be the size of item $i$, and\n",
        "\n",
        " $ \\bullet $ $C$ be the capacity of the knapsack.\n",
        "\n",
        "Then the problem is:\n",
        "\n",
        "$$  max \\sum _i^{n} v_ix_i $$\n",
        "$$  subject\\ to \\sum _i^{n} s_ix_i \\leq C,x_i \\in 0,1 $$\n",
        "\n",
        "Although the objective function and inequality constraints are linear in the decision variables $x_i$, this differs from a typical linear programming problem in that the decision variables can only assume integer values. Specifically, our decision variables can only be 0 or 1, so this is known as a binary integer linear program (BILP). Such a problem falls within the larger class of mixed integer linear programs (MILPs), which we we can solve with milp.\n",
        "\n",
        "In our example, there are 8 items to choose from, and the size and value of each is specified as follows.\n"
      ],
      "id": "-LWnLW3LKGvU"
    },
    {
      "cell_type": "code",
      "execution_count": null,
      "metadata": {
        "id": "H3A99jPfKGvU"
      },
      "outputs": [],
      "source": [
        "import numpy as np\n",
        "from scipy import optimize\n",
        "sizes = np.array([21, 11, 15, 9, 34, 25, 41, 52])\n",
        "values = np.array([22, 12, 16, 10, 35, 26, 42, 53])"
      ],
      "id": "H3A99jPfKGvU"
    },
    {
      "cell_type": "markdown",
      "source": [
        "We need to constrain our eight decision variables to be binary. We do so by adding a Bounds: constraint to ensure that they lie between 0 and 1, and we apply “integrality” constraints to ensure that they are either 0 or 1."
      ],
      "metadata": {
        "id": "ELMIkxEJsm-B"
      },
      "id": "ELMIkxEJsm-B"
    },
    {
      "cell_type": "code",
      "execution_count": null,
      "metadata": {
        "id": "Odw2-Et8KGvV"
      },
      "outputs": [],
      "source": [
        "bounds = optimize.Bounds(0, 1)  # 0 <= x_i <= 1\n",
        "integrality = np.full_like(values, True)  # x_i are integers"
      ],
      "id": "Odw2-Et8KGvV"
    },
    {
      "cell_type": "markdown",
      "source": [
        "The knapsack capacity constraint is specified using LinearConstraint."
      ],
      "metadata": {
        "id": "Tx1D4eWetAVt"
      },
      "id": "Tx1D4eWetAVt"
    },
    {
      "cell_type": "code",
      "execution_count": null,
      "metadata": {
        "id": "iF4NoiIxKGvW"
      },
      "outputs": [],
      "source": [
        "capacity = 100\n",
        "constraints = optimize.LinearConstraint(A=sizes, lb=0, ub=capacity)"
      ],
      "id": "iF4NoiIxKGvW"
    },
    {
      "cell_type": "markdown",
      "source": [
        "If we are following the usual rules of linear algebra, the input A should be a two-dimensional matrix, and the lower and upper bounds lb and ub should be one-dimensional vectors, but LinearConstraint is forgiving as long as the inputs can be broadcast to consistent shapes.\n",
        "\n",
        "Using the variables defined above, we can solve the knapsack problem using milp. Note that milp minimizes the objective function, but we want to maximize the total value, so we set c to be negative of the values."
      ],
      "metadata": {
        "id": "cu9EM-zBtPE8"
      },
      "id": "cu9EM-zBtPE8"
    },
    {
      "cell_type": "code",
      "execution_count": null,
      "metadata": {
        "id": "00l1eC_tKGvX"
      },
      "outputs": [],
      "source": [
        "from scipy.optimize import milp\n",
        "res = milp(c=-values, constraints=constraints,\n",
        "           integrality=integrality, bounds=bounds)"
      ],
      "id": "00l1eC_tKGvX"
    },
    {
      "cell_type": "markdown",
      "source": [
        "Let’s check the result:"
      ],
      "metadata": {
        "id": "CczbrBq3thMh"
      },
      "id": "CczbrBq3thMh"
    },
    {
      "cell_type": "code",
      "execution_count": null,
      "metadata": {
        "colab": {
          "base_uri": "https://localhost:8080/"
        },
        "id": "QsbsadtKKGvY",
        "outputId": "67b8cba5-1da4-4dd7-f25d-0dfd2b08a61b"
      },
      "outputs": [
        {
          "output_type": "stream",
          "name": "stdout",
          "text": [
            "True\n",
            "[1. 1. 0. 1. 1. 1. 0. 0.]\n"
          ]
        }
      ],
      "source": [
        "print(res.success)\n",
        "print(res.x)"
      ],
      "id": "QsbsadtKKGvY"
    },
    {
      "cell_type": "markdown",
      "source": [
        "This means that we should select the items 1, 2, 4, 5, 6 to optimize the total value under the size constraint. Note that this is different from we would have obtained had we solved the linear programming relaxation (without integrality constraints) and attempted to round the decision variables."
      ],
      "metadata": {
        "id": "735yRhnttnIh"
      },
      "id": "735yRhnttnIh"
    },
    {
      "cell_type": "code",
      "execution_count": null,
      "metadata": {
        "colab": {
          "base_uri": "https://localhost:8080/"
        },
        "id": "WMmdgGKQKGvY",
        "outputId": "73855499-69b8-44fe-cf9b-fd3775ca84c9"
      },
      "outputs": [
        {
          "output_type": "stream",
          "name": "stdout",
          "text": [
            "[1.         1.         1.         1.         0.55882353 1.\n",
            " 0.         0.        ]\n"
          ]
        }
      ],
      "source": [
        "res = milp(c=-values, constraints=constraints,\n",
        "           integrality=False, bounds=bounds)\n",
        "print(res.x)"
      ],
      "id": "WMmdgGKQKGvY"
    },
    {
      "cell_type": "markdown",
      "source": [
        "If we were to round this solution up to array([1., 1., 1., 1., 1., 1., 0., 0.]), our knapsack would be over the capacity constraint, whereas if we were to round down to array([1., 1., 1., 1., 0., 1., 0., 0.]), we would have a sub-optimal solution."
      ],
      "metadata": {
        "id": "2lnhV8ECttZz"
      },
      "id": "2lnhV8ECttZz"
    },
    {
      "cell_type": "markdown",
      "source": [
        "<h1 id=\"hid1\" class=\"section\">Prepared by Leila Asadzadeh</h1>\n",
        "\n",
        "Reference: https://www.cvxpy.org/examples/basic/mixed_integer_quadratic_program.html\n",
        "\n"
      ],
      "metadata": {
        "id": "hQRdbkRa_oz3"
      },
      "id": "hQRdbkRa_oz3"
    },
    {
      "cell_type": "markdown",
      "source": [
        "## Mixed-integer quadratic program\n",
        "\n",
        "A mixed-integer quadratic program (MIQP) is an optimization problem of the form\n",
        "\n",
        "$$ minimize\\quad x^TQx+q^Tx+r $$\n",
        "$$ subject\\ to\\quad x\\in C$$\n",
        "$$ x \\in Z^n,$$\n",
        "\n",
        "where $ x \\in Z^n$ is the optimization variable ($Z^n$ is the set of $n$-dimensional vectors with integer-valued components), $ Q \\in Z_+^n$ (the set of $n \\times n$ symmetric positive semidefinite matrices), $ q \\in R^n$, and $ r \\in R$ are problem data, and $C$ is some convex set.\n",
        "\n",
        "An example of an MIQP is mixed-integer least squares, which has the form\n",
        "\n",
        "$$ minimize\\quad \\|Ax-b\\|_2^2 $$\n",
        "$$ subject\\ to\\quad x \\in Z^n,$$\n",
        "\n",
        "where $ x \\in Z^n$ is the optimization variable, and $ A \\in R^{m\\times n}$ and\n",
        "$ b \\in R^m$ are the problem data. A solution $x^*$ of this problem will be a vector in $ Z^n$ that minimizes $\\|Ax-b\\|_2^2$.\n",
        "\n",
        "## Example\n",
        "In the following code, we solve a mixed-integer least-squares problem with CVXPY."
      ],
      "metadata": {
        "id": "2QTZ9xz4UsA3"
      },
      "id": "2QTZ9xz4UsA3"
    },
    {
      "cell_type": "code",
      "source": [
        "# installing SCIP solver\n",
        "!pip install -q condacolab\n",
        "import condacolab\n",
        "condacolab.install()\n"
      ],
      "metadata": {
        "id": "Pf8NCLeICW2F",
        "colab": {
          "base_uri": "https://localhost:8080/"
        },
        "outputId": "6a3d5aab-b8c4-4325-a2b6-f5fc106fab9d"
      },
      "id": "Pf8NCLeICW2F",
      "execution_count": null,
      "outputs": [
        {
          "output_type": "stream",
          "name": "stdout",
          "text": [
            "⏬ Downloading https://github.com/conda-forge/miniforge/releases/download/23.1.0-1/Mambaforge-23.1.0-1-Linux-x86_64.sh...\n",
            "📦 Installing...\n",
            "📌 Adjusting configuration...\n",
            "🩹 Patching environment...\n",
            "⏲ Done in 0:00:14\n",
            "🔁 Restarting kernel...\n"
          ]
        }
      ]
    },
    {
      "cell_type": "code",
      "source": [
        "!conda install pyscipopt"
      ],
      "metadata": {
        "id": "ro3iGnB-CZEs"
      },
      "id": "ro3iGnB-CZEs",
      "execution_count": null,
      "outputs": []
    },
    {
      "cell_type": "code",
      "source": [
        "import cvxpy as cp\n",
        "import numpy as np"
      ],
      "metadata": {
        "id": "0ukBHMS_Uqcc"
      },
      "id": "0ukBHMS_Uqcc",
      "execution_count": null,
      "outputs": []
    },
    {
      "cell_type": "code",
      "source": [
        "# Generate a random problem\n",
        "np.random.seed(0)\n",
        "m, n= 40, 25\n",
        "\n",
        "A = np.random.rand(m, n)\n",
        "b = np.random.randn(m)"
      ],
      "metadata": {
        "id": "SgwWuvtIU5UT"
      },
      "id": "SgwWuvtIU5UT",
      "execution_count": null,
      "outputs": []
    },
    {
      "cell_type": "code",
      "source": [
        "# Construct a CVXPY problem\n",
        "x = cp.Variable(n, integer=True)\n",
        "objective = cp.Minimize(cp.sum_squares(A @ x - b))\n",
        "prob = cp.Problem(objective)\n",
        "prob.solve(solver = 'SCIP')"
      ],
      "metadata": {
        "id": "PElI8KeIU-o0",
        "colab": {
          "base_uri": "https://localhost:8080/"
        },
        "outputId": "3b5774e5-3736-4997-c707-60550cefba09"
      },
      "id": "PElI8KeIU-o0",
      "execution_count": null,
      "outputs": [
        {
          "output_type": "execute_result",
          "data": {
            "text/plain": [
              "13.660003257778833"
            ]
          },
          "metadata": {},
          "execution_count": 11
        }
      ]
    },
    {
      "cell_type": "code",
      "source": [
        "print(\"Status: \", prob.status)\n",
        "print(\"The optimal value is\", prob.value)\n",
        "print(\"A solution x is\")\n",
        "print(x.value)"
      ],
      "metadata": {
        "id": "H5uBu80TVCq4",
        "colab": {
          "base_uri": "https://localhost:8080/"
        },
        "outputId": "ef31b284-4af3-4dff-afff-07cfb0ea8a3d"
      },
      "id": "H5uBu80TVCq4",
      "execution_count": null,
      "outputs": [
        {
          "output_type": "stream",
          "name": "stdout",
          "text": [
            "Status:  optimal\n",
            "The optimal value is 13.660003257778833\n",
            "A solution x is\n",
            "[-1.  1.  1. -1.  0.  0. -1. -2.  0.  0.  0.  1.  1.  0.  1.  0. -1. -1.\n",
            " -1.  0.  2. -1.  2.  0. -1.]\n"
          ]
        }
      ]
    },
    {
      "cell_type": "markdown",
      "source": [
        "<h1 id=\"hid1\" class=\"section\">Prepared by Leila Asadzadeh</h1>\n",
        "\n",
        "Reference: https://jcboyd.github.io/assets/ma2823_2017/Lab+2+2017-10-06++Convex+optimization+in+Python.html\n",
        "\n"
      ],
      "metadata": {
        "id": "jKTXX2nABKYs"
      },
      "id": "jKTXX2nABKYs"
    },
    {
      "cell_type": "markdown",
      "source": [
        "# Convex functions\n",
        "\n",
        "Convex functions have the useful property that local minima are global minima.\n",
        "\n",
        "## Example 1\n",
        "We begin by defining a function to optimise,\n",
        "\n",
        "$$ f_1(x)= (x-1)^4+x^2 $$\n"
      ],
      "metadata": {
        "id": "PEsV9RtxVQt5"
      },
      "id": "PEsV9RtxVQt5"
    },
    {
      "cell_type": "code",
      "source": [
        "%matplotlib inline\n",
        "import matplotlib.pyplot as plt\n",
        "import numpy as np\n",
        "from IPython.display import Image, set_matplotlib_formats"
      ],
      "metadata": {
        "id": "9AlU27JyV8LF"
      },
      "id": "9AlU27JyV8LF",
      "execution_count": null,
      "outputs": []
    },
    {
      "cell_type": "code",
      "source": [
        "from scipy.optimize import minimize_scalar\n",
        "\n",
        "f1 = lambda x : (x - 1) ** 4 + x ** 2\n",
        "res = minimize_scalar(f1, method='brent')\n",
        "print('xmin: %.02f, fval: %.02f, iter: %d' % (res.x, res.fun, res.nit))"
      ],
      "metadata": {
        "colab": {
          "base_uri": "https://localhost:8080/"
        },
        "id": "bTU9oIxoWFrY",
        "outputId": "6bef6580-15fd-48f2-8db9-ed88b732045f"
      },
      "id": "bTU9oIxoWFrY",
      "execution_count": null,
      "outputs": [
        {
          "output_type": "stream",
          "name": "stdout",
          "text": [
            "xmin: 0.41, fval: 0.29, iter: 12\n"
          ]
        }
      ]
    },
    {
      "cell_type": "markdown",
      "source": [
        "The output gives us the location of the minimum (xmin), the value of f1 (fval) and the number of iterations (iter) required to arrive at that point."
      ],
      "metadata": {
        "id": "X6c4wgRTWh8K"
      },
      "id": "X6c4wgRTWh8K"
    },
    {
      "cell_type": "code",
      "source": [
        "# plot curve\n",
        "x = np.linspace(res.x - 0.5, res.x + 0.5, 100)\n",
        "y = [f1(val) for val in x]\n",
        "plt.plot(x, y, color='blue', label='f1')\n",
        "\n",
        "# plot optima\n",
        "plt.scatter(res.x, res.fun, color='orange', marker='x', label='opt')\n",
        "\n",
        "plt.grid()\n",
        "plt.legend(loc=1)"
      ],
      "metadata": {
        "colab": {
          "base_uri": "https://localhost:8080/",
          "height": 447
        },
        "id": "kqJZUXKKWkEI",
        "outputId": "9ff715b8-622f-4468-9a25-22259b222466"
      },
      "id": "kqJZUXKKWkEI",
      "execution_count": null,
      "outputs": [
        {
          "output_type": "execute_result",
          "data": {
            "text/plain": [
              "<matplotlib.legend.Legend at 0x7a342f5554e0>"
            ]
          },
          "metadata": {},
          "execution_count": 15
        },
        {
          "output_type": "display_data",
          "data": {
            "text/plain": [
              "<Figure size 640x480 with 1 Axes>"
            ],
            "image/png": "[encoded data removed]"
          },
          "metadata": {}
        }
      ]
    },
    {
      "cell_type": "markdown",
      "source": [
        "## Example 2\n",
        "\n",
        "$$ f_2(x)= - log(x) $$"
      ],
      "metadata": {
        "id": "rgy2gAaCbXpX"
      },
      "id": "rgy2gAaCbXpX"
    },
    {
      "cell_type": "code",
      "source": [
        "f2 = lambda x : -np.log(x)\n",
        "\n",
        "# plot curve\n",
        "x = np.linspace(0, 10, 100)\n",
        "y = [f2(val) for val in x]\n",
        "plt.plot(x, y, color='blue', label='f2')\n",
        "plt.grid()\n",
        "plt.legend(loc=1)"
      ],
      "metadata": {
        "colab": {
          "base_uri": "https://localhost:8080/",
          "height": 482
        },
        "id": "Qx1kgmrSbgSa",
        "outputId": "4601e54e-2cb1-491d-861f-e57b6ae002a1"
      },
      "id": "Qx1kgmrSbgSa",
      "execution_count": null,
      "outputs": [
        {
          "output_type": "stream",
          "name": "stderr",
          "text": [
            "<ipython-input-16-6e75cc9b4237>:1: RuntimeWarning: divide by zero encountered in log\n",
            "  f2 = lambda x : -np.log(x)\n"
          ]
        },
        {
          "output_type": "execute_result",
          "data": {
            "text/plain": [
              "<matplotlib.legend.Legend at 0x7a342542ffd0>"
            ]
          },
          "metadata": {},
          "execution_count": 16
        },
        {
          "output_type": "display_data",
          "data": {
            "text/plain": [
              "<Figure size 640x480 with 1 Axes>"
            ],
            "image/png": "[encoded data removed]"
          },
          "metadata": {}
        }
      ]
    },
    {
      "cell_type": "markdown",
      "source": [
        "## Example 3\n",
        "$$ f_3(x)= \\frac {1}{x^{2}} $$\n",
        "\n",
        "The function $f_3(x)=\\frac {1}{x^{2}}$ is convex on the interval $(0,\\infty)$ and convex on the interval $(-\\infty ,0)$, but not convex on the interval\n",
        "$(-\\infty ,\\infty)$."
      ],
      "metadata": {
        "id": "tWSGalozbc_o"
      },
      "id": "tWSGalozbc_o"
    },
    {
      "cell_type": "code",
      "source": [
        "f3 = lambda x : 1/x**2\n",
        "# plot curve\n",
        "x = np.linspace(-100, 100, 100)\n",
        "y = [f3(val) for val in x]\n",
        "plt.plot(x, y, color='blue', label='f3')\n",
        "plt.grid()\n",
        "plt.legend(loc=1)"
      ],
      "metadata": {
        "colab": {
          "base_uri": "https://localhost:8080/",
          "height": 447
        },
        "id": "4bzV8XnieS62",
        "outputId": "6093a253-c688-425a-9923-cd81188db345"
      },
      "id": "4bzV8XnieS62",
      "execution_count": null,
      "outputs": [
        {
          "output_type": "execute_result",
          "data": {
            "text/plain": [
              "<matplotlib.legend.Legend at 0x7a34254c6110>"
            ]
          },
          "metadata": {},
          "execution_count": 17
        },
        {
          "output_type": "display_data",
          "data": {
            "text/plain": [
              "<Figure size 640x480 with 1 Axes>"
            ],
            "image/png": "[encoded data removed]"
          },
          "metadata": {}
        }
      ]
    },
    {
      "cell_type": "markdown",
      "source": [
        "## Example 4\n",
        "$$ f(x)= {x^{2}} $$"
      ],
      "metadata": {
        "id": "dAeeg3qdHS-T"
      },
      "id": "dAeeg3qdHS-T"
    },
    {
      "cell_type": "code",
      "source": [
        "import cvxpy as cp\n",
        "\n",
        "x = cp.Variable(1) # Real variable x\n",
        "\n",
        "objective = cp.Minimize(x**2) # Objective\n",
        "\n",
        "constraints = []\n",
        "\n",
        "problem = cp.Problem(objective, constraints)\n",
        "\n",
        "#opt = problem.solve()\n",
        "\n",
        "print(\"Is the objective Convex? \\n\")\n",
        "print(objective.expr.is_convex())\n"
      ],
      "metadata": {
        "colab": {
          "base_uri": "https://localhost:8080/"
        },
        "id": "v6k6KebYHIvT",
        "outputId": "252dd1e3-e8b5-4428-d82f-b9215c819e87"
      },
      "id": "v6k6KebYHIvT",
      "execution_count": null,
      "outputs": [
        {
          "output_type": "stream",
          "name": "stdout",
          "text": [
            "Is the objective Convex? \n",
            "\n",
            "True\n"
          ]
        }
      ]
    },
    {
      "cell_type": "markdown",
      "source": [
        "## Example 5\n",
        "$$ f(x)= {-x^{2}} $$"
      ],
      "metadata": {
        "id": "6FvSauBdHad8"
      },
      "id": "6FvSauBdHad8"
    },
    {
      "cell_type": "code",
      "source": [
        "import cvxpy as cp\n",
        "\n",
        "x = cp.Variable(1) # Real variable x\n",
        "\n",
        "objective = cp.Minimize(-x**2) # Objective\n",
        "\n",
        "constraints = []\n",
        "\n",
        "problem = cp.Problem(objective, constraints)\n",
        "\n",
        "#opt = problem.solve()\n",
        "\n",
        "print(\"Is the objective Convex? \\n\")\n",
        "print(objective.expr.is_convex())\n"
      ],
      "metadata": {
        "colab": {
          "base_uri": "https://localhost:8080/"
        },
        "id": "o3VPLSs_Hd6s",
        "outputId": "4e0a8274-3874-4cf4-9016-f9e67cd766c4"
      },
      "id": "o3VPLSs_Hd6s",
      "execution_count": null,
      "outputs": [
        {
          "output_type": "stream",
          "name": "stdout",
          "text": [
            "Is the objective Convex? \n",
            "\n",
            "False\n"
          ]
        }
      ]
    },
    {
      "cell_type": "markdown",
      "source": [
        "## Example 6\n",
        "Ref: https://scicoding.com/convex-optimization-in-python-3-libraries\n",
        "\n",
        "simple quadratic optimization problem with linear constraints\n",
        "\n",
        "\\begin{array}{cl}\n",
        "\\min _{x, y} & x^2+y^2 \\\\\n",
        "\\text { s.t. } & x+y=1, \\\\\n",
        "& x \\geq 0, y \\geq 0\n",
        "\\end{array}"
      ],
      "metadata": {
        "id": "nDfMRoymHvub"
      },
      "id": "nDfMRoymHvub"
    },
    {
      "cell_type": "code",
      "source": [
        "import cvxpy as cp\n",
        "\n",
        "x = cp.Variable(1) # Real variable x\n",
        "y = cp.Variable(1) # Real variable y\n",
        "\n",
        "objective = cp.Minimize(x**2 + y**2) # Objective\n",
        "constraints = []\n",
        "constraints.append(x >= 0)\n",
        "constraints.append(y >= 0)\n",
        "constraints.append(x + y == 1)\n",
        "\n",
        "problem = cp.Problem(objective, constraints)\n",
        "\n",
        "opt = problem.solve()\n",
        "\n",
        "print(\"Optimal solution: %f (x = %f, y = %f) \\n\" % (opt, x.value, y.value))\n",
        "print(\"Is the objective Convex? \\n\")\n",
        "print(objective.expr.is_convex())\n"
      ],
      "metadata": {
        "colab": {
          "base_uri": "https://localhost:8080/"
        },
        "id": "HvqyJU32IEGz",
        "outputId": "020f3471-656a-49b1-d4a5-dd6ee4a83713"
      },
      "id": "HvqyJU32IEGz",
      "execution_count": null,
      "outputs": [
        {
          "output_type": "stream",
          "name": "stdout",
          "text": [
            "Optimal solution: 0.500000 (x = 0.500000, y = 0.500000) \n",
            "\n",
            "Is the objective Convex? \n",
            "\n",
            "True\n"
          ]
        }
      ]
    },
    {
      "cell_type": "markdown",
      "source": [
        "<h1 id=\"hid1\" class=\"section\">Prepared by Mojtaba Mozhganfar</h1>\n",
        "\n",
        "Reference:\n",
        "CVXPY\n",
        "\n",
        "https://www.cvxpy.org/examples/basic/socp.html"
      ],
      "metadata": {
        "id": "UBh600Tjbu28"
      },
      "id": "UBh600Tjbu28"
    },
    {
      "cell_type": "markdown",
      "source": [
        "# Second-order cone program\n",
        "\n",
        "A second-order cone program (SOCP) is an optimization problem of the form\n",
        "$$  \n",
        "    \\begin{array}{ll}\n",
        "    \\mbox{minimize}   & f^Tx\\\\\n",
        "    \\mbox{subject to} & \\|A_ix + b_i\\|_2 \\leq c_i^Tx + d_i, \\quad i=1,\\ldots,m \\\\\n",
        "                      & Fx = g,\n",
        "    \\end{array}\n",
        "$$\n",
        "where $x \\in \\mathcal{R}^{n}$ is the optimization variable and $f \\in \\mathcal{R}^n$, $A_i \\in \\mathcal{R}^{n_i \\times n}$, $b_i \\in \\mathcal{R}^{n_i}$, $c_i \\in \\mathcal{R}^n$, $d_i \\in \\mathcal{R}$, $F \\in \\mathcal{R}^{p \\times n}$, and $g \\in \\mathcal{R}^p$ are problem data.\n",
        "\n",
        "An example of an SOCP is the robust linear program\n",
        "$$  \n",
        "    \\begin{array}{ll}\n",
        "    \\mbox{minimize}   & c^Tx\\\\\n",
        "    \\mbox{subject to} & (a_i + u_i)^Tx \\leq b_i \\textrm{ for all } \\|u_i\\|_2 \\leq 1, \\quad i=1,\\ldots,m,\n",
        "    \\end{array}\n",
        "$$\n",
        "where the problem data $a_i$ are known within an $\\ell_2$-norm ball of radius one. The robust linear program can be rewritten as the SOCP\n",
        "$$  \n",
        "    \\begin{array}{ll}\n",
        "    \\mbox{minimize}   & c^Tx\\\\\n",
        "    \\mbox{subject to} & a_i^Tx + \\|x\\|_2 \\leq b_i, \\quad i=1,\\ldots,m,\n",
        "    \\end{array}\n",
        "$$\n",
        "\n",
        "When we solve a SOCP, in addition to a solution $x^\\star$, we obtain a dual solution $\\lambda_i^\\star$ corresponding to each second-order cone constraint. A non-zero $\\lambda_i^\\star$ indicates that the constraint $ \\|A_ix + b_i\\|_2 \\leq c_i^Tx + d_i$ holds with equality for $x^\\star$ and suggests that changing $d_i$ would change the optimal value.\n",
        "\n",
        "## Example\n",
        "\n",
        "In the following code, we solve an SOCP with CVXPY."
      ],
      "metadata": {
        "id": "XbYolKyIbOcU"
      },
      "id": "XbYolKyIbOcU"
    },
    {
      "cell_type": "code",
      "source": [
        "# Import packages.\n",
        "import cvxpy as cp\n",
        "import numpy as np\n",
        "\n",
        "# Generate a random feasible SOCP.\n",
        "m = 3\n",
        "n = 10\n",
        "p = 5\n",
        "n_i = 5\n",
        "np.random.seed(2)\n",
        "f = np.random.randn(n)\n",
        "A = []\n",
        "b = []\n",
        "c = []\n",
        "d = []\n",
        "x0 = np.random.randn(n)\n",
        "for i in range(m):\n",
        "    A.append(np.random.randn(n_i, n))\n",
        "    b.append(np.random.randn(n_i))\n",
        "    c.append(np.random.randn(n))\n",
        "    d.append(np.linalg.norm(A[i]@x0 + b, 2) - c[i].T@x0)\n",
        "F = np.random.randn(p, n)\n",
        "g = F@x0\n",
        "\n",
        "# Define and solve the CVXPY problem.\n",
        "x = cp.Variable(n)\n",
        "# We use cp.SOC(t, x) to create the SOC constraint ||x||_2 <= t.\n",
        "soc_constraints = [\n",
        "    cp.SOC(c[i].T@x + d[i], A[i]@x + b[i]) for i in range(m)\n",
        "]\n",
        "prob = cp.Problem(cp.Minimize(f.T@x),\n",
        "                  soc_constraints + [F@x == g])\n",
        "prob.solve()\n",
        "\n",
        "# Print result.\n",
        "print(\"The optimal value is\", prob.value)\n",
        "print(\"A solution x is\")\n",
        "print(x.value)\n",
        "for i in range(m):\n",
        "    print(\"SOC constraint %i dual variable solution\" % i)\n",
        "    print(soc_constraints[i].dual_value)"
      ],
      "metadata": {
        "id": "V9vqXZlZbejN"
      },
      "id": "V9vqXZlZbejN",
      "execution_count": null,
      "outputs": []
    },
    {
      "cell_type": "markdown",
      "source": [
        "Prepared by Mina Faridi\n",
        "## simple version of EVRP\n",
        "\n",
        "cvxpy example code\n",
        "\n",
        "**status: not verified yet**\n",
        "\n",
        "result is not reliable"
      ],
      "metadata": {
        "id": "bN7ye2HnXC0L"
      },
      "id": "bN7ye2HnXC0L"
    },
    {
      "cell_type": "markdown",
      "source": [
        "This code is an implementation of an optimization problem using CVXPY library in Python. The problem is a variant of the Vehicle Routing Problem (VRP) with Electric Vehicles (EVs), where the objective is to minimize the driving time of the EVs while satisfying the demand at each node and respecting the battery capacity and charging rate.\n",
        "\n",
        "The code defines decision variables for the charge level at each node and hour, and the amount of driving between nodes at each hour. Then, it sets up constraints to account for the initial and final charge levels, energy balance for each node and hour, charge level within battery capacity, and driving distance at each hour. Finally, it defines the objective function as the total driving time and solves the problem using CVXPY."
      ],
      "metadata": {
        "id": "Wq0NgZloXQsi"
      },
      "id": "Wq0NgZloXQsi"
    },
    {
      "cell_type": "code",
      "source": [
        "# decision variables\n",
        "charge = cp.Variable((num_nodes, time_horizon),nonneg=True) # charge level at each node and hour\n",
        "driving = cp.Variable((num_nodes*num_nodes, time_horizon),nonneg=True) # driving between nodes at each hour\n",
        "u = cp.Variable(num_nodes, integer=True)\n",
        "\n",
        "# constraints\n",
        "constraints = []\n",
        "\n",
        "# initial and final charge levels\n",
        "constraints += [charge[start_node, 0] == battery_capacity]\n",
        "constraints += [charge[end_node, time_horizon-1] == battery_capacity]\n",
        "\n",
        "\n",
        "#energy balance constraint for each node and hour\n",
        "for t in range(1,time_horizon):\n",
        "    for i in range(num_nodes):\n",
        "        # energy balance for driving between nodes\n",
        "        for j in range(num_nodes):\n",
        "            if i != j:\n",
        "                index = i*num_nodes + j # map (i,j) pair to a unique index for the driving variable\n",
        "                constraints += [charge[i,t] == charge[i,t-1]+(-driving[index,t-1]+driving[index,t])*charging_rate]\n",
        "         # limit the charging rate\n",
        "        constraints += [charge[i,t] - charge[i,t-1] <= charging_rate]\n",
        "\n",
        "\n",
        "# driving distance constraint at each hour\n",
        "for t in range(time_horizon):\n",
        "    for i in range(num_nodes):\n",
        "        for j in range(num_nodes):\n",
        "            if i != j:\n",
        "                index = i*num_nodes + j # map (i,j) pair to a unique index for the driving variable\n",
        "                constraints += [driving[index,t] <= driving_speed/distance[i,j]]\n",
        "\n",
        "for i in range(num_nodes):\n",
        "    constraints += [cp.sum(driving[i*num_nodes:(i+1)*num_nodes,t]) + cp.sum(driving[i::num_nodes,t]) >= 1]\n",
        "\n",
        "\n",
        "\n",
        "\n",
        "# objective function: minimize total driving time\n",
        "obj = cp.Minimize(cp.sum(driving))\n",
        "problem = cp.Problem(obj,constraints)\n",
        "result = problem.solve()"
      ],
      "metadata": {
        "id": "IQHDUs3iOS00"
      },
      "execution_count": null,
      "outputs": [],
      "id": "IQHDUs3iOS00"
    },
    {
      "cell_type": "code",
      "source": [
        "# print results\n",
        "print(\"Optimal value:\", result)\n",
        "print(\"Charge levels:\")\n",
        "pd.DataFrame(charge.value)\n",
        "# print(charge.value)"
      ],
      "metadata": {
        "id": "Eq57YIvIvRcf"
      },
      "execution_count": null,
      "outputs": [],
      "id": "Eq57YIvIvRcf"
    },
    {
      "cell_type": "code",
      "source": [
        "print(\"Driving:\")\n",
        "pd.DataFrame(driving.value)\n",
        "# print(driving.value)"
      ],
      "metadata": {
        "id": "_bgdy7lgvWzE"
      },
      "execution_count": null,
      "outputs": [],
      "id": "_bgdy7lgvWzE"
    },
    {
      "cell_type": "markdown",
      "source": [
        "<h1 id=\"hid1\" class=\"section\">Prepared by Mojtaba Mozhganfar</h1>\n",
        "\n",
        "Reference:\n",
        "\n",
        "EE364a: Convex Optimization I</br>\n",
        "S. Boyd</br>\n",
        "March 14–15, 15–16, or 16–17, 2019</br>\n",
        "link: https://mtefagh.github.io/cvx/solutions/final_19_sol.pdf"
      ],
      "metadata": {
        "id": "HNREZ9HDZuIe"
      },
      "id": "HNREZ9HDZuIe"
    },
    {
      "cell_type": "markdown",
      "source": [
        "# Fitting a periodic poisson distribution to data.\n",
        "We model the (random) number of times that some type of event occurs in each hour of the day as independent Poisson variables, with\n",
        "\n",
        "\n",
        "$$\n",
        "\\operatorname{Prob}(k \\text { events occur })=e^{-\\lambda_{t}} \\frac{\\lambda_{t}^{k}}{k !}, \\quad k=0,1, \\ldots,\n",
        "$$\n",
        "\n",
        "with parameter $\\lambda_{t} \\geq 0, t=1, \\ldots, 24$. (For $\\lambda_{t}=0, k=0$ events occur with probability one.) Here $t$ denotes the hour, with $t=1$ corresponding to the hour from midnight to 1AM, and $t=24$ the hour between 11PM and midnight. (This is the periodic Poisson distribution in the title.) The parameter $\\lambda_{t}$ is the expected value of the number of events that occur in hour $t$; it can be thought of as the rate of occurence of the events in hour $t$.\n",
        "\n",
        "Over one day we observe the numbers of events $N_{1}, \\ldots, N_{24}$.\n",
        "\n",
        "(a) Maximum likelihood estimate of parameters. What is the maximum likelihood estimate of the parameters $\\lambda_{1}, \\ldots, \\lambda_{24}$ ? Hint. There is a simple analytical solution. You should consider the cases $N_{t}>0$ and $N_{t}=0$ separately.\n",
        "\n",
        "(b) Regularized maximum likelihood estimate of parameters. In many applications it is reasonable to assume that $\\lambda_{t}$ varies smoothly over the day; for example, the rate of occurence of events for $3 \\mathrm{PM}-4 \\mathrm{PM}$ is not too different from the rate of occurence for $4 \\mathrm{PM}-5 \\mathrm{PM}$. To obtain a smooth estimate of $\\lambda_{t}$ we maximize the log likelihood minus the regularization term\n",
        "\n",
        "$$\n",
        "\\rho\\left(\\sum_{t=1}^{23}\\left(\\lambda_{t+1}-\\lambda_{t}\\right)^{2}+\\left(\\lambda_{1}-\\lambda_{24}\\right)^{2}\\right),\n",
        "$$\n",
        "\n",
        "where $\\rho \\geq 0$. Explain how to find the values $\\lambda_{1}, \\ldots, \\lambda_{24}$ using convex optimization. If you change variables, explain.\n",
        "\n",
        "(c) What happens as $\\rho \\rightarrow \\infty$ ? You can give a very short answer, with an informal argument. Hint. As in part (a), there is a simple analytical solution.\n",
        "\n",
        "(d) Numerical example. Over one day, we observe\n",
        "\n",
        "$$\n",
        "N=(0,4,2,2,3,0,4,5,6,6,4,1,4,4,0,1,3,4,2,0,3,2,0,1)\n",
        "$$\n",
        "\n",
        "Find the regularized maximum likelihood parameters for $\\rho \\in\\{0.1,1,10,100\\}$ using $\\mathrm{CVX}^{*}$, and plot $\\lambda_{t}$ versus $t$ for each value of $\\rho$.\n",
        "\n",
        "(e) Choosing the hyper-parameter value by out-of-sample test. One way to choose the value of $\\rho$ is to see which of the models found in part (d) has the highest log likelihood on a test set, i.e., another day's data, that was not used to create the model. For each of the 4 values of the parameters you estimated in part (d), evaluate the $\\log$ likelihood of another day's number of events,\n",
        "\n",
        "$$\n",
        "N^{\\text {test }}=(0,1,3,2,3,1,4,5,3,1,4,3,5,5,2,1,1,1,2,0,1,2,1,0) .\n",
        "$$\n",
        "\n",
        "Which hyper-parameter value $\\rho$ would you choose?\n",
        "\n",
        "## Solution:\n",
        "(a) The log-likelihood of observing $N_{t}$ events is $-\\lambda_{t}+N_{t} \\log \\lambda_{t}-\\log N_{t}$ !. Since these events are independent, we add these to get the log-likelihood of the collection of observed events, so the negative log-likelihood of the collection of observed events is\n",
        "\n",
        "$$\n",
        "\\sum_{t=1}^{24}\\left(\\lambda_{t}-N_{t} \\log \\lambda_{t}+\\log N_{t} !\\right)\n",
        "$$\n",
        "\n",
        "The maximum likelihood estimate of $\\lambda_{t}$ minimizes the negative log-likelihood of observing $N_{1}, \\ldots, N_{24}$, which can be found by solving the optimization problem\n",
        "\n",
        "$$\n",
        "\\begin{array}{ll}\n",
        "\\text { minimize } & \\sum_{t=1}^{24}\\left(\\lambda_{t}-N_{t} \\log \\lambda_{t}+\\log N_{t} !\\right) \\\\\n",
        "\\text { subject to } & \\lambda \\succeq 0,\n",
        "\\end{array}\n",
        "$$\n",
        "\n",
        "with variables $\\lambda_{1}, \\ldots, \\lambda_{24}$. Note that when $N_{t}>0$, the $\\log \\lambda_{t}$ term imposes an implicit constraint that $\\lambda_{t}>0$; we need the explicit inequality $\\lambda \\succeq 0$ to cover the case when $N_{t}=0$. (We did not penalize those who omitted the explicit inequality.)\n",
        "\n",
        "This problem is separable in $t$, so we can separately minimize over each $\\lambda_{t}$. Let's first assume that $N_{t}>0$. Then the minimizer satisfies $1-N_{t} / \\lambda_{t}=0$, so $\\lambda_{t}=N_{t}$. For $N_{t}=0$, we minimize $\\lambda_{t}$, subject to $\\lambda_{t} \\geq 0$. This gives $\\lambda_{t}=0$. So in all cases the ML estimate is $\\lambda_{t}=N_{t}$. This is very natural: If you observe $N_{t}$ events, you guess that this is the mean of the number of events that occur.\n",
        "\n",
        "(b) We solve the convex optimization problem\n",
        "\n",
        "$$\n",
        "\\begin{array}{ll}\n",
        "\\text { minimize } & \\sum_{t=1}^{24}\\left(\\lambda_{t}-N_{t} \\log \\lambda_{t}\\right)+\\rho\\left(\\sum_{t=1}^{23}\\left(\\lambda_{t+1}-\\lambda_{t}\\right)^{2}+\\left(\\lambda_{1}-\\lambda_{24}\\right)^{2}\\right) \\\\\n",
        "\\text { subject to } & \\lambda \\succeq 0,\n",
        "\\end{array}\n",
        "$$\n",
        "\n",
        "with variable $\\lambda \\in \\mathbf{R}^{24}$. (We drop the constant term that does not depend on $\\lambda_{t}$.)\n",
        "\n",
        "(c) As $\\rho \\rightarrow \\infty$, the $\\lambda_{t}$ all become equal, so we have $\\lambda=\\tilde{\\lambda} \\mathbf{1}$, resulting in the problem\n",
        "\n",
        "$$\n",
        "\\begin{array}{ll}\n",
        "\\operatorname{minimize} & 24 \\tilde{\\lambda}-\\left(\\sum_{t=1}^{24} N_{t}\\right) \\log \\tilde{\\lambda} \\\\\n",
        "\\text { subject to } & \\tilde{\\lambda} \\geq 0 .\n",
        "\\end{array}\n",
        "$$\n",
        "\n",
        "The solution is the constant Poisson model with $\\lambda_{t}=\\tilde{\\lambda}=\\bar{N}=\\sum_{\\tau} N_{\\tau} / 24$, the average rate of hourly occurence of the events over the whole day.\n",
        "\n",
        "(d) The estimated rates are shown below. As expected, the larger $\\rho$ is, the smoother ${\\lambda}$ is.\n",
        "\n",
        "(e) We get the following log likelihood values on the test set: (−83.44, −37.75, −41.71, −43.76). We would choose $\\rho$ = 1, since it gets the highest log-likelihood on the test set."
      ],
      "metadata": {
        "id": "nhiWvHrDZvzn"
      },
      "id": "nhiWvHrDZvzn"
    },
    {
      "cell_type": "code",
      "source": [
        "import numpy as np\n",
        "import cvxpy as cp\n",
        "import math\n",
        "import matplotlib.pyplot as plt"
      ],
      "metadata": {
        "id": "OBxKBsCVbmeO"
      },
      "id": "OBxKBsCVbmeO",
      "execution_count": null,
      "outputs": []
    },
    {
      "cell_type": "code",
      "source": [
        "T = 24\n",
        "N = np.array([0, 4, 2, 2, 3, 0, 4, 5, 6, 6, 4, 1,\n",
        "4, 4, 0, 1, 3, 4, 2, 0, 3, 2, 0, 1])"
      ],
      "metadata": {
        "id": "p2V2H1HrbpOX"
      },
      "id": "p2V2H1HrbpOX",
      "execution_count": null,
      "outputs": []
    },
    {
      "cell_type": "code",
      "source": [
        "lambd = cp.Variable(T, nonneg=True)\n",
        "rho = cp.Parameter(nonneg=True)\n",
        "objective = cp.sum(lambd) - N@cp.log(lambd) +\\\n",
        "rho * (lambd[0] - lambd[-1])**2 +\\\n",
        "rho * cp.sum_squares(cp.diff(lambd))\n",
        "problem = cp.Problem(cp.Minimize(objective))"
      ],
      "metadata": {
        "id": "w-2WDq0Vbuie"
      },
      "id": "w-2WDq0Vbuie",
      "execution_count": null,
      "outputs": []
    },
    {
      "cell_type": "code",
      "source": [
        "lambdas, rhovalues = [], [0.1, 1, 10, 100]\n",
        "for rhovalue in rhovalues:\n",
        "    rho.value = rhovalue\n",
        "    problem.solve()\n",
        "    plt.plot(np.arange(T), lambd.value, label=\"rho=%.1f\" % rhovalue)\n",
        "    lambdas.append(lambd.value)\n",
        "plt.legend()"
      ],
      "metadata": {
        "id": "EpAEtJjgbwo1"
      },
      "id": "EpAEtJjgbwo1",
      "execution_count": null,
      "outputs": []
    },
    {
      "cell_type": "code",
      "source": [
        "from scipy.special import factorial\n",
        "Ntest = np.array([0, 1, 3, 2, 3, 1, 4, 5, 3, 1, 4, 3,\n",
        "5, 5, 2, 1, 1, 1, 2, 0, 1, 2, 1, 0])\n",
        "for rhovalue, lambd in zip(rhovalues, lambdas):\n",
        "    test_logprob = np.sum(np.log(\n",
        "        np.exp(-lambd) * lambd**Ntest / factorial(Ntest)\n",
        "    ))\n",
        "    print(f\"rho = {rhovalue}, log likelihood = {test_logprob}\")"
      ],
      "metadata": {
        "id": "d_dccwRbby-9"
      },
      "id": "d_dccwRbby-9",
      "execution_count": null,
      "outputs": []
    },
    {
      "cell_type": "markdown",
      "source": [
        "<h1 id=\"hid1\" class=\"section\">Prepared by Nadia Yazdani</h1>\n",
        "\n",
        "Reference:\n",
        "\n",
        "CLRS</br>\n",
        "\n",
        "link:\n",
        "\n",
        "https://github.com/Robertboy18/Theoretical-Algorithms-Implementation/tree/main/26-Maximum_Flow</br>\n",
        "https://theory.stanford.edu/~trevisan/cs261/lecture15.pdf</br>\n",
        "https://notebook.community/Pyomo/PyomoGallery/maxflow/maxflow</br>\n",
        "\n",
        "Date:\n",
        "\n",
        "1 Tir 1402\n",
        "\n"
      ],
      "metadata": {
        "id": "_yEqrpC9_OPC"
      },
      "id": "_yEqrpC9_OPC"
    },
    {
      "cell_type": "markdown",
      "source": [
        "<h1 id=\"hid1\" class=\"section\">Maximum Flow</h1>\n",
        "\n",
        "The goal of the maximum flow problem is to find the maximum flow possible in a network from some given source node to a given sink node. Applications of the max flow problem include finding the maximum flow of orders through a job shop, the maximum flow of water through a storm sewer system, and the maximum flow of product through a product distribution system, among others.\n",
        "\n",
        "\n",
        "A network is a directed graph, and the arc capacities, or upper bounds, are the only relevant parameters. A network graph does not have to be symmetric: if an arc (v,w) is in the graph, the reverse arc (w,v) does not have to be in the graph. Further, parallel arcs are not allowed, and self-loops are not allowed. The source and the sink are distinct nodes in the network, but the sink may be unreachable from the source.\n",
        "\n",
        "\n",
        "**Problem Statement**\n",
        "\n",
        "The max flow problem can be formulated mathematically as a linear programming problem using the following model.\n",
        "\n",
        "Sets:\n",
        "\n",
        "* $N$ = nodes in the network\n",
        "\n",
        "* $A$ = network arcs\n",
        "\n",
        "\n",
        "Parameters:\n",
        "\n",
        "* $s$ = source node\n",
        "\n",
        "* $t$ = sink node\n",
        "\n",
        "* $c_{ij}$ = arc flow capacity, $\\forall (i,j) \\in A$\n",
        "\n",
        "Variables:\n",
        "\n",
        "* $f_{i,j}$ = arc flow, $\\forall (i,j) \\in A$\n",
        "\n",
        "Objective:\n",
        "\n",
        "* Maximize the flow into the sink nodes\n",
        "\n",
        "Constraints:\n",
        "\n",
        "* Enforce an upper limit on the flow across each arc\n",
        "\n",
        "\n",
        "* Enforce flow through each node\n",
        "\n",
        "\n",
        "* Flow lower bound\n",
        "\n",
        "\n",
        " $$\n",
        "\\begin{align}\n",
        "\\max &\\sum_{\\{i \\mid (i,t) \\in A\\}} f_{i,t} && \\\\\\\\\n",
        "     & f_{i,j} \\leq c_{i,j}, & \\forall (i,j) \\in A; \\\\\\\\\n",
        "     & \\sum_{\\{i \\mid (i,j) \\in A\\}} f_{i,j} = \\sum_{\\{i \\mid (j,i) \\in A\\}} f_{j,i}; , & \\forall j \\in N - \\{s,t\\}; \\\\\\\\\n",
        "     & f_{i,j} \\geq 0, & \\forall (i,j) \\in A. \\\\\\\\\n",
        "\\end{align}\n",
        "$$\n"
      ],
      "metadata": {
        "id": "ldXs1A2o_BPB"
      },
      "id": "ldXs1A2o_BPB"
    },
    {
      "cell_type": "code",
      "source": [
        "import networkx as nx\n",
        "import matplotlib.pyplot as plt\n",
        "\n",
        "\"\"\"\n",
        "V = [0, 1, 2, 3]\n",
        "E = [(0, 1), (0, 2), (1, 2), (1, 3), (2, 3)]\n",
        "s, t = 0, 3\n",
        "capacities = {(0, 1): 10, (0, 2): 5, (1, 2): 2, (1, 3): 4, (2, 3): 10}\n",
        "\n",
        "\n",
        "V = [0, 1, 2, 3, 4, 5]\n",
        "E = [(0, 1), (0, 2), (1, 2), (1, 3), (2, 1), (2, 4), (3, 2), (3, 5), (4, 3), (4, 5)]\n",
        "s, t = 0, 3\n",
        "capacities = {(0, 1):16, (0, 2):13, (1, 2):10, (1, 3):12, (2, 1):4, (2, 4):14, (3, 2):9, (3, 5):20, (4, 3):7, (4, 5):4}\n",
        "\n",
        "\n",
        "V = [0, 1, 2, 3, 4]\n",
        "E = [(0, 1), (0, 2), (1, 2), (1, 3), (2, 3), (2, 4), (3, 4)]\n",
        "s, t = 0, 4\n",
        "capacities = {(0, 1):5, (0, 2):6, (1, 2):2, (1, 3):4, (2, 3):3, (2, 4):4, (3, 4):5}\n",
        "\n",
        "\n",
        "V = [0, 1, 2, 3]\n",
        "E = [(0, 1), (0, 2), (1, 2), (1, 3), (2, 3)]\n",
        "s, t = 0, 3\n",
        "capacities = {(0, 1): 1, (0, 2): 1, (1, 2): 1, (1, 3): 1, (2, 3): 1}\n",
        "\n",
        "\"\"\"\n",
        "V = [0, 1, 2, 3, 4, 5]\n",
        "E = [(0, 1), (0, 2), (1, 2), (1, 3), (2, 4), (3, 4), (3, 5), (4, 5)]\n",
        "s, t = 0, 3\n",
        "capacities = {(0, 1): 1, (0, 2): 1, (1, 2): 1, (1, 3): 1, (2, 4): 1, (3, 4):1, (3, 5): 1, (4, 5): 1 }\n",
        "\n",
        "\n",
        "G = nx.DiGraph()\n",
        "\n",
        "G.add_nodes_from(V)\n",
        "\n",
        "for edge in E:\n",
        "    u, v = edge\n",
        "    capacity = capacities[edge]\n",
        "    G.add_edge(u, v, capacity=capacity)\n",
        "\n",
        "pos = nx.spring_layout(G)\n",
        "nx.draw_networkx(G, pos, with_labels=True, node_color='lightblue', node_size=500, font_size=12, edge_color='gray', width=1.5, arrows=True, arrowsize=20)\n",
        "edge_labels = {(u, v): capacity for (u, v), capacity in capacities.items()}\n",
        "nx.draw_networkx_edge_labels(G, pos, edge_labels=edge_labels, font_size=10)\n",
        "\n",
        "plt.title('Maximum Flow Graph')\n",
        "plt.axis('off')\n",
        "\n",
        "plt.show()"
      ],
      "metadata": {
        "id": "xYCzluLY_ER1"
      },
      "id": "xYCzluLY_ER1",
      "execution_count": null,
      "outputs": []
    },
    {
      "cell_type": "code",
      "source": [
        "import cvxpy as cp\n",
        "import numpy as np\n",
        "import matplotlib.pyplot as plt\n",
        "import networkx as nx\n",
        "\n",
        "\"\"\"\n",
        "V = [0, 1, 2, 3]\n",
        "E = [(0, 1), (0, 2), (1, 2), (1, 3), (2, 3)]\n",
        "s, t = 0, 3\n",
        "capacities = {(0, 1): 10, (0, 2): 5, (1, 2): 2, (1, 3): 4, (2, 3): 10}\n",
        "\n",
        "\n",
        "V = [0, 1, 2, 3, 4, 5]\n",
        "E = [(0, 1), (0, 2), (1, 2), (1, 3), (2, 1), (2, 4), (3, 2), (3, 5), (4, 3), (4, 5)]\n",
        "s, t = 0, 3\n",
        "capacities = {(0, 1):16, (0, 2):13, (1, 2):10, (1, 3):12, (2, 1):4, (2, 4):14, (3, 2):9, (3, 5):20, (4, 3):7, (4, 5):4}\n",
        "\n",
        "\n",
        "V = [0, 1, 2, 3, 4]\n",
        "E = [(0, 1), (0, 2), (1, 2), (1, 3), (2, 3), (2, 4), (3, 4)]\n",
        "s, t = 0, 4\n",
        "capacities = {(0, 1):5, (0, 2):6, (1, 2):2, (1, 3):4, (2, 3):3, (2, 4):4, (3, 4):5}\n",
        "\n",
        "V = [0, 1, 2, 3]\n",
        "E = [(0, 1), (0, 2), (1, 2), (1, 3), (2, 3)]\n",
        "s, t = 0, 3\n",
        "capacities = {(0, 1): 1, (0, 2): 1, (1, 2): 1, (1, 3): 1, (2, 3): 1}\n",
        "\n",
        "\"\"\"\n",
        "V = [0, 1, 2, 3, 4, 5]\n",
        "E = [(0, 1), (0, 2), (1, 2), (1, 3), (2, 4), (3, 4), (3, 5), (4, 5)]\n",
        "s, t = 0, 5\n",
        "capacities = {(0, 1): 1, (0, 2): 1, (1, 2): 1, (1, 3): 1, (2, 4): 1, (3, 4):1, (3, 5): 1, (4, 5): 1 }\n",
        "\n",
        "\n",
        "#f = {edge: cp.Variable() for edge in E}\n",
        "f = {edge: cp.Variable(integer=True) for edge in E}\n",
        "\n",
        "objective = cp.Maximize(cp.sum([f[edge] for edge in E if edge[1] == t]))\n",
        "\n",
        "\n",
        "constraints = []\n",
        "\n",
        "for v in V:\n",
        "    if v != s and v != t:\n",
        "        inflow = cp.sum([f[edge] for edge in E if edge[1] == v])\n",
        "        outflow = cp.sum([f[edge] for edge in E if edge[0] == v])\n",
        "        constraints.append(inflow == outflow)\n",
        "\n",
        "for edge in E:\n",
        "    constraints.append(f[edge] <= capacities[edge])\n",
        "\n",
        "for edge in E:\n",
        "    constraints.append(f[edge] >= 0)\n",
        "\n",
        "prob = cp.Problem(objective, constraints)\n",
        "result = prob.solve()\n",
        "\n",
        "print(\"Maximum flow:\", result)\n",
        "print(\"Flow values:\")\n",
        "for edge in E:\n",
        "    print(f\"{edge}: {f[edge].value}\")\n",
        "\n",
        "\n",
        "#==============================Flow and Capacity Values================================\n",
        "edges = [f\"{edge}\" for edge in E]\n",
        "width = 0.35\n",
        "ind = np.arange(len(edges))\n",
        "\n",
        "fig, ax = plt.subplots()\n",
        "flow_bars = ax.bar(ind, [f[edge].value for edge in E], width, label='Flow')\n",
        "capacity_bars = ax.bar(ind + width, [capacities[edge] for edge in E], width, label='Capacity')\n",
        "\n",
        "ax.set_xlabel('Edge')\n",
        "ax.set_ylabel('Value')\n",
        "ax.set_title('Flow and Capacity Values')\n",
        "ax.set_xticks(ind + width / 2)\n",
        "ax.set_xticklabels(edges)\n",
        "ax.legend()\n",
        "\n",
        "#==============================Max Flow Network================================\n",
        "G = nx.DiGraph()\n",
        "G.add_nodes_from(V)\n",
        "G.add_edges_from(E)\n",
        "\n",
        "pos = nx.spring_layout(G)\n",
        "\n",
        "plt.figure(figsize=(8, 6))\n",
        "nx.draw(G, pos, with_labels=True, node_color='lightblue', node_size=800, edge_color='gray', width=1.5, arrowsize=20)\n",
        "\n",
        "labels = {}\n",
        "for edge in E:\n",
        "    labels[edge] = f\"{edge}: {f[edge].value:.2f}\"\n",
        "nx.draw_networkx_edge_labels(G, pos, edge_labels=labels, font_color='red', font_size=10)\n",
        "\n",
        "plt.title(\"Max Flow Network\")\n",
        "plt.axis('off')\n",
        "plt.show()\n"
      ],
      "metadata": {
        "id": "LF1RoTgm_GFq"
      },
      "id": "LF1RoTgm_GFq",
      "execution_count": null,
      "outputs": []
    },
    {
      "cell_type": "markdown",
      "source": [
        "<h1 id=\"hid1\" class=\"section\">Prepared by Nadia Yazdani</h1>\n",
        "\n",
        "Reference:\n",
        "\n",
        "Additional Exercises for Convex Optimization</br>\n",
        "S. Boyd / L. Vandenberghe</br>\n",
        "March 18, 2016</br>\n",
        "link:\n",
        "https://github.com/cvxgrp/cvxbook_additional_exercises </br>\n",
        "Question: 5.12\n",
        "\n",
        "Code reference:\n",
        "\n",
        "https://github.com/cvxgrp/cvxbook_additional_exercises </br>\n",
        "\n",
        "Date:\n",
        "\n",
        "14 and 20 Tir 1402"
      ],
      "metadata": {
        "id": "wmuyRAsKbVfT"
      },
      "id": "wmuyRAsKbVfT"
    },
    {
      "cell_type": "markdown",
      "source": [
        "# 5.12 Least-squares with some permuted measurements.\n",
        "\n",
        "\n",
        "We want to estimate a vector $x \\in \\mathbf{R}^{n}$, given some linear measurements of $x$ corrupted with Gaussian noise. Here's the catch: some of the measurements have been permuted.\n",
        "\n",
        "More precisely, our measurement vector $y \\in \\mathbf{R}^{m}$ has the form\n",
        "\n",
        "$$\n",
        "y=P(A x+v)\n",
        "$$\n",
        "\n",
        "where $v_{i}$ are IID $\\mathcal{N}(0,1)$ measurement noises, $x \\in \\mathbf{R}^{n}$ is the vector of parameters we wish to estimate, and $P \\in \\mathbf{R}^{m \\times m}$ is a permutation matrix. (This means that each row and column of $P$ has exactly one entry equal to one, and the remaining $m-1$ entries zero.)\n",
        "\n",
        " We assume that $m>n$ and that at most $k$ of the measurements are permuted; i.e., $P e_{i} \\neq e_{i}$ for no more than $k$ indices $i$. We are interested in the case when $k<m(e . g . k=0.4 m)$; that is, only some of the measurements have been permuted. We want to estimate $x$ and $P$.\n",
        "\n",
        "Once we make a guess $\\hat{P}$ for $P$, we can get the maximum likelihood estimate of $x$ by minimizing $\\left\\|A x-\\hat{P}^{T} y\\right\\|_{2}$. The residual $A \\hat{x}-\\hat{P}^{T} y$ is then our guess of what $v$ is, and should be consistent with being a sample of a $\\mathcal{N}(0, I)$ vector.\n",
        "\n",
        "In principle, we can find the maximum likelihood estimate of $x$ and $P$ by solving a set of $\\left(\\begin{array}{c}m \\\\ k\\end{array}\\right)(k !-1)$ least-squares problems, and choosing one that has minimum residual. But this is not practical unless $m$ and $k$ are both very small.\n",
        "\n",
        "Describe a heuristic method for approximately solving this problem, using convex optimization. (There are many different approaches which work quite well.) You might find the following fact useful. The solution to\n",
        "\n",
        "$$\n",
        "\\operatorname{minimize}\\left\\|A x-P^{T} y\\right\\|\n",
        "$$\n",
        "\n",
        "over $P \\in \\mathbf{R}^{m \\times m}$ a permutation matrix, is the permutation that matches the smallest entry in $y$ with the smallest entry in $A x$, does the same for the second smallest entries and so forth.\n",
        "\n",
        "Carry out your method on the data in ls\\_perm\\_meas\\_data.*. Give your estimate of the permuted indices. The data file includes the true permutation matrix and value of $x$ (which of course you cannot use in forming your estimate). Compare the estimate of $x$ you get after your guessed permutation with the estimate obtained assuming $P=I$.\n",
        "\n",
        "Remark. This problem comes up in several applications. In target tracking, we get multiple noisy measurements of a set of targets, and then guess which targets are the same in the different sets of measurements. If some of our guesses are wrong (i.e., our target association is wrong) we have the present problem. In vision systems the problem arises when we have multiple camera views of a scene, which give us noisy measurements of a set of features. A feature correspondence algorithm guesses which features in one view correspond to features in other views. If we make some feature correspondence errors, we have the present problem.\n",
        "\n",
        "Note. If you are using Julia, you might have to set the solver to run more than the default number of iterations, using solve! (problem, SCSSolver(max\\_iters=10000)).\n",
        "\n",
        "**Solution**\n",
        "\n",
        "The basic idea is to treat the permuted measurements as measurements with high noise, i.e., as outliers. So we first use some robust estimator, like $\\ell_{1}$ or Huber, to estimate $x$, with no permutations.\n",
        "\n",
        "We then look for measurements with big residuals; these are (probably) the ones that were permuted. If a small enough number of candidates come up, we can try all permutations of these measurements, to see which has the smallest residuals.\n",
        "\n"
      ],
      "metadata": {
        "id": "S-yuE_h1vbhZ"
      },
      "id": "S-yuE_h1vbhZ"
    },
    {
      "cell_type": "code",
      "source": [
        "import cvxpy as cvx\n",
        "import numpy as np\n",
        "import matplotlib.pyplot as plt\n",
        "\n",
        "np.random.seed(0)\n",
        "m = 100\n",
        "k = 40  # max # permuted measurements\n",
        "n = 20\n",
        "A = 10 * np.random.randn(m, n)\n",
        "x_true = np.random.randn(n, 1)  # true x value\n",
        "print(x_true)\n",
        "y_true = A.dot(x_true) + np.random.randn(m, 1)"
      ],
      "metadata": {
        "id": "DMKKAP-kvoYq"
      },
      "id": "DMKKAP-kvoYq",
      "execution_count": null,
      "outputs": []
    },
    {
      "cell_type": "code",
      "source": [
        "# build permuted indices\n",
        "perm_idxs = np.random.permutation(m)\n",
        "print(perm_idxs)\n",
        "perm_idxs = np.sort(perm_idxs[:k])\n",
        "print(\"perm_idxs\",perm_idxs)\n",
        "temp_perm = np.random.permutation(k)\n",
        "new_pos = np.zeros(k)\n",
        "for i in range(k):\n",
        "    new_pos[i] = perm_idxs[temp_perm[i]]\n",
        "print(\"new_pos\",new_pos)\n",
        "new_pos = new_pos.astype(int)\n",
        "\n",
        "# true permutation matrix\n",
        "P = np.identity(m)\n",
        "P[perm_idxs] = P[new_pos]\n",
        "y = P.dot(y_true)\n",
        "new_pos = None\n",
        "print(P)"
      ],
      "metadata": {
        "id": "FYwah24bvsav"
      },
      "id": "FYwah24bvsav",
      "execution_count": null,
      "outputs": []
    },
    {
      "cell_type": "code",
      "source": [
        "# robust estimator\n",
        "x_hub = cvx.Variable(n)\n",
        "obj = cvx.sum(cvx.huber(A @ x_hub.flatten() - y.flatten()))\n",
        "cvx.Problem(cvx.Minimize(obj)).solve()\n",
        "x_hub_value = x_hub.value\n",
        "print(x_true)\n",
        "print(x_hub_value)\n",
        "plt.figure(1)\n",
        "\n",
        "plt.plot(np.arange(m), np.abs(A @ x_hub_value.flatten() - y.flatten()), '.')\n",
        "plt.ylabel('residual')\n",
        "plt.xlabel('idx')\n"
      ],
      "metadata": {
        "id": "0gv4jg2HvvM4"
      },
      "id": "0gv4jg2HvvM4",
      "execution_count": null,
      "outputs": []
    },
    {
      "cell_type": "code",
      "source": [
        "# naive estimator (P=I)\n",
        "x_naive = np.linalg.lstsq(A, y, rcond=None)[0]"
      ],
      "metadata": {
        "id": "9wcu1Nk_vySQ"
      },
      "id": "9wcu1Nk_vySQ",
      "execution_count": null,
      "outputs": []
    },
    {
      "cell_type": "markdown",
      "source": [
        "Otherwise we can remove the $k$ largest outliers, and solve the least squares problem without those measurements. We can then use this estimate $x$ to permute the suspected measurements, using the method described in the problem statement.\n",
        "\n",
        "Finally, the method can be applied recursively. That is, once we guess $\\hat{P}$, we permute the measurements to get $\\hat{y}=\\hat{P}^{T} y$, and apply the method again. If with this new data we guess that $\\hat{P}=I$, we're done; if not, we permute again. (Our final estimate of the permutation is then the product of the estimated permutations from each step.)\n"
      ],
      "metadata": {
        "id": "yBKPNbXUv03I"
      },
      "id": "yBKPNbXUv03I"
    },
    {
      "cell_type": "code",
      "source": [
        "\n",
        "# remove k largest residuals\n",
        "cand_idxs = np.argsort(np.abs(A @ x_hub_value.flatten() - y.flatten()))[::-1][:k]\n",
        "keep_idxs = np.argsort(np.abs(A @ x_hub_value.flatten() - y.flatten()))[:m-k]\n",
        "A_hat = A[keep_idxs]\n",
        "y_hat = y[keep_idxs]\n",
        "\n",
        "# ls estimate with candidate idxs removed\n",
        "x_ls = np.linalg.lstsq(A_hat, y_hat, rcond=None)[0]\n",
        "\n",
        "# match predicted outputs with measurements\n",
        "b = np.argsort(A[cand_idxs] @ x_ls.flatten())\n",
        "c = np.argsort(y[cand_idxs].flatten())\n",
        "\n",
        "# reorder A matrix\n",
        "cand_perms = cand_idxs.copy()\n",
        "cand_perms[b] = cand_perms[c]\n",
        "A[cand_perms] = A[cand_idxs]\n",
        "x_final = np.linalg.lstsq(A, y, rcond=None)[0]\n",
        "\n",
        "# final estimate of permuted indices\n",
        "perm_estimate = cand_idxs[np.where(cand_perms != cand_idxs)[0]]\n",
        "naive_error = np.linalg.norm(x_naive - x_true)\n",
        "final_error = np.linalg.norm(x_final - x_true)\n",
        "print(\"final_error - x_true = \",final_error)\n",
        "print(\"naive_error - x_true = \",naive_error)\n",
        "\n"
      ],
      "metadata": {
        "id": "3p7O30cGv5-7"
      },
      "id": "3p7O30cGv5-7",
      "execution_count": null,
      "outputs": []
    },
    {
      "cell_type": "markdown",
      "source": [
        "I added the following diagram to the program to better understand the final result."
      ],
      "metadata": {
        "id": "WoYJeMoOxQOq"
      },
      "id": "WoYJeMoOxQOq"
    },
    {
      "cell_type": "code",
      "source": [
        "plt.figure()\n",
        "plt.subplot(2, 1, 1)\n",
        "plt.plot(np.arange(m), np.abs(A @ x_hub_value.flatten() - y.flatten()), '.')\n",
        "plt.ylabel('Residual')\n",
        "plt.xlabel('Index')\n",
        "plt.title('Residuals')\n",
        "\n",
        "\n",
        "\n",
        "plt.tight_layout()\n",
        "plt.show()"
      ],
      "metadata": {
        "id": "Xx_EEJytxAm4"
      },
      "id": "Xx_EEJytxAm4",
      "execution_count": null,
      "outputs": []
    },
    {
      "cell_type": "markdown",
      "source": [
        "\n",
        "\n",
        "\n",
        "The figure shows the residuals after solving the robust estimation problem. There are some clear outliers, the $k$ largest of which we take to be our candidate indices. We use one iteration of the method outlined above to get $x_{\\text {final }}$. Simply using $\\hat{P}=I$ gives the naive estimator, $x_{\\text {naive }}$. The errors were\n",
        "\n",
        "$$\n",
        "\\begin{aligned}\n",
        "\\left\\|x_{\\text {true }}-x_{\\text {final }}\\right\\| & =0.061 \\\\\n",
        "\\left\\|x_{\\text {true }}-x_{\\text {naive }}\\right\\| & =3.4363\n",
        "\\end{aligned}\n",
        "$$\n",
        "\n",
        "in Matlab,\n",
        "\n",
        "$$\n",
        "\\begin{array}{rlc}\n",
        "\\left\\|x_{\\text {true }}-x_{\\text {final }}\\right\\| & =0.084 \\\\\n",
        "\\left\\|x_{\\text {true }}-x_{\\text {naive }}\\right\\| & =2.2684\n",
        "\\end{array}\n",
        "$$\n",
        "\n",
        "in Python, and\n",
        "\n",
        "$$\n",
        "\\begin{aligned}\n",
        "\\left\\|x_{\\text {true }}-x_{\\text {final }}\\right\\| & =0.068 \\\\\n",
        "\\left\\|x_{\\text {true }}-x_{\\text {naive }}\\right\\| & =2.6768\n",
        "\\end{aligned}\n",
        "$$\n",
        "in Julia"
      ],
      "metadata": {
        "id": "Qx-rCTfyv9B4"
      },
      "id": "Qx-rCTfyv9B4"
    },
    {
      "cell_type": "markdown",
      "source": [
        "<h1 id=\"hid1\" class=\"section\">Prepared by Mojtaba Mozhganfar</h1>\n",
        "\n",
        "Reference:\n",
        "\n",
        "Additional Exercises for Convex Optimization</br>\n",
        "S. Boyd / L. Vandenberghe</br>\n",
        "March 18, 2016</br>\n",
        "link:\n",
        "https://github.com/cvxgrp/cvxbook_additional_exercises </br>\n",
        "Additional Resource:\n",
        "https://web.stanford.edu/~boyd/cvxbook/cvxbook_additional_exercises/quad_metric_data.py"
      ],
      "metadata": {
        "id": "Cv-fDVctu_0m"
      },
      "id": "Cv-fDVctu_0m"
    },
    {
      "cell_type": "markdown",
      "source": [
        "##5.15 Learning a quadratic pseudo-metric from distance measurements.\n",
        "\n",
        "Learning a quadratic pseudo-metric from distance measurements. We are given a set of $N$ pairs of points in $\\mathbf{R}^n, x_1, \\ldots, x_N$, and $y_1, \\ldots, y_N$, together with a set of distances $d_1, \\ldots, d_N>0$.\n",
        "The goal is to find (or estimate or learn) a quadratic pseudo-metric $d$,\n",
        "$$\n",
        "d(x, y)=\\left((x-y)^T P(x-y)\\right)^{1 / 2}\n",
        "$$\n",
        "with $P \\in \\mathbf{S}_{+}^n$, which approximates the given distances, i.e., $d\\left(x_i, y_i\\right) \\approx d_i$. (The pseudo-metric $d$ is a metric only when $P \\succ 0$; when $P \\succeq 0$ is singular, it is a pseudo-metric.)\n",
        "To do this, we will choose $P \\in \\mathbf{S}_{+}^n$ that minimizes the mean squared error objective\n",
        "$$\n",
        "\\frac{1}{N} \\sum_{i=1}^N\\left(d_i-d\\left(x_i, y_i\\right)\\right)^2 .\n",
        "$$\n",
        "\n",
        "(a) Explain how to find $P$ using convex or quasiconvex optimization. If you cannot find an exact formulation (i.e., one that is guaranteed to minimize the total squared error objective), give a formulation that approximately minimizes the given objective, subject to the constraints.\n",
        "\n",
        "(b) Carry out the method of part (a) with the data given in quad_metric_data.m. The columns of the matrices $\\mathrm{X}$ and $\\mathrm{Y}$ are the points $x_i$ and $y_i$; the row vector d gives the distances $d_i$. Give the optimal mean squared distance error.\n",
        "We also provide a test set, with data X_test, Y_test, and d_test. Report the mean squared distance error on the test set (using the metric found using the data set above).\n",
        "\n",
        "## Solution:\n",
        "\n",
        "(a) The problem is\n",
        "$$\n",
        "\\operatorname{minimize} \\frac{1}{N} \\sum_{i=1}^N\\left(d_i-d\\left(x_i, y_i\\right)\\right)^2\n",
        "$$\n",
        "with variable $P \\in \\mathbf{S}_{+}^n$. This problem can be rewritten as\n",
        "$$\n",
        "\\operatorname{minimize} \\frac{1}{N} \\sum_{i=1}^N\\left(d_i^2-2 d_i d\\left(x_i, y_i\\right)+d\\left(x_i, y_i\\right)^2\\right),\n",
        "$$\n",
        "with variable $P$ (which enters through $d\\left(x_i, y_i\\right)$ ). The objective is convex because each term of the objective can be written as (ignoring the $1 / N$ factor)\n",
        "$$\n",
        "d_i^2-2 d_i\\left(\\left(x_i-y_i\\right)^T P\\left(x_i-y_i\\right)\\right)^{1 / 2}+\\left(x_i-y_i\\right)^T P\\left(x_i-y_i\\right),\n",
        "$$\n",
        "which is convex in $P$. To see this, note that the first term is constant and the third term is linear in $P$. The middle term is convex because it is the negation of the composition of a concave function (square root) with a linear function of $P$.\n",
        "\n",
        "(b) The following code solves the problem for the given instance. We find that the optimal mean squared error on the training set is 0.887 ; on the test set, it is 0.827 . This tells us that we probably haven't overfit. In fact, the optimal $P$ is singular; it has one zero eigenvalue. This is correct; the positive semidefinite constraint is active."
      ],
      "metadata": {
        "id": "8o-LO3bTvyxV"
      },
      "id": "8o-LO3bTvyxV"
    },
    {
      "cell_type": "code",
      "source": [
        "# Data for learning a quadratic metric\n",
        "# You should use X, Y, d as well as X_test, Y_test, d_test\n",
        "\n",
        "import numpy as np\n",
        "from scipy import linalg as la\n",
        "np.random.seed(8)\n",
        "\n",
        "n = 5 # Dimension\n",
        "N = 100 # Number of sample\n",
        "N_test = 10 # Samples for test set\n",
        "\n",
        "X = np.random.randn(n,N)\n",
        "Y = np.random.randn(n,N)\n",
        "\n",
        "X_test = np.random.randn(n,N_test)\n",
        "Y_test = np.random.randn(n,N_test)\n",
        "\n",
        "P = np.random.randn(n,n)\n",
        "P = P.dot(P.T) + np.identity(n)\n",
        "sqrtP = la.sqrtm(P)\n",
        "\n",
        "d = np.linalg.norm(sqrtP.dot(X-Y),axis=0)\n",
        "d = np.maximum(d+np.random.randn(N),0)\n",
        "d_test = np.linalg.norm(sqrtP.dot(X_test-Y_test),axis=0)\n",
        "d_test = np.maximum(d_test+np.random.randn(N_test),0)"
      ],
      "metadata": {
        "id": "GpVWATbnvz_-"
      },
      "id": "GpVWATbnvz_-",
      "execution_count": null,
      "outputs": []
    },
    {
      "cell_type": "code",
      "source": [
        "import numpy as np\n",
        "from scipy import linalg as la\n",
        "import cvxpy as cvx"
      ],
      "metadata": {
        "id": "LNFM3QbNv3ld"
      },
      "id": "LNFM3QbNv3ld",
      "execution_count": null,
      "outputs": []
    },
    {
      "cell_type": "code",
      "source": [
        "Z = X - Y\n",
        "P = cvx.Variable((n,n))\n",
        "f = 0\n",
        "for i in range(N):\n",
        "    f += d[i]**2\n",
        "    f += -2*d[i]*cvx.sqrt(cvx.quad_form(Z[:,i],P))\n",
        "    f += cvx.quad_form(Z[:,i],P)\n",
        "\n",
        "prob = cvx.Problem(cvx.Minimize(f/N), [P == cvx.Variable((n, n), PSD=True)])\n",
        "train_error = prob.solve()\n",
        "print(train_error)\n",
        "\n",
        "Z_test = X_test-Y_test\n",
        "d_hat = np.linalg.norm(la.sqrtm(P.value).dot(Z_test),axis=0)\n",
        "obj_test = (np.linalg.norm(d_test - d_hat)**2)/N_test\n",
        "print(obj_test)"
      ],
      "metadata": {
        "id": "H9UF5EfNv5wF"
      },
      "id": "H9UF5EfNv5wF",
      "execution_count": null,
      "outputs": []
    },
    {
      "cell_type": "markdown",
      "source": [
        "<h1 id=\"hid1\" class=\"section\">Prepared by Mina Faridi</h1>\n",
        "\n",
        "Reference:\n",
        "\n",
        "Additional Exercises for Convex Optimization</br>\n",
        "S. Boyd / L. Vandenberghe</br>\n",
        "March 18, 2016</br>\n",
        "link:\n",
        "\n",
        "https://github.com/cvxgrp/cvxbook_additional_exercises </br>\n",
        "Question: 5.17\n",
        "\n",
        "Code reference:\n",
        "\n",
        "https://github.com/cvxgrp/cvxbook_additional_exercises </br>\n",
        "\n",
        "Date:\n",
        "\n",
        "13 Tir 1402"
      ],
      "metadata": {
        "id": "rOmgv5yTRsmc"
      },
      "id": "rOmgv5yTRsmc"
    },
    {
      "cell_type": "markdown",
      "source": [
        "##5.17 Fitting a generalized additive regression model.\n",
        "\n",
        " A generalized additive model has the form\n",
        "\n",
        "$$\n",
        "f(x)=\\alpha+\\sum_{j=1}^{n} f_{j}\\left(x_{j}\\right),\n",
        "$$\n",
        "\n",
        "for $x \\in \\mathbf{R}^{n}$, where $\\alpha \\in \\mathbf{R}$ is the offset, and $f_{j}: \\mathbf{R} \\rightarrow \\mathbf{R}$, with $f_{j}(0)=0$. The functions $f_{j}$ are called the regressor functions. When each $f_{j}$ is linear, i.e., has the form $w_{j} x_{j}$, the generalized additive model is the same as the standard (linear) regression model. Roughly speaking, a generalized additive model takes into account nonlinearities in each regressor $x_{j}$, but not nonlinear interactions among the regressors. To visualize a generalized additive model, it is common to plot each regressor function (when $n$ is not too large).\n",
        "\n",
        "We will restrict the functions $f_{j}$ to be piecewise-affine, with given knot points $p_{1}<\\cdots<p_{K}$. This means that $f_{j}$ is affine on the intervals $\\left(-\\infty, p_{1}\\right],\\left[p_{1}, p_{2}\\right], \\ldots,\\left[p_{K-1}, p_{K}\\right],\\left[p_{K}, \\infty\\right)$, and continuous at $p_{1}, \\ldots, p_{K}$. Let $C$ denote the total (absolute value of) change in slope across all regressor functions and all knot points. The value $C$ is a measure of nonlinearity of the regressor functions; when $C=0$, the generalized additive model reduces to a linear regression model.\n",
        "\n",
        "Now suppose we observe samples or data $\\left(x^{(1)}, y^{(1)}\\right), \\ldots,\\left(x^{(N)}, y^{(N)}\\right) \\in \\mathbf{R}^{n} \\times \\mathbf{R}$, and wish to fit a generalized additive model to the data. We choose the offset and the regressor functions to minimize\n",
        "\n",
        "$$\n",
        "\\frac{1}{N} \\sum_{i=1}^{N}\\left(y^{(i)}-f\\left(x^{(i)}\\right)^{2}+\\lambda C,\\right.\n",
        "$$\n",
        "\n",
        "where $\\lambda>0$ is a regularization parameter. (The first term is the mean-square error.)\n",
        "\n",
        "(a) Explain how to solve this problem using convex optimization.\n",
        "\n",
        "(b) Carry out the method of part (a) using the data in the file gen_add_reg_data.m. This file contains the data, given as an $N \\times n$ matrix $\\mathrm{X}$ (whose rows are $\\left(x^{(i)}\\right)^{T}$ ), a column vector y (which give $y^{(i)}$ ), a vector $\\mathrm{p}$ that gives the knot points, and the scalar lambda.\n",
        "\n",
        "Give the mean-square error achieved by your generalized additive regression model. Compare the estimated and true regressor functions in a $3 \\times 3$ array of plots (using the plotting code in the data file as a template), over the range $-10 \\leq x_{i} \\leq 10$. The true regressor functions (to\n",
        "\n",
        "be used only for plotting, of course) are given in the cell array $f$.\n",
        "\n",
        "Hints.\n",
        "\n",
        "- You can represent each regressor function $f_{j}$ as a linear combination of the basis functions $b_{0}(u)=u$ and $b_{i}(u)=\\left(u-p_{k}\\right)_{+}-\\left(-p_{k}\\right)_{+}$for $k=1,2, \\ldots, K$, where $(a)_{+}=\\max \\{a, 0\\}$.\n",
        "\n",
        "- You might find the matrix $\\mathrm{xX}=\\left[b_{0}(\\mathrm{X}) b_{1}(\\mathrm{X}) \\cdots b_{K}(\\mathrm{X})\\right]$ useful."
      ],
      "metadata": {
        "id": "rwJylF6lIxMO"
      },
      "id": "rwJylF6lIxMO"
    },
    {
      "cell_type": "code",
      "source": [
        "import numpy as np\n",
        "import matplotlib.pyplot as plt\n",
        "\n",
        "# Fitting a generalized additive regression model.\n",
        "# Seed random number generator to get the same result every time\n",
        "np.random.seed(0)\n",
        "N = 2 ** 8\n",
        "n = 9\n",
        "\n",
        "X = np.random.normal(0, 6, size=(N, n))\n",
        "\n",
        "fig = plt.figure()\n",
        "fig.suptitle('Test Title')\n",
        "plt.xlabel('X-Axis')\n",
        "plt.ylabel('Y-Axis')\n",
        "plt.imshow(X, cmap='hot')\n",
        "# plt.colorbar()\n",
        "plt.show()\n"
      ],
      "metadata": {
        "id": "VawPMLD_-7Fh",
        "outputId": "1dfcdea2-1c1b-4712-cad5-40a26b47a990",
        "colab": {
          "base_uri": "https://localhost:8080/",
          "height": 497
        }
      },
      "execution_count": null,
      "outputs": [
        {
          "output_type": "display_data",
          "data": {
            "text/plain": [
              "<Figure size 640x480 with 1 Axes>"
            ],
            "image/png": "[encoded data removed]"
          },
          "metadata": {}
        }
      ],
      "id": "VawPMLD_-7Fh"
    },
    {
      "cell_type": "code",
      "source": [
        "lambda_val = 0.0391\n",
        "\n",
        "K = 15\n",
        "p = np.arange(-7, 8)\n",
        "\n",
        "# Define the functions.\n",
        "a0 = 1.3\n",
        "f = [\n",
        "    lambda x: x / 3,\n",
        "    lambda x: (x / 7) ** 2,\n",
        "    lambda x: (x / 8) ** 3,\n",
        "    lambda x: np.sin(x / 10 * np.pi),\n",
        "    lambda x: np.log(np.abs(x + 13)) - 2.56494935746154,\n",
        "    lambda x: (np.abs(x) / 8) ** 3.2 - (x / 8) ** 4,\n",
        "    lambda x: np.abs(x / 5),\n",
        "    lambda x: np.log(np.exp(x) + np.exp((x / 5) ** 2)) / 5 - 0.138629436111989,\n",
        "    lambda x: np.exp(x / 10) - 1\n",
        "]\n",
        "\n",
        "# Y=alpha+sum fj(Xj)+eps\n",
        "y = a0 * np.ones(N)\n",
        "for jj in range(n):\n",
        "    y += f[jj](X[:, jj])\n",
        "y += np.random.normal(0, 1, N)\n",
        "\n",
        "\n",
        "xx = np.linspace(-10, 10, 1024)\n",
        "plt.figure()\n",
        "for jj in range(9):\n",
        "    plt.subplot(3, 3, jj + 1)\n",
        "    plt.plot(xx, f[jj](xx), 'b')\n"
      ],
      "metadata": {
        "id": "MRepoaXh18bc",
        "outputId": "9fa0a5af-6eda-4b92-896c-74421da20cee",
        "colab": {
          "base_uri": "https://localhost:8080/",
          "height": 432
        }
      },
      "execution_count": null,
      "outputs": [
        {
          "output_type": "display_data",
          "data": {
            "text/plain": [
              "<Figure size 640x480 with 9 Axes>"
            ],
            "image/png": "[encoded data removed]"
          },
          "metadata": {}
        }
      ],
      "id": "MRepoaXh18bc"
    },
    {
      "cell_type": "code",
      "source": [
        "import numpy as np\n",
        "import cvxpy as cp\n",
        "import matplotlib.pyplot as plt\n",
        "\n",
        "# # Fitting a generalized additive regression model.\n",
        "\n",
        "# Build an augmented data matrix XX\n",
        "XX = X.copy()\n",
        "for ii in range(K):\n",
        "    XX = np.hstack((XX, np.maximum(0, X-p[ii])+np.minimum(p[ii], 0)))\n",
        "\n",
        "# Perform regression\n",
        "alpha = cp.Variable()\n",
        "c = cp.Variable(9*(K+1))\n",
        "objective = cp.Minimize(cp.sum_squares(y-alpha-XX @ c)/N + lambda_val*cp.norm(c, 1))\n",
        "problem = cp.Problem(objective)\n",
        "problem.solve()"
      ],
      "metadata": {
        "id": "YgGJIlmK9omH",
        "outputId": "eec089ee-1dd3-4d0e-d57b-835b71c1ac5b",
        "colab": {
          "base_uri": "https://localhost:8080/"
        }
      },
      "execution_count": null,
      "outputs": [
        {
          "output_type": "execute_result",
          "data": {
            "text/plain": [
              "1.3296763512671426"
            ]
          },
          "metadata": {},
          "execution_count": 5
        }
      ],
      "id": "YgGJIlmK9omH"
    },
    {
      "cell_type": "code",
      "source": [
        "# Plot functions\n",
        "xx = np.linspace(-10, 10, 1024)\n",
        "yy = np.zeros((9, 1024))\n",
        "\n",
        "fig, axs = plt.subplots(3, 3)\n",
        "\n",
        "for jj in range(9):\n",
        "    yy[jj,:] = c.value[jj] * xx\n",
        "    for ii in range(K):\n",
        "        yy[jj,:] = yy[jj,:] + c.value[ii*9+jj] * (np.maximum(xx-p[ii], 0)-np.maximum(-p[ii], 0))\n",
        "    axs[jj//3, jj%3].plot(xx, yy[jj,:])\n",
        "    axs[jj//3, jj%3].plot(xx, f[jj](xx), 'red')\n",
        "\n",
        "plt.savefig('gen_add_reg.eps', format='eps')"
      ],
      "metadata": {
        "id": "SPh4cLiQEyXj",
        "outputId": "edf64f9c-24e0-47fe-e095-3159b41abef0",
        "colab": {
          "base_uri": "https://localhost:8080/",
          "height": 433
        }
      },
      "execution_count": null,
      "outputs": [
        {
          "output_type": "display_data",
          "data": {
            "text/plain": [
              "<Figure size 640x480 with 9 Axes>"
            ],
            "image/png": "[encoded data removed]"
          },
          "metadata": {}
        }
      ],
      "id": "SPh4cLiQEyXj"
    },
    {
      "cell_type": "markdown",
      "source": [
        "<h1 id=\"hid1\" class=\"section\">Prepared by Mina Faridi</h1>\n",
        "\n",
        "Reference:\n",
        "\n",
        "Additional Exercises for Convex Optimization</br>\n",
        "S. Boyd / L. Vandenberghe</br>\n",
        "March 18, 2016</br>\n",
        "link:\n",
        "\n",
        "https://github.com/cvxgrp/cvxbook_additional_exercises </br>\n",
        "Question: 6.6\n",
        "\n",
        "Code reference:\n",
        "\n",
        "https://github.com/cvxgrp/cvxbook_additional_exercises </br>\n",
        "\n",
        "Date:\n",
        "\n",
        "20 Tir 1402"
      ],
      "metadata": {
        "id": "Kh1T0deOZ4cp"
      },
      "id": "Kh1T0deOZ4cp"
    },
    {
      "cell_type": "markdown",
      "source": [
        "##6.6 Maximum likelihood estimation of an increasing nonnegative signal.\n",
        "\n",
        " We wish to estimate a scalar signal $x(t)$, for $t=1,2, \\ldots, N$, which is known to be nonnegative and monotonically nondecreasing:\n",
        "\n",
        "$$\n",
        "0 \\leq x(1) \\leq x(2) \\leq \\cdots \\leq x(N)\n",
        "$$\n",
        "\n",
        "This occurs in many practical problems. For example, $x(t)$ might be a measure of wear or deterioration, that can only get worse, or stay the same, as time $t$ increases. We are also given that $x(t)=0$ for $t \\leq 0$.\n",
        "\n",
        "We are given a noise-corrupted moving average of $x$, given by\n",
        "\n",
        "$$\n",
        "y(t)=\\sum_{\\tau=1}^{k} h(\\tau) x(t-\\tau)+v(t), \\quad t=2, \\ldots, N+1,\n",
        "$$\n",
        "\n",
        "where $v(t)$ are independent $\\mathcal{N}(0,1)$ random variables.\n",
        "\n",
        "(a) Show how to formulate the problem of finding the maximum likelihood estimate of $x$, given $y$, taking into account the prior assumption that $x$ is nonnegative and monotonically nondecreasing, as a convex optimization problem. Be sure to indicate what the problem variables are, and what the problem data are.\n",
        "\n",
        "(b) We now consider a specific instance of the problem, with problem data (i.e., $N, k, h$, and $y$ ) given in the file ml_estim_incr_signal_data.*. (This file contains the true signal xtrue, which of course you cannot use in creating your estimate.) Find the maximum likelihood estimate $\\hat{x}_{\\mathrm{ml}}$, and plot it, along with the true signal. Also find and plot the maximum likelihood estimate $\\hat{x}_{\\mathrm{ml}, \\text { free }}$ not taking into account the signal nonnegativity and monotonicity.\n",
        "\n",
        "Hints.\n",
        "\n",
        "- Matlab: The function conv (convolution) is overloaded to work with CVX.\n",
        "\n",
        "- Python: Numpy has a function convolve which performs convolution. CVXPY has conv which does the same thing for variables.\n",
        "\n",
        "- Julia: The function conv is overloaded to work with Convex.jl.\n",
        "\n",
        "\\section*{Solution.}\n",
        "\n",
        "(a) To simplify our notation, we let the signal $\\hat{y}_{x}$ be the noiseless moving average of the signal $x$. That is,\n",
        "\n",
        "$$\n",
        "\\hat{y}_{x}(t)=\\sum_{\\tau=1}^{k} h(\\tau) x(t-\\tau), \\quad t=2, \\ldots, N+1 .\n",
        "$$\n",
        "\n",
        "Note that $\\hat{y}_{x}$ is a linear function of $x$.\n",
        "\n",
        "The nonnegativity and monotonicity constraint on $x$ can be expressed as a set of linear inequalities,\n",
        "\n",
        "$$\n",
        "x(1) \\geq 0, \\quad x(1) \\leq x(2), \\quad \\ldots \\quad x(N-1) \\leq x(N)\n",
        "$$\n",
        "\n",
        "Now we turn to the maximum likelihood problem. The likelihood function is\n",
        "\n",
        "$$\n",
        "\\prod_{t=2}^{N+1} p\\left(y(t)-\\hat{y}_{x}(t)\\right)\n",
        "$$\n",
        "where $p$ is the density function of a $\\mathcal{N}(0,1)$ random variable. The negative log-likelihood function has the form\n",
        "\n",
        "$$\n",
        "\\alpha+\\beta\\left\\|\\hat{y}_{x}-y\\right\\|_{2}^{2}\n",
        "$$\n",
        "\n",
        "where $\\alpha$ is a constant, and $\\beta$ is a positive constant. Thus, the ML estimate is found by minimizing the quadratic objective $\\left\\|\\hat{y}_{x}-y\\right\\|_{2}^{2}$. The ML estimate when we do not take into account signal nonnegativity and monotonicity can be found by solving a least-squares problem,\n",
        "\n",
        "$$\n",
        "\\hat{x}_{\\mathrm{ml}, \\text { free }}=\\underset{x}{\\operatorname{argmin}}\\left\\|\\hat{y}_{x}-y\\right\\|_{2}^{2}\n",
        "$$\n",
        "\n",
        "Since convolution is an invertible linear operation, to get the ML estimate without the monotonicity constraint, we simply apply deconvolution. Since the number of measurements and variables to estimate are the same $(N)$, there is no smoothing effect to reduce noise, and we can expect the deconvolved estimate to be poor.\n",
        "\n",
        "With the prior assumption that the signal $x$ is nonnegative and monotonically nondecreasing we can find the ML estimate $\\hat{x}_{\\mathrm{ml}}$ by solving the QP\n",
        "\n",
        "$$\n",
        "\\begin{array}{ll}\n",
        "\\operatorname{minimize} & \\left\\|\\hat{y}_{x}-y\\right\\|_{2}^{2} \\\\\n",
        "\\text { subject to } & x(1) \\geq 0 \\\\\n",
        "& x(t) \\leq x(t+1) \\quad t=1, \\ldots, N-1 .\n",
        "\\end{array}\n",
        "$$\n",
        "\n",
        "(b) The ML estimate for the given problem instance, with and without the assumption of nonnegativity and monotonicity, is plotted below. We've also plotted the true signal $x$. We observe that the ML estimate $\\hat{x}_{\\mathrm{ml}}$, which takes into consideration nonnegativity and monotonicity, is a much better estimate of signal $x$ than the simple unconstrained solution $\\hat{x}_{\\text {ml,free }}$ obtained via deconvolution.\n"
      ],
      "metadata": {
        "id": "445PD8ZmcHd0"
      },
      "id": "445PD8ZmcHd0"
    },
    {
      "cell_type": "code",
      "source": [
        "import numpy as np\n",
        "import matplotlib.pyplot as plt\n",
        "\n",
        "np.random.seed(1)\n",
        "N = 100\n",
        "\n",
        "# create an increasing input signal\n",
        "xtrue = np.zeros(N)\n",
        "xtrue[0:40] = 0.1\n",
        "xtrue[49] = 2\n",
        "xtrue[69:80] = 0.15\n",
        "xtrue[79] = 1\n",
        "xtrue = np.cumsum(xtrue)\n",
        "\n",
        "# pass the increasing input through a moving-average filter\n",
        "# and add Gaussian noise\n",
        "# h = np.array([0.25, 0.25, 0.25, 0.25])\n",
        "h = np.array([1, -0.85, 0.7, -0.3])\n",
        "k = h.size\n",
        "yhat = np.convolve(h,xtrue)\n",
        "y = yhat[0:-3].reshape(N,1) + np.random.randn(N,1)\n",
        "\n",
        "xtrue = np.asmatrix(xtrue.reshape(N,1))\n",
        "y = np.asmatrix(y)\n",
        "yhat = np.asmatrix(yhat[0:-3].reshape(N,1))\n",
        "\n",
        "\n",
        "fig = plt.figure()\n",
        "t = np.arange(N)\n",
        "plt.plot(t,xtrue,'b--',t,y,'g--',t,yhat,'r--')\n",
        "plt.legend(['x true', 'y', 'hat{y}'])\n",
        "plt.show()\n",
        "# plt.savefig('ml_estim_incr_signal_plot.eps',format='eps')"
      ],
      "metadata": {
        "id": "P4ZdmaK2K4LD",
        "colab": {
          "base_uri": "https://localhost:8080/",
          "height": 430
        },
        "outputId": "d8a0bfe7-e00b-4a1e-eb08-52fca11fe5e4"
      },
      "execution_count": null,
      "outputs": [
        {
          "output_type": "display_data",
          "data": {
            "text/plain": [
              "<Figure size 640x480 with 1 Axes>"
            ],
            "image/png": "[encoded data removed]"
          },
          "metadata": {}
        }
      ],
      "id": "P4ZdmaK2K4LD"
    },
    {
      "cell_type": "code",
      "execution_count": null,
      "metadata": {
        "colab": {
          "base_uri": "https://localhost:8080/",
          "height": 381
        },
        "id": "91FLlRYlJx3j",
        "outputId": "0c180412-9653-4bbb-d649-3e481f5c8316"
      },
      "outputs": [
        {
          "output_type": "error",
          "ename": "ValueError",
          "evalue": "ignored",
          "traceback": [
            "\u001b[0;31m---------------------------------------------------------------------------\u001b[0m",
            "\u001b[0;31mValueError\u001b[0m                                Traceback (most recent call last)",
            "\u001b[0;32m<ipython-input-2-a90a8ae5c49c>\u001b[0m in \u001b[0;36m<cell line: 7>\u001b[0;34m()\u001b[0m\n\u001b[1;32m      5\u001b[0m \u001b[0mxls\u001b[0m \u001b[0;34m=\u001b[0m \u001b[0mcvx\u001b[0m\u001b[0;34m.\u001b[0m\u001b[0mVariable\u001b[0m\u001b[0;34m(\u001b[0m\u001b[0mN\u001b[0m\u001b[0;34m)\u001b[0m\u001b[0;34m\u001b[0m\u001b[0;34m\u001b[0m\u001b[0m\n\u001b[1;32m      6\u001b[0m \u001b[0myhat\u001b[0m \u001b[0;34m=\u001b[0m \u001b[0mcvx\u001b[0m\u001b[0;34m.\u001b[0m\u001b[0mconv\u001b[0m\u001b[0;34m(\u001b[0m\u001b[0mh\u001b[0m\u001b[0;34m,\u001b[0m\u001b[0mxls\u001b[0m\u001b[0;34m)\u001b[0m\u001b[0;34m\u001b[0m\u001b[0;34m\u001b[0m\u001b[0m\n\u001b[0;32m----> 7\u001b[0;31m \u001b[0merror\u001b[0m \u001b[0;34m=\u001b[0m \u001b[0mcvx\u001b[0m\u001b[0;34m.\u001b[0m\u001b[0msum_squares\u001b[0m\u001b[0;34m(\u001b[0m\u001b[0myhat\u001b[0m\u001b[0;34m[\u001b[0m\u001b[0;36m0\u001b[0m\u001b[0;34m:\u001b[0m\u001b[0;34m-\u001b[0m\u001b[0;36m3\u001b[0m\u001b[0;34m]\u001b[0m \u001b[0;34m-\u001b[0m \u001b[0my\u001b[0m\u001b[0;34m)\u001b[0m\u001b[0;34m\u001b[0m\u001b[0;34m\u001b[0m\u001b[0m\n\u001b[0m\u001b[1;32m      8\u001b[0m \u001b[0mprob\u001b[0m \u001b[0;34m=\u001b[0m \u001b[0mcvx\u001b[0m\u001b[0;34m.\u001b[0m\u001b[0mProblem\u001b[0m\u001b[0;34m(\u001b[0m\u001b[0mcvx\u001b[0m\u001b[0;34m.\u001b[0m\u001b[0mMinimize\u001b[0m\u001b[0;34m(\u001b[0m\u001b[0merror\u001b[0m\u001b[0;34m)\u001b[0m\u001b[0;34m)\u001b[0m\u001b[0;34m\u001b[0m\u001b[0;34m\u001b[0m\u001b[0m\n\u001b[1;32m      9\u001b[0m \u001b[0mprob\u001b[0m\u001b[0;34m.\u001b[0m\u001b[0msolve\u001b[0m\u001b[0;34m(\u001b[0m\u001b[0;34m)\u001b[0m\u001b[0;34m\u001b[0m\u001b[0;34m\u001b[0m\u001b[0m\n",
            "\u001b[0;32m/usr/local/lib/python3.10/dist-packages/cvxpy/expressions/expression.py\u001b[0m in \u001b[0;36mcast_op\u001b[0;34m(self, other)\u001b[0m\n\u001b[1;32m     48\u001b[0m         \"\"\"\n\u001b[1;32m     49\u001b[0m         \u001b[0mother\u001b[0m \u001b[0;34m=\u001b[0m \u001b[0mself\u001b[0m\u001b[0;34m.\u001b[0m\u001b[0mcast_to_const\u001b[0m\u001b[0;34m(\u001b[0m\u001b[0mother\u001b[0m\u001b[0;34m)\u001b[0m\u001b[0;34m\u001b[0m\u001b[0;34m\u001b[0m\u001b[0m\n\u001b[0;32m---> 50\u001b[0;31m         \u001b[0;32mreturn\u001b[0m \u001b[0mbinary_op\u001b[0m\u001b[0;34m(\u001b[0m\u001b[0mself\u001b[0m\u001b[0;34m,\u001b[0m \u001b[0mother\u001b[0m\u001b[0;34m)\u001b[0m\u001b[0;34m\u001b[0m\u001b[0;34m\u001b[0m\u001b[0m\n\u001b[0m\u001b[1;32m     51\u001b[0m     \u001b[0;32mreturn\u001b[0m \u001b[0mcast_op\u001b[0m\u001b[0;34m\u001b[0m\u001b[0;34m\u001b[0m\u001b[0m\n\u001b[1;32m     52\u001b[0m \u001b[0;34m\u001b[0m\u001b[0m\n",
            "\u001b[0;32m/usr/local/lib/python3.10/dist-packages/cvxpy/expressions/expression.py\u001b[0m in \u001b[0;36m__sub__\u001b[0;34m(self, other)\u001b[0m\n\u001b[1;32m    573\u001b[0m         \"\"\"Expression : The difference of two expressions.\n\u001b[1;32m    574\u001b[0m         \"\"\"\n\u001b[0;32m--> 575\u001b[0;31m         \u001b[0;32mreturn\u001b[0m \u001b[0mself\u001b[0m \u001b[0;34m+\u001b[0m \u001b[0;34m-\u001b[0m\u001b[0mother\u001b[0m\u001b[0;34m\u001b[0m\u001b[0;34m\u001b[0m\u001b[0m\n\u001b[0m\u001b[1;32m    576\u001b[0m \u001b[0;34m\u001b[0m\u001b[0m\n\u001b[1;32m    577\u001b[0m     \u001b[0;34m@\u001b[0m\u001b[0m_cast_other\u001b[0m\u001b[0;34m\u001b[0m\u001b[0;34m\u001b[0m\u001b[0m\n",
            "\u001b[0;32m/usr/local/lib/python3.10/dist-packages/cvxpy/expressions/expression.py\u001b[0m in \u001b[0;36mcast_op\u001b[0;34m(self, other)\u001b[0m\n\u001b[1;32m     48\u001b[0m         \"\"\"\n\u001b[1;32m     49\u001b[0m         \u001b[0mother\u001b[0m \u001b[0;34m=\u001b[0m \u001b[0mself\u001b[0m\u001b[0;34m.\u001b[0m\u001b[0mcast_to_const\u001b[0m\u001b[0;34m(\u001b[0m\u001b[0mother\u001b[0m\u001b[0;34m)\u001b[0m\u001b[0;34m\u001b[0m\u001b[0;34m\u001b[0m\u001b[0m\n\u001b[0;32m---> 50\u001b[0;31m         \u001b[0;32mreturn\u001b[0m \u001b[0mbinary_op\u001b[0m\u001b[0;34m(\u001b[0m\u001b[0mself\u001b[0m\u001b[0;34m,\u001b[0m \u001b[0mother\u001b[0m\u001b[0;34m)\u001b[0m\u001b[0;34m\u001b[0m\u001b[0;34m\u001b[0m\u001b[0m\n\u001b[0m\u001b[1;32m     51\u001b[0m     \u001b[0;32mreturn\u001b[0m \u001b[0mcast_op\u001b[0m\u001b[0;34m\u001b[0m\u001b[0;34m\u001b[0m\u001b[0m\n\u001b[1;32m     52\u001b[0m \u001b[0;34m\u001b[0m\u001b[0m\n",
            "\u001b[0;32m/usr/local/lib/python3.10/dist-packages/cvxpy/expressions/expression.py\u001b[0m in \u001b[0;36m__add__\u001b[0;34m(self, other)\u001b[0m\n\u001b[1;32m    559\u001b[0m             \u001b[0;32mreturn\u001b[0m \u001b[0mself\u001b[0m\u001b[0;34m\u001b[0m\u001b[0;34m\u001b[0m\u001b[0m\n\u001b[1;32m    560\u001b[0m         \u001b[0mself\u001b[0m\u001b[0;34m,\u001b[0m \u001b[0mother\u001b[0m \u001b[0;34m=\u001b[0m \u001b[0mself\u001b[0m\u001b[0;34m.\u001b[0m\u001b[0mbroadcast\u001b[0m\u001b[0;34m(\u001b[0m\u001b[0mself\u001b[0m\u001b[0;34m,\u001b[0m \u001b[0mother\u001b[0m\u001b[0;34m)\u001b[0m\u001b[0;34m\u001b[0m\u001b[0;34m\u001b[0m\u001b[0m\n\u001b[0;32m--> 561\u001b[0;31m         \u001b[0;32mreturn\u001b[0m \u001b[0mcvxtypes\u001b[0m\u001b[0;34m.\u001b[0m\u001b[0madd_expr\u001b[0m\u001b[0;34m(\u001b[0m\u001b[0;34m)\u001b[0m\u001b[0;34m(\u001b[0m\u001b[0;34m[\u001b[0m\u001b[0mself\u001b[0m\u001b[0;34m,\u001b[0m \u001b[0mother\u001b[0m\u001b[0;34m]\u001b[0m\u001b[0;34m)\u001b[0m\u001b[0;34m\u001b[0m\u001b[0;34m\u001b[0m\u001b[0m\n\u001b[0m\u001b[1;32m    562\u001b[0m \u001b[0;34m\u001b[0m\u001b[0m\n\u001b[1;32m    563\u001b[0m     \u001b[0;34m@\u001b[0m\u001b[0m_cast_other\u001b[0m\u001b[0;34m\u001b[0m\u001b[0;34m\u001b[0m\u001b[0m\n",
            "\u001b[0;32m/usr/local/lib/python3.10/dist-packages/cvxpy/atoms/affine/add_expr.py\u001b[0m in \u001b[0;36m__init__\u001b[0;34m(self, arg_groups)\u001b[0m\n\u001b[1;32m     32\u001b[0m         \u001b[0;31m# For efficiency group args as sums.\u001b[0m\u001b[0;34m\u001b[0m\u001b[0;34m\u001b[0m\u001b[0m\n\u001b[1;32m     33\u001b[0m         \u001b[0mself\u001b[0m\u001b[0;34m.\u001b[0m\u001b[0m_arg_groups\u001b[0m \u001b[0;34m=\u001b[0m \u001b[0marg_groups\u001b[0m\u001b[0;34m\u001b[0m\u001b[0;34m\u001b[0m\u001b[0m\n\u001b[0;32m---> 34\u001b[0;31m         \u001b[0msuper\u001b[0m\u001b[0;34m(\u001b[0m\u001b[0mAddExpression\u001b[0m\u001b[0;34m,\u001b[0m \u001b[0mself\u001b[0m\u001b[0;34m)\u001b[0m\u001b[0;34m.\u001b[0m\u001b[0m__init__\u001b[0m\u001b[0;34m(\u001b[0m\u001b[0;34m*\u001b[0m\u001b[0marg_groups\u001b[0m\u001b[0;34m)\u001b[0m\u001b[0;34m\u001b[0m\u001b[0;34m\u001b[0m\u001b[0m\n\u001b[0m\u001b[1;32m     35\u001b[0m         \u001b[0mself\u001b[0m\u001b[0;34m.\u001b[0m\u001b[0margs\u001b[0m \u001b[0;34m=\u001b[0m \u001b[0;34m[\u001b[0m\u001b[0;34m]\u001b[0m\u001b[0;34m\u001b[0m\u001b[0;34m\u001b[0m\u001b[0m\n\u001b[1;32m     36\u001b[0m         \u001b[0;32mfor\u001b[0m \u001b[0mgroup\u001b[0m \u001b[0;32min\u001b[0m \u001b[0marg_groups\u001b[0m\u001b[0;34m:\u001b[0m\u001b[0;34m\u001b[0m\u001b[0;34m\u001b[0m\u001b[0m\n",
            "\u001b[0;32m/usr/local/lib/python3.10/dist-packages/cvxpy/atoms/atom.py\u001b[0m in \u001b[0;36m__init__\u001b[0;34m(self, *args)\u001b[0m\n\u001b[1;32m     49\u001b[0m         \u001b[0mself\u001b[0m\u001b[0;34m.\u001b[0m\u001b[0margs\u001b[0m \u001b[0;34m=\u001b[0m \u001b[0;34m[\u001b[0m\u001b[0mAtom\u001b[0m\u001b[0;34m.\u001b[0m\u001b[0mcast_to_const\u001b[0m\u001b[0;34m(\u001b[0m\u001b[0marg\u001b[0m\u001b[0;34m)\u001b[0m \u001b[0;32mfor\u001b[0m \u001b[0marg\u001b[0m \u001b[0;32min\u001b[0m \u001b[0margs\u001b[0m\u001b[0;34m]\u001b[0m\u001b[0;34m\u001b[0m\u001b[0;34m\u001b[0m\u001b[0m\n\u001b[1;32m     50\u001b[0m         \u001b[0mself\u001b[0m\u001b[0;34m.\u001b[0m\u001b[0mvalidate_arguments\u001b[0m\u001b[0;34m(\u001b[0m\u001b[0;34m)\u001b[0m\u001b[0;34m\u001b[0m\u001b[0;34m\u001b[0m\u001b[0m\n\u001b[0;32m---> 51\u001b[0;31m         \u001b[0mself\u001b[0m\u001b[0;34m.\u001b[0m\u001b[0m_shape\u001b[0m \u001b[0;34m=\u001b[0m \u001b[0mself\u001b[0m\u001b[0;34m.\u001b[0m\u001b[0mshape_from_args\u001b[0m\u001b[0;34m(\u001b[0m\u001b[0;34m)\u001b[0m\u001b[0;34m\u001b[0m\u001b[0;34m\u001b[0m\u001b[0m\n\u001b[0m\u001b[1;32m     52\u001b[0m         \u001b[0;32mif\u001b[0m \u001b[0mlen\u001b[0m\u001b[0;34m(\u001b[0m\u001b[0mself\u001b[0m\u001b[0;34m.\u001b[0m\u001b[0m_shape\u001b[0m\u001b[0;34m)\u001b[0m \u001b[0;34m>\u001b[0m \u001b[0;36m2\u001b[0m\u001b[0;34m:\u001b[0m\u001b[0;34m\u001b[0m\u001b[0;34m\u001b[0m\u001b[0m\n\u001b[1;32m     53\u001b[0m             \u001b[0;32mraise\u001b[0m \u001b[0mValueError\u001b[0m\u001b[0;34m(\u001b[0m\u001b[0;34m\"Atoms must be at most 2D.\"\u001b[0m\u001b[0;34m)\u001b[0m\u001b[0;34m\u001b[0m\u001b[0;34m\u001b[0m\u001b[0m\n",
            "\u001b[0;32m/usr/local/lib/python3.10/dist-packages/cvxpy/atoms/affine/add_expr.py\u001b[0m in \u001b[0;36mshape_from_args\u001b[0;34m(self)\u001b[0m\n\u001b[1;32m     40\u001b[0m         \"\"\"Returns the (row, col) shape of the expression.\n\u001b[1;32m     41\u001b[0m         \"\"\"\n\u001b[0;32m---> 42\u001b[0;31m         \u001b[0;32mreturn\u001b[0m \u001b[0mu\u001b[0m\u001b[0;34m.\u001b[0m\u001b[0mshape\u001b[0m\u001b[0;34m.\u001b[0m\u001b[0msum_shapes\u001b[0m\u001b[0;34m(\u001b[0m\u001b[0;34m[\u001b[0m\u001b[0marg\u001b[0m\u001b[0;34m.\u001b[0m\u001b[0mshape\u001b[0m \u001b[0;32mfor\u001b[0m \u001b[0marg\u001b[0m \u001b[0;32min\u001b[0m \u001b[0mself\u001b[0m\u001b[0;34m.\u001b[0m\u001b[0margs\u001b[0m\u001b[0;34m]\u001b[0m\u001b[0;34m)\u001b[0m\u001b[0;34m\u001b[0m\u001b[0;34m\u001b[0m\u001b[0m\n\u001b[0m\u001b[1;32m     43\u001b[0m \u001b[0;34m\u001b[0m\u001b[0m\n\u001b[1;32m     44\u001b[0m     \u001b[0;32mdef\u001b[0m \u001b[0mexpand_args\u001b[0m\u001b[0;34m(\u001b[0m\u001b[0mself\u001b[0m\u001b[0;34m,\u001b[0m \u001b[0mexpr\u001b[0m\u001b[0;34m)\u001b[0m\u001b[0;34m:\u001b[0m\u001b[0;34m\u001b[0m\u001b[0;34m\u001b[0m\u001b[0m\n",
            "\u001b[0;32m/usr/local/lib/python3.10/dist-packages/cvxpy/utilities/shape.py\u001b[0m in \u001b[0;36msum_shapes\u001b[0;34m(shapes)\u001b[0m\n\u001b[1;32m     48\u001b[0m         \u001b[0;31m# Only allow broadcasting for 0D arrays or summation of scalars.\u001b[0m\u001b[0;34m\u001b[0m\u001b[0;34m\u001b[0m\u001b[0m\n\u001b[1;32m     49\u001b[0m         \u001b[0;32mif\u001b[0m \u001b[0mshape\u001b[0m \u001b[0;34m!=\u001b[0m \u001b[0mt\u001b[0m \u001b[0;32mand\u001b[0m \u001b[0mlen\u001b[0m\u001b[0;34m(\u001b[0m\u001b[0msqueezed\u001b[0m\u001b[0;34m(\u001b[0m\u001b[0mshape\u001b[0m\u001b[0;34m)\u001b[0m\u001b[0;34m)\u001b[0m \u001b[0;34m!=\u001b[0m \u001b[0;36m0\u001b[0m \u001b[0;32mand\u001b[0m \u001b[0mlen\u001b[0m\u001b[0;34m(\u001b[0m\u001b[0msqueezed\u001b[0m\u001b[0;34m(\u001b[0m\u001b[0mt\u001b[0m\u001b[0;34m)\u001b[0m\u001b[0;34m)\u001b[0m \u001b[0;34m!=\u001b[0m \u001b[0;36m0\u001b[0m\u001b[0;34m:\u001b[0m\u001b[0;34m\u001b[0m\u001b[0;34m\u001b[0m\u001b[0m\n\u001b[0;32m---> 50\u001b[0;31m             raise ValueError(\n\u001b[0m\u001b[1;32m     51\u001b[0m                 \u001b[0;34m\"Cannot broadcast dimensions \"\u001b[0m \u001b[0;34m+\u001b[0m\u001b[0;34m\u001b[0m\u001b[0;34m\u001b[0m\u001b[0m\n\u001b[1;32m     52\u001b[0m                 len(shapes)*\" %s\" % tuple(shapes))\n",
            "\u001b[0;31mValueError\u001b[0m: Cannot broadcast dimensions  (100,) (100, 1)"
          ]
        }
      ],
      "source": [
        "import cvxpy as cvx\n",
        "import matplotlib.pyplot as plt\n",
        "\n",
        "# Estimate signal without constraints\n",
        "xls = cvx.Variable(N)\n",
        "yhat = cvx.conv(h,xls)\n",
        "error = cvx.sum_squares(yhat[0:-3] - y)\n",
        "prob = cvx.Problem(cvx.Minimize(error))\n",
        "prob.solve()\n",
        "\n",
        "# Estimate signal with constraints\n",
        "xmono = cvx.Variable(N)\n",
        "yhat = cvx.conv(h,xmono)\n",
        "error = cvx.sum_squares(yhat[0:-3] - y)\n",
        "constraints = [xmono[0] >= 0]\n",
        "constraints += [xmono[0:-1] <= xmono[1:]]\n",
        "prob2 = cvx.Problem(cvx.Minimize(error),constraints)\n",
        "prob2.solve()\n",
        "\n",
        "fig = plt.figure()\n",
        "t = np.arange(N)\n",
        "plt.plot(t,xtrue,'b--',t,xls.value,'k--',t,xmono.value,'r')\n",
        "plt.show()\n",
        "plt.savefig('ml_estim_incr_signal_plot.eps',format='eps')"
      ],
      "id": "91FLlRYlJx3j"
    },
    {
      "cell_type": "markdown",
      "source": [
        "<h1 id=\"hid1\" class=\"section\">Prepared by Nadia Yazdani</h1>\n",
        "\n",
        "Reference:\n",
        "\n",
        "Additional Exercises for Convex Optimization</br>\n",
        "S. Boyd / L. Vandenberghe</br>\n",
        "March 18, 2016</br>\n",
        "link:\n",
        "\n",
        "https://github.com/cvxgrp/cvxbook_additional_exercises </br>\n",
        "Question: 6.7\n",
        "\n",
        "Code reference:\n",
        "\n",
        "https://github.com/cvxgrp/cvxbook_additional_exercises </br>\n",
        "\n",
        "Date:\n",
        "\n",
        "24 Tir 1402"
      ],
      "metadata": {
        "id": "d12fBA3j2a1t"
      },
      "id": "d12fBA3j2a1t"
    },
    {
      "cell_type": "markdown",
      "source": [
        "##6.7 Relaxed and discrete A-optimal experiment design.\n",
        "\n",
        "This problem concerns the $A$-optimal experiment design problem, described on page 387 , with data generated as follows.\n",
        "\n",
        "$\\mathrm{n}=5 ; \\%$ dimension of parameters to be estimated\n",
        "\n",
        "$p=20 ; \\%$ number of available types of measurements\n",
        "\n",
        "$\\mathrm{m}=30 ; \\%$ total number of measurements to be carried out\n",
        "\n",
        "randn ('state', 0 );\n",
        "\n",
        "$V=r a n d n(n, p) ; \\%$ columns are vi, the possible measurement vectors Solve the relaxed $A$-optimal experiment design problem,\n",
        "\n",
        "$$\n",
        "\\begin{array}{ll}\n",
        "\\operatorname{minimize} & (1 / m) \\operatorname{tr}\\left(\\sum_{i=1}^{p} \\lambda_{i} v_{i} v_{i}^{T}\\right)^{-1} \\\\\n",
        "\\text { subject to } & \\mathbf{1}^{T} \\lambda=1, \\quad \\lambda \\succeq 0,\n",
        "\\end{array}\n",
        "$$\n",
        "\n",
        "with variable $\\lambda \\in \\mathbf{R}^{p}$. Find the optimal point $\\lambda^{\\star}$ and the associated optimal value of the relaxed problem. This optimal value is a lower bound on the optimal value of the discrete $A$-optimal experiment design problem,\n",
        "\n",
        "$$\n",
        "\\begin{array}{ll}\n",
        "\\operatorname{minimize} & \\operatorname{tr}\\left(\\sum_{i=1}^{p} m_{i} v_{i} v_{i}^{T}\\right)^{-1} \\\\\n",
        "\\text { subject to } & m_{1}+\\cdots+m_{p}=m, \\quad m_{i} \\in\\{0, \\ldots, m\\}, \\quad i=1, \\ldots, p\n",
        "\\end{array}\n",
        "$$\n",
        "\n",
        "with variables $m_{1}, \\ldots, m_{p}$. To get a suboptimal point for this discrete problem, round the entries in $m \\lambda^{\\star}$ to obtain integers $\\hat{m}_{i}$. If needed, adjust these by hand or some other method to ensure that they sum to $m$, and compute the objective value obtained. This is, of course, an upper bound on the optimal value of the discrete problem. Give the gap between this upper bound and the lower bound obtained from the relaxed problem. Note that the two objective values can be interpreted as mean-square estimation error $\\mathbf{E}\\|\\hat{x}-x\\|_{2}^{2}$.\n",
        "\n",
        "Solution. The objective of the relaxed problem is convex, so it is a convex problem. Expressing it in CVX requires a little work. We'd like to write the objective as\n",
        "\n",
        "$\\operatorname{minimize}\\left((1 / \\mathrm{m}) * \\operatorname{trace}\\left(\\operatorname{inv}\\left(\\mathrm{V} * \\operatorname{diag}(\\operatorname{lambda}) * \\mathrm{~V}^{\\prime}\\right)\\right)\\right)$\n",
        "\n",
        "but this won't work, because CVX doesn't know about matrix convex functions. Instead, we can express the objective as a sum of matrix fractional functions,\n",
        "\n",
        "$$\n",
        "\\begin{array}{ll}\n",
        "\\operatorname{minimize} & (1 / m) \\sum_{k=1}^{n} e_{k}^{T}\\left(\\sum_{i=1}^{p} \\lambda_{i} v_{i} v_{i}^{T}\\right)^{-1} e_{k} \\\\\n",
        "\\text { subject to } & \\mathbf{1}^{T} \\lambda=1, \\quad \\lambda \\succeq 0 .\n",
        "\\end{array}\n",
        "$$\n",
        "\n",
        "where $e_{k} \\in \\mathbf{R}^{n}$ is the $k$ th unit vector. (Note that $e$ is defined in exercise 6.9 as the estimation error vector, so $e_{k}$ could also mean the $k$ th entry of the error vector. But here, clearly, $e_{k}$ is $k$ th unit vector.)\n",
        "\n",
        "We can express this in CVX using the function matrix\\_frac. The following code solves the problem.\n",
        "\n",
        "\n"
      ],
      "metadata": {
        "id": "0h-aID7o2fs2"
      },
      "id": "0h-aID7o2fs2"
    },
    {
      "cell_type": "code",
      "source": [
        "import numpy as np\n",
        "import cvxpy as cp\n",
        "\n",
        "n = 5 # dimension\n",
        "p = 20 # number of available types of measurements\n",
        "m = 30 # total number of measurements to be carried out\n",
        "np.random.seed(0)\n",
        "V = np.random.randn(n,p) # columns are vi, the possible measurement vectors\n",
        "print(V)\n"
      ],
      "metadata": {
        "id": "ySYajs2eKdc4",
        "colab": {
          "base_uri": "https://localhost:8080/"
        },
        "outputId": "0982646c-4190-44e7-d67e-84c40006d49d"
      },
      "id": "ySYajs2eKdc4",
      "execution_count": null,
      "outputs": [
        {
          "output_type": "stream",
          "name": "stdout",
          "text": [
            "[[ 1.76405235  0.40015721  0.97873798  2.2408932   1.86755799 -0.97727788\n",
            "   0.95008842 -0.15135721 -0.10321885  0.4105985   0.14404357  1.45427351\n",
            "   0.76103773  0.12167502  0.44386323  0.33367433  1.49407907 -0.20515826\n",
            "   0.3130677  -0.85409574]\n",
            " [-2.55298982  0.6536186   0.8644362  -0.74216502  2.26975462 -1.45436567\n",
            "   0.04575852 -0.18718385  1.53277921  1.46935877  0.15494743  0.37816252\n",
            "  -0.88778575 -1.98079647 -0.34791215  0.15634897  1.23029068  1.20237985\n",
            "  -0.38732682 -0.30230275]\n",
            " [-1.04855297 -1.42001794 -1.70627019  1.9507754  -0.50965218 -0.4380743\n",
            "  -1.25279536  0.77749036 -1.61389785 -0.21274028 -0.89546656  0.3869025\n",
            "  -0.51080514 -1.18063218 -0.02818223  0.42833187  0.06651722  0.3024719\n",
            "  -0.63432209 -0.36274117]\n",
            " [-0.67246045 -0.35955316 -0.81314628 -1.7262826   0.17742614 -0.40178094\n",
            "  -1.63019835  0.46278226 -0.90729836  0.0519454   0.72909056  0.12898291\n",
            "   1.13940068 -1.23482582  0.40234164 -0.68481009 -0.87079715 -0.57884966\n",
            "  -0.31155253  0.05616534]\n",
            " [-1.16514984  0.90082649  0.46566244 -1.53624369  1.48825219  1.89588918\n",
            "   1.17877957 -0.17992484 -1.07075262  1.05445173 -0.40317695  1.22244507\n",
            "   0.20827498  0.97663904  0.3563664   0.70657317  0.01050002  1.78587049\n",
            "   0.12691209  0.40198936]]\n"
          ]
        }
      ]
    },
    {
      "cell_type": "code",
      "source": [
        "lambda_ = cp.Variable(p)\n",
        "obj = 0\n",
        "for k in range(n):\n",
        "  ek = np.zeros(n)\n",
        "  ek[k] = 1\n",
        "  obj = obj + (1/m)*cp.matrix_frac(ek, V @ cp.diag(lambda_) @ V.T)\n",
        "prob = cp.Problem(cp.Minimize(obj), [cp.sum(lambda_) == 1, lambda_ >= 0])\n",
        "prob.solve()\n",
        "lower_bound = prob.value\n",
        "print(\"lower_bound =\", lower_bound)\n",
        "\n",
        "\n",
        "t = -0.00 # small offset chosen by hand to make rounding work out.\n",
        "\n",
        "#for this problem data, none is needed!\n",
        "m_rnd = np.maximum(np.round(m*lambda_.value + t), 0)\n",
        "print(\"sum(m_rnd) =\", np.sum(m_rnd)) # should be == m\n",
        "print(m_rnd)\n",
        "\n",
        "#now find objective value of rounded experiment design\n",
        "upper_bound = np.trace(np.linalg.inv(V @ np.diag(m_rnd/m) @ V.T))/m\n",
        "print(\"upper_bound =\", upper_bound)\n",
        "gap = upper_bound - lower_bound\n",
        "print(\"gap =\", gap)\n",
        "rel_gap = gap / lower_bound\n",
        "print(\"rel_gap =\", rel_gap)\n"
      ],
      "metadata": {
        "colab": {
          "base_uri": "https://localhost:8080/"
        },
        "id": "jRRgAjqH2nlY",
        "outputId": "53363a87-9a64-4c27-ef9f-36ad17ee8fc4"
      },
      "id": "jRRgAjqH2nlY",
      "execution_count": null,
      "outputs": [
        {
          "output_type": "stream",
          "name": "stdout",
          "text": [
            "lower_bound = 0.12107367384306301\n",
            "sum(m_rnd) = 30.0\n",
            "[ 4. -0. -0.  4.  4.  4.  4.  0.  5.  0. -0.  0.  5.  0.  0.  0.  0.  0.\n",
            "  0.  0.]\n",
            "upper_bound = 0.12128055163625007\n",
            "gap = 0.0002068777931870519\n",
            "rel_gap = 0.00170869344772018\n"
          ]
        }
      ]
    },
    {
      "cell_type": "markdown",
      "source": [
        "\n",
        "For this problem instance, simple rounding yielded $\\hat{m}_{i}$ that summed to $m=30$, so no adjustment of the rounded values is needed. The lower bound is 0.2481 ; the upper bound is 0.2483 . The gap is 0.00023 , which is around $0.1 \\%$.\n",
        "\n",
        "What this means is this: We have found a choice of 30 measurements, each one from the set of 20 possible measurements, that yields a mean-square estimation error $\\mathbf{E}\\|\\hat{x}-x\\|_{2}^{2}=0.2483$. We do not know whether this is the optimal choice of 30 measurements. But we do know that this choice is no more than $0.1 \\%$ suboptimal; the optimal choice can achieve a mean-square error that is no smaller than 0.2481. Our experiment design is, if not optimal, very nearly optimal. (In fact, it is very likely to be optimal.)\n"
      ],
      "metadata": {
        "id": "WpQk_SUK2sh-"
      },
      "id": "WpQk_SUK2sh-"
    },
    {
      "cell_type": "code",
      "source": [
        "!pip install scipy"
      ],
      "metadata": {
        "colab": {
          "base_uri": "https://localhost:8080/"
        },
        "id": "BOMxsp_i2497",
        "outputId": "b2f0cec5-ee8b-466f-837f-b9ba75fa0740"
      },
      "id": "BOMxsp_i2497",
      "execution_count": null,
      "outputs": [
        {
          "output_type": "stream",
          "name": "stdout",
          "text": [
            "Requirement already satisfied: scipy in /usr/local/lib/python3.10/dist-packages (1.10.1)\n",
            "Requirement already satisfied: numpy<1.27.0,>=1.19.5 in /usr/local/lib/python3.10/dist-packages (from scipy) (1.22.4)\n"
          ]
        }
      ]
    },
    {
      "cell_type": "markdown",
      "source": [
        "We saved the random numbers generated by the MATLAB program and run the program again with this input:"
      ],
      "metadata": {
        "id": "J2EV1O_7mo0p"
      },
      "id": "J2EV1O_7mo0p"
    },
    {
      "cell_type": "code",
      "source": [
        "from scipy.io import loadmat\n",
        "import numpy as np\n",
        "from scipy.linalg import fractional_matrix_power\n",
        "\n",
        "\n",
        "n = 5  # dimension\n",
        "p = 20  # number of available types of measurements\n",
        "m = 30  # total number of measurements to be carried out\n",
        "np.random.seed(0)\n",
        "V = np.random.randn(n, p)  # columns are vi, the possible measurement vectors\n",
        "#V = loadmat('/content/sample_data/V.mat')['V']\n",
        "\n",
        "#This is the content of the V.mat file\n",
        "V = np.array([\n",
        "    [-4.32564812e-01,  1.19091547e+00, -1.86708578e-01,  1.13931314e-01, 2.94410816e-01,  8.57996673e-01, -3.99885578e-01,  6.68600506e-01, -1.60408556e+00,  5.28743011e-01, -1.01063371e+00, -6.43595203e-01, 4.31918416e-05,  8.95638471e-01,  5.68900205e-01, -2.34004048e-01, 6.23233851e-01,  2.37882073e-01,  3.89880490e-01, -9.49903799e-01],\n",
        "    [-1.66558438e+00,  1.18916420e+00,  7.25790548e-01,  1.06676821e+00, -1.33618186e+00,  1.25400142e+00,  6.89997375e-01,  1.19083807e+00, 2.57304235e-01,  2.19320673e-01,  6.14463049e-01,  3.80337252e-01, -3.17859451e-01,  7.30957338e-01, -2.55645416e-01,  1.18444837e-01, 7.99048618e-01, -1.00776339e+00,  8.79871066e-02,  7.81181618e-01],\n",
        "    [ 1.25332306e-01, -3.76332766e-02, -5.88316543e-01,  5.92814605e-02, 7.14324552e-01, -1.59372958e+00,  8.15622289e-01, -1.20245711e+00, -1.05647293e+00, -9.21901624e-01,  5.07740785e-01, -1.00911552e+00, 1.09500374e+00,  5.77857346e-01, -3.77468956e-01,  3.14809043e-01, 9.40889941e-01, -7.42044752e-01, -6.35465225e-01,  5.68960646e-01],\n",
        "    [ 2.87676420e-01,  3.27292361e-01,  2.18318582e+00, -9.56484055e-02, 1.62356206e+00, -1.44096443e+00,  7.11908324e-01, -1.97895578e-02, 1.41514149e+00, -2.17067449e+00,  1.69242987e+00, -1.95106695e-02, -1.87399026e+00,  4.03140316e-02, -2.95887110e-01,  1.44350824e+00, -9.92091736e-01,  1.08229495e+00, -5.59573302e-01, -8.21714292e-01],\n",
        "    [-1.14647135e+00,  1.74639143e-01, -1.36395883e-01, -8.32349464e-01, -6.91775702e-01,  5.71147624e-01,  1.29024975e+00, -1.56717299e-01, -8.05090404e-01, -5.91878245e-02,  5.91282587e-01, -4.82207891e-02, 4.28183273e-01,  6.77089188e-01, -1.47513451e+00, -3.50974738e-01, 2.12035152e-01, -1.31499703e-01,  4.43653490e-01, -2.65606851e-01]\n",
        "                  ])\n",
        "\n",
        "\n",
        "lambda_var = cp.Variable(p)\n",
        "obj = 0\n",
        "for k in range(n):\n",
        "    ek = np.zeros((n, 1))\n",
        "    ek[k] = 1\n",
        "    obj += (1 / m) * cp.matrix_frac(ek, V @ cp.diag(lambda_var) @ V.T)\n",
        "\n",
        "constraints = [\n",
        "    cp.sum(lambda_var) == 1,\n",
        "    lambda_var >= 0\n",
        "]\n",
        "\n",
        "problem = cp.Problem(cp.Minimize(obj), constraints)\n",
        "problem.solve()\n",
        "\n",
        "lower_bound = problem.value\n",
        "\n",
        "t = -0.00  # small offset chosen by hand to make rounding work out.\n",
        "# for this problem data, none is needed!\n",
        "m_rnd = np.round(m * lambda_var.value + t)\n",
        "m_rnd = m_rnd.astype(int)\n",
        "print(\"Sum of rounded measurements:\", np.sum(m_rnd))  # should be == m\n",
        "\n",
        "# now find objective value of rounded experiment design\n",
        "upper_bound = np.trace(np.linalg.inv(V @ np.diag(m_rnd / m) @ V.T)) / m\n",
        "\n",
        "gap = upper_bound - lower_bound\n",
        "rel_gap = gap / lower_bound\n",
        "\n",
        "print(\"Lower bound:\", lower_bound)\n",
        "print(\"Upper bound:\", upper_bound)\n",
        "print(\"Gap:\", gap)\n",
        "print(\"Relative Gap:\", rel_gap)\n",
        "\n",
        "\n"
      ],
      "metadata": {
        "colab": {
          "base_uri": "https://localhost:8080/"
        },
        "id": "3q_ALSVVLZLc",
        "outputId": "c7063d79-f8e2-41f3-e851-bfa9106e149c"
      },
      "id": "3q_ALSVVLZLc",
      "execution_count": null,
      "outputs": [
        {
          "output_type": "stream",
          "name": "stdout",
          "text": [
            "Sum of rounded measurements: 30\n",
            "Lower bound: 0.24808821575877132\n",
            "Upper bound: 0.24831384911519366\n",
            "Gap: 0.00022563335642233895\n",
            "Relative Gap: 0.0009094884081142074\n"
          ]
        }
      ]
    },
    {
      "cell_type": "markdown",
      "source": [
        "<h1 id=\"hid1\" class=\"section\">Prepared by Mojtaba Mozhganfar</h1>\n",
        "\n",
        "Reference:\n",
        "\n",
        "Additional Exercises for Convex Optimization</br>\n",
        "S. Boyd / L. Vandenberghe</br>\n",
        "March 18, 2016</br>\n",
        "link:\n",
        "https://github.com/cvxgrp/cvxbook_additional_exercises </br>"
      ],
      "metadata": {
        "id": "PkvwHHKcOQqY"
      },
      "id": "PkvwHHKcOQqY"
    },
    {
      "cell_type": "markdown",
      "source": [
        "##7.5 Three-way linear classification. We are given data\n",
        "$$\n",
        "x^{(1)}, \\ldots, x^{(N)}, \\quad y^{(1)}, \\ldots, y^{(M)}, \\quad z^{(1)}, \\ldots, z^{(P)},\n",
        "$$\n",
        "three nonempty sets of vectors in $\\mathbf{R}^n$. We wish to find three affine functions on $\\mathbf{R}^n$,\n",
        "$$\n",
        "f_i(z)=a_i^T z-b_i, \\quad i=1,2,3,\n",
        "$$\n",
        "that satisfy the following properties:\n",
        "$$\n",
        "\\begin{array}{ll}\n",
        "f_1\\left(x^{(j)}\\right)>\\max \\left\\{f_2\\left(x^{(j)}\\right), f_3\\left(x^{(j)}\\right)\\right\\}, & j=1, \\ldots, N, \\\\\n",
        "f_2\\left(y^{(j)}\\right)>\\max \\left\\{f_1\\left(y^{(j)}\\right), f_3\\left(y^{(j)}\\right)\\right\\}, & j=1, \\ldots, M, \\\\\n",
        "f_3\\left(z^{(j)}\\right)>\\max \\left\\{f_1\\left(z^{(j)}\\right), f_2\\left(z^{(j)}\\right)\\right\\}, & j=1, \\ldots, P .\n",
        "\\end{array}\n",
        "$$\n",
        "In words: $f_1$ is the largest of the three functions on the $x$ data points, $f_2$ is the largest of the three functions on the $y$ data points, $f_3$ is the largest of the three functions on the $z$ data points. We can give a simple geometric interpretation: The functions $f_1, f_2$, and $f_3$ partition $\\mathbf{R}^n$ into three regions,\n",
        "$$\n",
        "\\begin{aligned}\n",
        "& R_1=\\left\\{z \\mid f_1(z)>\\max \\left\\{f_2(z), f_3(z)\\right\\}\\right\\}, \\\\\n",
        "& R_2=\\left\\{z \\mid f_2(z)>\\max \\left\\{f_1(z), f_3(z)\\right\\}\\right\\}, \\\\\n",
        "& R_3=\\left\\{z \\mid f_3(z)>\\max \\left\\{f_1(z), f_2(z)\\right\\}\\right\\},\n",
        "\\end{aligned}\n",
        "$$\n",
        "defined by where each function is the largest of the three. Our goal is to find functions with $x^{(j)} \\in R_1, y^{(j)} \\in R_2$, and $z^{(j)} \\in R_3$.\n",
        "\n",
        "Pose this as a convex optimization problem. You may not use strict inequalities in your formulation.\n",
        "Solve the specific instance of the 3-way separation problem given in sep3way_data.m, with the columns of the matrices $\\mathrm{X}, \\mathrm{Y}$ and $\\mathrm{Z}$ giving the $x^{(j)}, j=1, \\ldots, N, y^{(j)}, j=1, \\ldots, M$ and $z^{(j)}, j=$ $1, \\ldots, P$. To save you the trouble of plotting data points and separation boundaries, we have included the plotting code in sep3way_data.m. (Note that a1, a2, a3, b1 and b2 contain arbitrary numbers; you should compute the correct values using CVX.)\n",
        "##Solution\n",
        "The inequalities\n",
        "$$\n",
        "\\begin{array}{ll}\n",
        "f_1\\left(x^{(j)}\\right)>\\max \\left\\{f_2\\left(x^{(j)}\\right), f_3\\left(x^{(j)}\\right)\\right\\}, & j=1, \\ldots, N, \\\\\n",
        "f_2\\left(y^{(j)}\\right)>\\max \\left\\{f_1\\left(y^{(j)}\\right), f_3\\left(y^{(j)}\\right)\\right\\}, & j=1, \\ldots, M, \\\\\n",
        "f_3\\left(z^{(j)}\\right)>\\max \\left\\{f_1\\left(z^{(j)}\\right), f_2\\left(z^{(j)}\\right)\\right\\}, & j=1, \\ldots, P .\n",
        "\\end{array}\n",
        "$$\n",
        "are homogeneous in $a_i$ and $b_i$ so we can express them as\n",
        "$$\n",
        "\\begin{array}{ll}\n",
        "f_1\\left(x^{(j)}\\right) \\geq \\max \\left\\{f_2\\left(x^{(j)}\\right), f_3\\left(x^{(j)}\\right)\\right\\}+1, & j=1, \\ldots, N, \\\\\n",
        "f_2\\left(y^{(j)}\\right) \\geq \\max \\left\\{f_1\\left(y^{(j)}\\right), f_3\\left(y^{(j)}\\right)\\right\\}+1, & j=1, \\ldots, M, \\\\\n",
        "f_3\\left(z^{(j)}\\right) \\geq \\max \\left\\{f_1\\left(z^{(j)}\\right), f_2\\left(z^{(j)}\\right)\\right\\}+1, & j=1, \\ldots, P .\n",
        "\\end{array}\n",
        "$$\n",
        "Note that we can add any vector $\\alpha$ to each of the $a_i$, without affecting these inequalities (which only refer to difference between $a_i$ 's), and we can add any number $\\beta$ to each of the $b_i$ 's for the same reason. We can use this observation to normalize or simplify the $a_i$ and $b_i$. For example, we can assume without loss of generality that $a_1+a_2+a_3=0$ and $b_1+b_2+b_3=0$.\n",
        "\n",
        "The following script implements this method for 3-way classification and tests it on a small separable data set"
      ],
      "metadata": {
        "id": "HT55XOlFOIfC"
      },
      "id": "HT55XOlFOIfC"
    },
    {
      "cell_type": "code",
      "source": [
        "import numpy as np\n",
        "import matplotlib.pyplot as plt\n",
        "\n",
        "# data for problem instance\n",
        "#These lines define and set the values for variables M, N, and P.\n",
        "M = 20\n",
        "N = 20\n",
        "P = 20\n",
        "\n",
        "#These blocks of code define and initialize the matrices X, Y, and Z with the given values.\n",
        "X = np.array([\n",
        "    [3.5674, 4.1253, 2.8535, 5.1892, 4.3273, 3.8133, 3.4117, 3.8636, 5.0668, 3.9044,\n",
        "     4.2944, 4.7143, 3.3082, 5.2540, 2.5590, 3.6001, 4.8156, 5.2902, 5.1908, 3.9802],\n",
        "    [-2.9981, 0.5178, 2.1436, -0.0677, 0.3144, 1.3064, 3.9297, 0.2051, 0.1067, -1.4982,\n",
        "     -2.4051, 2.9224, 1.5444, -2.8687, 1.0281, 1.2420, 1.2814, 1.2035, -2.1644, -0.2821]\n",
        "])\n",
        "\n",
        "Y = np.array([\n",
        "    [-4.5665, -3.6904, -3.2881, -1.6491, -5.4731, -3.6170, -1.1876, -1.0539, -1.3915,\n",
        "     -2.0312, -1.9999, -0.2480, -1.3149, -0.8305, -1.9355, -1.0898, -2.6040, -4.3602,\n",
        "     -1.8105, 0.3096],\n",
        "    [2.4117, 4.2642, 2.8460, 0.5250, 1.9053, 2.9831, 4.7079, 0.9702, 0.3854, 1.9228,\n",
        "     1.4914, -0.9984, 3.4330, 2.9246, 3.0833, 1.5910, 1.5266, 1.6256, 2.5037, 1.4384]\n",
        "])\n",
        "\n",
        "Z = np.array([\n",
        "    [1.7451, 2.6345, 0.5937, -2.8217, 3.0304, 1.0917, -1.7793, 1.2422, 2.1873, -2.3008,\n",
        "     -3.3258, 2.7617, 0.9166, 0.0601, -2.6520, -3.3205, 4.1229, -3.4085, -3.1594, -0.7311],\n",
        "    [-3.2010, -4.9921, -3.7621, -4.7420, -4.1315, -3.9120, -4.5596, -4.9499, -3.4310,\n",
        "     -4.2656, -6.2023, -4.5186, -3.7659, -5.0039, -4.3744, -5.0559, -3.9443, -4.0412,\n",
        "     -5.3493, -3.0465]\n",
        "])\n",
        "\n",
        "#These lines initialize the variables a1, a2, a3, b1, b2, and b3 with initial values of zeros.\n",
        "a1 = np.zeros(2)\n",
        "a2 = np.zeros(2)\n",
        "a3 = np.zeros(2)\n",
        "b1 = 0\n",
        "b2 = 0\n",
        "b3 = 0\n",
        "\n",
        "# CVX optimization\n",
        "#This section uses the CVXPY library to solve the optimization problem. It creates variables a1, a2, a3, b1, b2, and b3 as optimization variables. Then, it defines the constraints and objective for the optimization problem. The objective is set to a dummy objective (zero) since the constraints define the actual problem. Finally, it creates a Problem object and calls the solve() method to solve the optimization problem.\n",
        "\n",
        "from cvxpy import Variable, Problem, Maximize, sum, maximum, Parameter\n",
        "\n",
        "a1 = Variable(2)\n",
        "a2 = Variable(2)\n",
        "a3 = Variable(2)\n",
        "b1 = Variable()\n",
        "b2 = Variable()\n",
        "b3 = Variable()\n",
        "\n",
        "constraints = [\n",
        "    a1 @ X - b1 >= maximum(a2 @ X - b2, a3 @ X - b3) + 1,\n",
        "    a2 @ Y - b2 >= maximum(a1 @ Y - b1, a3 @ Y - b3) + 1,\n",
        "    a3 @ Z - b3 >= maximum(a1 @ Z - b1, a2 @ Z - b2) + 1,\n",
        "    sum(a1) + sum(a2) + sum(a3) == 0,\n",
        "    b1 + b2 + b3 == 0\n",
        "]\n",
        "\n",
        "objective = Maximize(0)  # Dummy objective, since constraints are the actual problem\n",
        "\n",
        "problem = Problem(objective, constraints)\n",
        "problem.solve()\n",
        "\n",
        "p = np.linalg.solve(np.vstack([(a1 - a2).value.T, (a1 - a3).value.T]), np.hstack([(b1 - b2).value, (b1 - b3).value]))\n",
        "\n",
        "# plot\n",
        "t = np.arange(-7, 7, 0.01)\n",
        "u1 = (a1 - a2).value\n",
        "u2 = (a2 - a3).value\n",
        "u3 = (a3 - a1).value\n",
        "v1 = (b1 - b2).value\n",
        "v2 = (b2 - b3).value\n",
        "v3 = (b3 - b1).value\n",
        "line1 = (-t * u1[0] + v1) / u1[1]\n",
        "idx1 = np.where(u2.T @ np.vstack([t, line1]) - v2 > 0)[0]\n",
        "line2 = (-t * u2[0] + v2) / u2[1]\n",
        "idx2 = np.where(u3.T @ np.vstack([t, line2]) - v3 > 0)[0]\n",
        "line3 = (-t * u3[0] + v3) / u3[1]\n",
        "idx3 = np.where(u1.T @ np.vstack([t, line3]) - v1 > 0)[0]\n",
        "\n",
        "plt.plot(X[0], X[1], '*', Y[0], Y[1], 'ro', Z[0], Z[1], 'g+',\n",
        "         t[idx1], line1[idx1], 'k', t[idx2], line2[idx2], 'k', t[idx3], line3[idx3], 'k')\n",
        "plt.legend(['X[1]', 'Y[1]' , 'Z[1]' ])\n",
        "\n",
        "plt.axis([-7, 7, -7, 7])\n",
        "plt.show()\n"
      ],
      "metadata": {
        "colab": {
          "base_uri": "https://localhost:8080/",
          "height": 430
        },
        "id": "r8Qsl7sZOm9k",
        "outputId": "8da25d94-6a63-46c5-abb2-5657cd61315c"
      },
      "id": "r8Qsl7sZOm9k",
      "execution_count": null,
      "outputs": [
        {
          "output_type": "display_data",
          "data": {
            "text/plain": [
              "<Figure size 640x480 with 1 Axes>"
            ],
            "image/png": "[encoded data removed]"
          },
          "metadata": {}
        }
      ]
    },
    {
      "cell_type": "markdown",
      "source": [
        "<h1 id=\"hid1\" class=\"section\">Prepared by Mina Faridi</h1>\n",
        "\n",
        "Reference:\n",
        "\n",
        "Additional Exercises for Convex Optimization</br>\n",
        "S. Boyd / L. Vandenberghe</br>\n",
        "March 18, 2016</br>\n",
        "link:\n",
        "https://github.com/cvxgrp/cvxbook_additional_exercises </br>\n",
        "❌❌❌❌❌❌❌❌❌❌❌❌❌❌\n",
        "Example 7.13\n",
        "**Status: not Working yet**\n",
        "❌❌❌❌❌❌❌❌❌❌❌❌❌❌"
      ],
      "metadata": {
        "id": "0cgn_6WCdTHu"
      },
      "id": "0cgn_6WCdTHu"
    },
    {
      "cell_type": "markdown",
      "source": [
        "##7.13 Robust minimum volume covering ellipsoid.\n",
        "\n",
        "Suppose $z$ is a point in $\\mathbf{R}^{n}$ and $\\mathcal{E}$ is an ellipsoid in $\\mathbf{R}^{n}$ with center $c$. The Mahalanobis distance of the point to the ellipsoid center is defined as\n",
        "\n",
        "$$\n",
        "M(z, \\mathcal{E})=\\inf \\{t \\geq 0 \\mid z \\in c+t(\\mathcal{E}-c)\\}\n",
        "$$\n",
        "\n",
        "which is the factor by which we need to scale the ellipsoid about its center so that $z$ is on its boundary. We have $z \\in \\mathcal{E}$ if and only if $M(z, \\mathcal{E}) \\leq 1$. We can use $(M(z, \\mathcal{E})-1)_{+}$as a measure of the Mahalanobis distance of the point $z$ to the ellipsoid $\\mathcal{E}$.\n",
        "\n",
        "Now we can describe the problem. We are given $m$ points $x_{1}, \\ldots, x_{m} \\in \\mathbf{R}^{n}$. The goal is to find the optimal trade-off between the volume of the ellipsoid $\\mathcal{E}$ and the total Mahalanobis distance of the points to the ellipsoid, i.e.,\n",
        "\n",
        "$$\n",
        "\\sum_{i=1}^{m}(M(z, \\mathcal{E})-1)_{+}\n",
        "$$\n",
        "\n",
        "Note that this can be considered a robust version of finding the smallest volume ellipsoid that covers a set of points, since here we allow one or more points to be outside the ellipsoid.\n",
        "\n",
        "(a) Explain how to solve this problem. You must say clearly what your variables are, what problem you solve, and why the problem is convex.\n",
        "\n",
        "(b) Carry out your method on the data given in rob_min_vol_ellips_data.m. Plot the optimal trade-off curve of ellipsoid volume versus total Mahalanobis distance. For some selected points on the trade-off curve, plot the ellipsoid and the points (which are in $\\mathbf{R}^{2}$ ). We are only interested in the region of the curve where the ellipsoid volume is within a factor of ten (say) of the minimum volume ellipsoid that covers all the points.\n",
        "\n",
        "Important. Depending on how you formulate the problem, you might encounter problems that are unbounded below, or where CVX encounters numerical difficulty. Just avoid these by appropriate choice of parameter.\n",
        "\n",
        "Very important. If you use Matlab version 7.0 (which is filled with bugs) you might find that functions involving determinants don't work in CVX. If you use this version of Matlab, then you must download the file blkdiag.m on the course website and put it in your Matlab path before the default version (which has a bug).\n",
        "\n",
        "Solution. We parametrize the ellipsoid $\\mathcal{E}$ as\n",
        "\n",
        "$$\n",
        "\\mathcal{E}=\\left\\{x \\mid\\|A x-b\\|_{2} \\leq 1\\right\\}\n",
        "$$\n",
        "\n",
        "where $b \\in \\mathbf{R}^{n}$ and (without loss of generality) $A \\in \\mathbf{S}_{++}^{n}$. The volume of $\\mathcal{E}$ is proportional to $\\operatorname{det} A^{-1}$. The Mahalanobis distance to the ellipsoid center is then $M(z, \\mathcal{E})=\\|A z-b\\|_{2}$, which is a convex function of $A$ and $b$. It follows by the composition rules that\n",
        "\n",
        "$$\n",
        "\\sum_{i=1}^{m}\\left(\\left\\|A x_{i}-b\\right\\|_{2}-1\\right)_{+}\n",
        "$$\n",
        "\n",
        "is a convex function of $A$ and $b$.\n",
        "\n",
        "To find the optimal trade-off we simply minimize\n",
        "\n",
        "$$\n",
        "\\text { objective } \\quad \\log \\operatorname{det} A^{-1}+\\lambda \\sum_{i=1}^{m}\\left(\\left\\|A x_{i}-b\\right\\|_{2}-1\\right)_{+}\n",
        "$$\n",
        "\n",
        "over $A \\in \\mathbf{S}_{++}^{n}$ and $b \\in \\mathbf{R}^{n}$. Here $\\lambda$ is a positive weight that we use to trace out the optimal trade-off curve."
      ],
      "metadata": {
        "id": "Cm5QuVKzdQB2"
      },
      "id": "Cm5QuVKzdQB2"
    },
    {
      "cell_type": "code",
      "source": [
        "import numpy as np\n",
        "import matplotlib.pyplot as plt\n",
        "import cvxpy\n",
        "################################### ❌❌❌❌❌❌❌❌❌❌❌❌❌❌#################################################\n",
        "# import cvxpy.linalg\n",
        "\n",
        "n = 2  # dimension\n",
        "m = 100  # number of data points\n",
        "np.random.seed(0)\n",
        "x = np.random.randn(n, m)\n",
        "x[:, 49] = 10 * np.random.randn(n)  # add a few outliers to the set of points\n",
        "x[:, 79] = 10 * np.random.randn(n)\n",
        "x[:, 29] = 10 * np.random.randn(n)\n",
        "\n",
        "K = 10  # number of points on trade-off curve\n",
        "MM = np.zeros(K)\n",
        "vol = np.zeros(K)\n",
        "lambda_vals = np.logspace(-2, -1, K)  -1 , 1\n",
        "\n",
        "plt.plot(x[0, :], x[1, :], '.r')  # plot the data points\n",
        "\n",
        "t = np.linspace(0, 2*np.pi, 100)\n",
        "u = np.array([np.cos(t), np.sin(t)])  # unit circle\n",
        "\n",
        "for i in range(K):\n",
        "    A = cvxpy.Variable((n,n), symmetric=True)\n",
        "    b = cvxpy.Variable(n)\n",
        "    M = cvxpy.sum(cvxpy.pos(cvxpy.norm(A @ x - cvxpy.reshape(b, (n, 1)) @ np.ones((1,m))) - 1))\n",
        "    # objective = -np.linalg.det(A) + lambda_vals[i]*M\n",
        "    # objective = -np.sqrt(cvxpy.det(A)) + lambda_vals[i]*M\n",
        "    # objective = cvxpy.sqrt(A[0,0]*A[1,1]-A[0,1]*A[1,0]) + lambda_vals[i]*M\n",
        "    objective = -cvxpy.log_det(A) + lambda_vals[i]*M\n",
        "    # log_det(X)\n",
        "    prob = cvxpy.Problem(cvxpy.Minimize(objective))\n",
        "    prob.solve()\n",
        "\n",
        "    vol[i] = 1 / np.linalg.det(A.value)\n",
        "    MM[i] = M.value\n",
        "\n",
        "    E = (np.linalg.inv(A.value) @ (u + b.value.reshape(-1,1))).T\n",
        "    plt.plot(E[:,0], E[:,1], '-')\n",
        "\n",
        "plt.xlabel('total Mahalonibis distance')\n",
        "plt.ylabel('ellipsoid volume')\n",
        "plt.show()\n",
        "\n"
      ],
      "metadata": {
        "colab": {
          "base_uri": "https://localhost:8080/",
          "height": 788
        },
        "id": "MRssAWs7K_Pu",
        "outputId": "02c04099-a043-4568-a858-746a6dcb3d4d"
      },
      "execution_count": null,
      "outputs": [
        {
          "output_type": "error",
          "ename": "ValueError",
          "evalue": "ignored",
          "traceback": [
            "\u001b[0;31m---------------------------------------------------------------------------\u001b[0m",
            "\u001b[0;31mValueError\u001b[0m                                Traceback (most recent call last)",
            "\u001b[0;32m<ipython-input-26-5e6882b934be>\u001b[0m in \u001b[0;36m<cell line: 24>\u001b[0;34m()\u001b[0m\n\u001b[1;32m     31\u001b[0m     \u001b[0mobjective\u001b[0m \u001b[0;34m=\u001b[0m \u001b[0;34m-\u001b[0m\u001b[0mcvxpy\u001b[0m\u001b[0;34m.\u001b[0m\u001b[0mlog_det\u001b[0m\u001b[0;34m(\u001b[0m\u001b[0mA\u001b[0m\u001b[0;34m)\u001b[0m \u001b[0;34m+\u001b[0m \u001b[0mlambda_vals\u001b[0m\u001b[0;34m[\u001b[0m\u001b[0mi\u001b[0m\u001b[0;34m]\u001b[0m\u001b[0;34m*\u001b[0m\u001b[0mM\u001b[0m\u001b[0;34m\u001b[0m\u001b[0;34m\u001b[0m\u001b[0m\n\u001b[1;32m     32\u001b[0m     \u001b[0;31m# log_det(X)\u001b[0m\u001b[0;34m\u001b[0m\u001b[0;34m\u001b[0m\u001b[0m\n\u001b[0;32m---> 33\u001b[0;31m     \u001b[0mprob\u001b[0m \u001b[0;34m=\u001b[0m \u001b[0mcvxpy\u001b[0m\u001b[0;34m.\u001b[0m\u001b[0mProblem\u001b[0m\u001b[0;34m(\u001b[0m\u001b[0mcvxpy\u001b[0m\u001b[0;34m.\u001b[0m\u001b[0mMinimize\u001b[0m\u001b[0;34m(\u001b[0m\u001b[0mobjective\u001b[0m\u001b[0;34m)\u001b[0m\u001b[0;34m)\u001b[0m\u001b[0;34m\u001b[0m\u001b[0;34m\u001b[0m\u001b[0m\n\u001b[0m\u001b[1;32m     34\u001b[0m     \u001b[0mprob\u001b[0m\u001b[0;34m.\u001b[0m\u001b[0msolve\u001b[0m\u001b[0;34m(\u001b[0m\u001b[0;34m)\u001b[0m\u001b[0;34m\u001b[0m\u001b[0;34m\u001b[0m\u001b[0m\n\u001b[1;32m     35\u001b[0m \u001b[0;34m\u001b[0m\u001b[0m\n",
            "\u001b[0;32m/usr/local/lib/python3.10/dist-packages/cvxpy/problems/objective.py\u001b[0m in \u001b[0;36m__init__\u001b[0;34m(self, expr)\u001b[0m\n\u001b[1;32m     43\u001b[0m         \u001b[0;31m# Validate that the objective resolves to a scalar.\u001b[0m\u001b[0;34m\u001b[0m\u001b[0;34m\u001b[0m\u001b[0m\n\u001b[1;32m     44\u001b[0m         \u001b[0;32mif\u001b[0m \u001b[0;32mnot\u001b[0m \u001b[0mself\u001b[0m\u001b[0;34m.\u001b[0m\u001b[0margs\u001b[0m\u001b[0;34m[\u001b[0m\u001b[0;36m0\u001b[0m\u001b[0;34m]\u001b[0m\u001b[0;34m.\u001b[0m\u001b[0mis_scalar\u001b[0m\u001b[0;34m(\u001b[0m\u001b[0;34m)\u001b[0m\u001b[0;34m:\u001b[0m\u001b[0;34m\u001b[0m\u001b[0;34m\u001b[0m\u001b[0m\n\u001b[0;32m---> 45\u001b[0;31m             raise ValueError(\"The '%s' objective must resolve to a scalar.\"\n\u001b[0m\u001b[1;32m     46\u001b[0m                              % self.NAME)\n\u001b[1;32m     47\u001b[0m         \u001b[0;32mif\u001b[0m \u001b[0;32mnot\u001b[0m \u001b[0mself\u001b[0m\u001b[0;34m.\u001b[0m\u001b[0margs\u001b[0m\u001b[0;34m[\u001b[0m\u001b[0;36m0\u001b[0m\u001b[0;34m]\u001b[0m\u001b[0;34m.\u001b[0m\u001b[0mis_real\u001b[0m\u001b[0;34m(\u001b[0m\u001b[0;34m)\u001b[0m\u001b[0;34m:\u001b[0m\u001b[0;34m\u001b[0m\u001b[0;34m\u001b[0m\u001b[0m\n",
            "\u001b[0;31mValueError\u001b[0m: The 'minimize' objective must resolve to a scalar."
          ]
        },
        {
          "output_type": "display_data",
          "data": {
            "text/plain": [
              "<Figure size 640x480 with 1 Axes>"
            ],
            "image/png": "[encoded data removed]"
          },
          "metadata": {}
        }
      ],
      "id": "MRssAWs7K_Pu"
    },
    {
      "cell_type": "markdown",
      "source": [
        "<h1 id=\"hid1\" class=\"section\">Prepared by Leila Asadzadeh</h1>\n",
        "\n",
        "Reference:\n",
        "\n",
        "Routing, Flow, and Capacity Design in Communication and Computer Networks (The Morgan Kaufmann Series in Networking)</br>\n",
        "Michal Pioro, Deepankar Medhi</br>\n",
        "2004 </br>\n",
        "Codes link:\n",
        "https://www.grotto-networking.com/netDesignCourse.html </br>\n"
      ],
      "metadata": {
        "id": "JGECKphunjTl"
      },
      "id": "JGECKphunjTl"
    },
    {
      "cell_type": "markdown",
      "metadata": {
        "id": "GBupYb8WKGvE"
      },
      "source": [
        "\n",
        " # 7.14 Network Optimization Examples"
      ],
      "id": "GBupYb8WKGvE"
    },
    {
      "cell_type": "code",
      "source": [
        " !pip install pulp"
      ],
      "metadata": {
        "colab": {
          "base_uri": "https://localhost:8080/"
        },
        "id": "Ewad1hqFnIgP",
        "outputId": "04851736-7317-4dac-b8da-ced09ab20049"
      },
      "execution_count": null,
      "outputs": [
        {
          "output_type": "stream",
          "name": "stdout",
          "text": [
            "Collecting pulp\n",
            "  Downloading PuLP-2.7.0-py3-none-any.whl (14.3 MB)\n",
            "\u001b[2K     \u001b[90m━━━━━━━━━━━━━━━━━━━━━━━━━━━━━━━━━━━━━━━━\u001b[0m \u001b[32m14.3/14.3 MB\u001b[0m \u001b[31m45.7 MB/s\u001b[0m eta \u001b[36m0:00:00\u001b[0m\n",
            "\u001b[?25hInstalling collected packages: pulp\n",
            "Successfully installed pulp-2.7.0\n",
            "\u001b[33mWARNING: Running pip as the 'root' user can result in broken permissions and conflicting behaviour with the system package manager. It is recommended to use a virtual environment instead: https://pip.pypa.io/warnings/venv\u001b[0m\u001b[33m\n",
            "\u001b[0m"
          ]
        }
      ],
      "id": "Ewad1hqFnIgP"
    },
    {
      "cell_type": "markdown",
      "source": [
        "<h1 id=\"hid1\" class=\"section\">Prepared by Leila Asadzadeh</h1>\n",
        "\n",
        "Reference:\n",
        "\n",
        "Routing, Flow, and Capacity Design in Communication and Computer Networks (The Morgan Kaufmann Series in Networking)</br>\n",
        "Michal Pioro, Deepankar Medhi</br>\n",
        "2004 </br>\n",
        "\n",
        "slide:\n",
        "1-Link-path formulation.pdf </br>"
      ],
      "metadata": {
        "id": "r_bRWKVwlEQh"
      },
      "id": "r_bRWKVwlEQh"
    },
    {
      "cell_type": "markdown",
      "source": [
        "##  A basic capacitated network design problem in link_path formulation"
      ],
      "metadata": {
        "id": "rTXTy6RPzTdZ"
      },
      "id": "rTXTy6RPzTdZ"
    },
    {
      "cell_type": "markdown",
      "source": [
        "A network flow example in link-path formulation."
      ],
      "metadata": {
        "id": "ax9seoKVrpl0"
      },
      "id": "ax9seoKVrpl0"
    },
    {
      "cell_type": "code",
      "source": [
        "# Basic Link Path Formulation\n",
        "\n",
        "from pulp import *\n",
        "\n",
        "# Create the problem variable to contain the problem data\n",
        "prob = LpProblem(\"Link_Path_Formulation\", LpMinimize)\n",
        "\n",
        "x1_2 = LpVariable(\"x1_2\", 0, None)\n",
        "x1_3 = LpVariable(\"x1_3\", 0, None)\n",
        "x2_3 = LpVariable(\"x3\", 0, None)\n",
        "x1_2_3 = LpVariable(\"x1_2_3\", 0, None)\n",
        "x1_3_2 = LpVariable(\"x1_3_2\", 0, None)\n",
        "x2_1_3 = LpVariable(\"x2_1_3\", 0, None)\n",
        "\n"
      ],
      "metadata": {
        "id": "PS4x8AC_s8pI"
      },
      "execution_count": null,
      "outputs": [],
      "id": "PS4x8AC_s8pI"
    },
    {
      "cell_type": "code",
      "source": [
        "# Create minimize objective function\n",
        "prob +=  x1_2 + 2 * x1_3_2 + x1_3 + 2 * x1_2_3 + x2_3 + 2* x2_1_3"
      ],
      "metadata": {
        "id": "mCNZG3fzve-n"
      },
      "execution_count": null,
      "outputs": [],
      "id": "mCNZG3fzve-n"
    },
    {
      "cell_type": "code",
      "source": [
        "# Create constraints\n",
        "\n",
        "prob +=  x1_2 +  x1_3_2 == 5.5, \"c1\"\n",
        "prob += x1_3 +  x1_2_3 == 7, \"c2\"\n",
        "prob += x2_3 +  x2_1_3 == 8, \"c3\"\n",
        "\n",
        "prob += x1_2 +  x1_2_3 + x2_1_3 <= 10, \"c4\"\n",
        "prob += x1_3_2 +  x1_3 + x2_1_3 <= 10, \"c5\"\n",
        "prob += x1_3_2 +  x1_2_3 + x2_3 <= 15, \"c6\"\n"
      ],
      "metadata": {
        "id": "Ktsb99XDwL_X"
      },
      "execution_count": null,
      "outputs": [],
      "id": "Ktsb99XDwL_X"
    },
    {
      "cell_type": "code",
      "source": [
        "# The problem is solved using PuLP's choice of Solver\n",
        "prob.solve()\n",
        "\n",
        "# Each of the variables is printed with it's resolved optimum value\n",
        "for v in prob.variables():\n",
        "    print(v.name, \"=\", v.varValue)\n",
        "print(\"Minimum cost value is: \", value(prob.objective))"
      ],
      "metadata": {
        "colab": {
          "base_uri": "https://localhost:8080/"
        },
        "id": "5Y-0LhQyx-kA",
        "outputId": "abf735c5-7e67-4818-e06c-007e234c4457"
      },
      "execution_count": null,
      "outputs": [
        {
          "output_type": "stream",
          "name": "stdout",
          "text": [
            "x1_2 = 5.5\n",
            "x1_2_3 = 0.0\n",
            "x1_3 = 7.0\n",
            "x1_3_2 = 0.0\n",
            "x2_1_3 = 0.0\n",
            "x3 = 8.0\n",
            "Minimum cost value is:  20.5\n"
          ]
        }
      ],
      "id": "5Y-0LhQyx-kA"
    },
    {
      "cell_type": "markdown",
      "source": [
        "\n",
        "\n",
        "---\n",
        "\n",
        "\n",
        "<h1 id=\"hid1\" class=\"section\">Prepared by Leila Asadzadeh</h1>\n",
        "\n",
        "Reference:\n",
        "\n",
        "Routing, Flow, and Capacity Design in Communication and Computer Networks (The Morgan Kaufmann Series in Networking)</br>\n",
        "Michal Pioro, Deepankar Medhi</br>\n",
        "2004 </br>\n",
        "Code link:\n",
        "https://www.grotto-networking.com/netDesignCourse.html </br>\n",
        "\n",
        "slide:\n",
        "2-Capacitated and uncapacitated network design problems.pdf </br>"
      ],
      "metadata": {
        "id": "o2nMp1rBnV7Z"
      },
      "id": "o2nMp1rBnV7Z"
    },
    {
      "cell_type": "markdown",
      "source": [
        "##  A basic capacitated network design problem in node-link formulation"
      ],
      "metadata": {
        "id": "77pvrPh0xUVI"
      },
      "id": "77pvrPh0xUVI"
    },
    {
      "cell_type": "markdown",
      "source": [
        " Assume that both links and demands are directed, and consider a fixed demand pair and a fixed node. Instead of tracing the path flows realizing the demand volume of the considered demand, we consider the total link flow for this demand on each link. The flows come into this node on the incoming links and are sent out on its outgoing links. Moreover, the total flow realizing the considered demand incoming to the node (called transit or intermediate node in this context) is equal to the total flow for this demand outgoing from the node. This is called flow conservation law. If the considered fixed node is the source of the considered demand, then the total outgoing flow minus the total incoming flow must be equal to the demand volume. Finally, if the fixed node is the sink, then the total incoming flow minus the total outgoing flow must be equal to the demand volume.\n",
        "A network flow example in node-link formulation is as follows."
      ],
      "metadata": {
        "id": "H8rGU2jPqVCD"
      },
      "id": "H8rGU2jPqVCD"
    },
    {
      "cell_type": "code",
      "source": [
        "import networkx as nx\n",
        "from pulp import LpProblem, LpMinimize, LpVariable, LpStatus, lpSum\n",
        "\n",
        "\n",
        "def basic_capacitated_node_link(g, demands):\n",
        "    \"\"\" Creates a basic capacitated network design problem in node-link formulation\n",
        "\n",
        "        Parameters\n",
        "        ----------\n",
        "        g : networkx.DiGraph\n",
        "            a directed network graph g,\n",
        "        d : dictionary\n",
        "            a dictionary of demands indexed by node pairs\n",
        "        Returns\n",
        "        -------\n",
        "        pulp.LpProblem\n",
        "            a PuLP problem instance suitable for solving or writing.\n",
        "    \"\"\"\n",
        "    # Set up Node Link Formulation Linear Program\n",
        "    # First some nice lists to help us stay organized\n",
        "\n",
        "    demand_list = sorted(demands.keys())\n",
        "    link_list = sorted(g.edges())\n",
        "    node_list = sorted(g.nodes())\n",
        "\n",
        "    print (\"demand_list:\" , demand_list)\n",
        "    print (\"link_list:\", link_list )\n",
        "    print (\"node_list:\", node_list)\n",
        "\n",
        "    prob = LpProblem(\"Basic Node Link Formulation\", LpMinimize)\n",
        "\n",
        "    # Create a dictionary to hold link flow variables\n",
        "    # these will be indexed by a tuple of (link, demand) pairs.\n",
        "    # remember that these are each tuples themselves\n",
        "    #  1\n",
        "\n",
        "    link_flows = {}\n",
        "    for link in link_list:\n",
        "        for demand in demand_list:\n",
        "            name = \"xL{}_{}_D{}_{}\".format(link[0], link[1], demand[0], demand[1])\n",
        "            link_flows[(link, demand)] = LpVariable(name, 0)\n",
        "\n",
        "    # 2\n",
        "    # Add the objective function which is the sum of all the\n",
        "    # link flow variables times their respective link weights.\n",
        "    tmp_list = []\n",
        "    for link in link_list:\n",
        "        for demand in demand_list:\n",
        "            tmp_list.append(g[link[0]][link[1]][\"weight\"]*link_flows[(link, demand)])\n",
        "    prob += lpSum(tmp_list)\n",
        "\n",
        "    # Now lets include the link capacity constraints\n",
        "    # we have one to add for each\n",
        "    # 3\n",
        "    for link in link_list:\n",
        "        tmp_list = []\n",
        "        for demand in demand_list:\n",
        "            tmp_list.append(link_flows[(link, demand)])\n",
        "        link_name = \"L{}_{}\".format(link[0], link[1])\n",
        "        prob += lpSum(tmp_list)<= g[link[0]][link[1]]['capacity'], \"LinkCap|\" + link_name\n",
        "\n",
        "    # Now for the node flow conservation constraints\n",
        "    # We have one of these for each node and demand pair.\n",
        "    # 4\n",
        "    for node in node_list:\n",
        "        for demand in demand_list:\n",
        "            tmp_list = []\n",
        "            in_edges = g.in_edges(node)\n",
        "            out_edges = g.out_edges(node)\n",
        "            for link in out_edges:\n",
        "                tmp_list.append(link_flows[(link, demand)])\n",
        "            for link in in_edges:\n",
        "                tmp_list.append(-1.0*link_flows[(link, demand)])\n",
        "            rhs = 0.0  # Default transit node, but check if source or sink\n",
        "            if node == demand[0]:  # Is node the source of the demand\n",
        "                rhs = demands[demand]\n",
        "            if node == demand[1]:  # Is node the sink of the demand\n",
        "                rhs = -demands[demand]\n",
        "            constraint_name = \"NodeCons|{}D{}_{}\".format(node, demand[0], demand[1])\n",
        "            prob += lpSum(tmp_list) == rhs, constraint_name\n",
        "    return prob, link_flows\n",
        "\n",
        "if __name__ == \"__main__\":\n",
        "    # Define the network, we'll start with an undirected version and use a\n",
        "    # convenient utility function to convert it to a directed graph.\n",
        "    g_temp = nx.Graph()\n",
        "    # Don't need to add nodes separately.\n",
        "    g_temp.add_edge(1, 2, capacity=10, weight=1)  # add a \"capacity\" parameter\n",
        "    g_temp.add_edge(1, 3, capacity=10, weight=1)  # can have any name you like\n",
        "    g_temp.add_edge(2, 3, capacity=15, weight=1)\n",
        "    print (g_temp.edges(data=True))\n",
        "\n",
        "    g = g_temp.to_directed()  # Nice function to produce a directed version\n",
        "    print (g.edges(data=True))\n",
        "\n",
        "    # Here we define demands using a Python dictionary. A Python tuple (a,b)\n",
        "    # is used for the demand pair, and its dictionary value represents its\n",
        "    # volume.\n",
        "\n",
        "    demands = {(1, 2): 5, (2, 1): 5, (1, 3): 7, (3, 1): 7, (2, 3): 8, (3, 2): 8}\n",
        "    print (demands)\n",
        "    print (demands[(2, 1)])\n",
        "    prob, flow_vars = basic_capacitated_node_link(g, demands)\n",
        "    # prob.writeLP(\"basicNodeLink2_1.lpt\")\n",
        "    prob.solve()\n",
        "\n",
        "    print (\"Status:\", LpStatus[prob.status])\n",
        "    for v in prob.variables():\n",
        "        if v.varValue > 0 :\n",
        "            print (v.name, \"=\", v.varValue)\n",
        "    #print(\"Minimum cost value is: \", value(prob.objective))"
      ],
      "metadata": {
        "colab": {
          "base_uri": "https://localhost:8080/"
        },
        "id": "WE6jvzT-mVKW",
        "outputId": "7da102f4-56cc-48df-b776-84eea5b383a1"
      },
      "execution_count": null,
      "outputs": [
        {
          "output_type": "stream",
          "name": "stdout",
          "text": [
            "[(1, 2, {'capacity': 10, 'weight': 1}), (1, 3, {'capacity': 10, 'weight': 1}), (2, 3, {'capacity': 15, 'weight': 1})]\n",
            "[(1, 2, {'capacity': 10, 'weight': 1}), (1, 3, {'capacity': 10, 'weight': 1}), (2, 1, {'capacity': 10, 'weight': 1}), (2, 3, {'capacity': 15, 'weight': 1}), (3, 1, {'capacity': 10, 'weight': 1}), (3, 2, {'capacity': 15, 'weight': 1})]\n",
            "{(1, 2): 5, (2, 1): 5, (1, 3): 7, (3, 1): 7, (2, 3): 8, (3, 2): 8}\n",
            "5\n",
            "demand_list: [(1, 2), (1, 3), (2, 1), (2, 3), (3, 1), (3, 2)]\n",
            "link_list: [(1, 2), (1, 3), (2, 1), (2, 3), (3, 1), (3, 2)]\n",
            "node_list: [1, 2, 3]\n",
            "Status: Optimal\n",
            "xL1_2_D1_2 = 5.0\n",
            "xL1_3_D1_3 = 7.0\n",
            "xL2_1_D2_1 = 5.0\n",
            "xL2_3_D2_3 = 8.0\n",
            "xL3_1_D3_1 = 7.0\n",
            "xL3_2_D3_2 = 8.0\n"
          ]
        },
        {
          "output_type": "stream",
          "name": "stderr",
          "text": [
            "/usr/local/lib/python3.10/site-packages/pulp/pulp.py:1352: UserWarning: Spaces are not permitted in the name. Converted to '_'\n",
            "  warnings.warn(\"Spaces are not permitted in the name. Converted to '_'\")\n"
          ]
        }
      ],
      "id": "WE6jvzT-mVKW"
    },
    {
      "cell_type": "markdown",
      "source": [
        "<h1 id=\"hid1\" class=\"section\">Prepared by Leila Asadzadeh</h1>\n",
        "\n",
        "Reference:\n",
        "\n",
        "Routing, Flow, and Capacity Design in Communication and Computer Networks (The Morgan Kaufmann Series in Networking)</br>\n",
        "Michal Pioro, Deepankar Medhi</br>\n",
        "2004 </br>\n",
        "Code link:\n",
        "https://www.grotto-networking.com/netDesignCourse.html </br>\n",
        "\n",
        "slide:\n",
        "2-Capacitated and uncapacitated network design problems.pdf </br>"
      ],
      "metadata": {
        "id": "5pZ_80ALn7Xy"
      },
      "id": "5pZ_80ALn7Xy"
    },
    {
      "cell_type": "markdown",
      "source": [
        "#  Network Dimensioning Problems: Node-Link Formulation"
      ],
      "metadata": {
        "id": "Kr6pS_j9vACx"
      },
      "id": "Kr6pS_j9vACx"
    },
    {
      "cell_type": "markdown",
      "source": [
        "We consider a problem of minimizing the cost of network links with given\n",
        "demand volume between different nodes which can be routed over different paths. Demand volumes are realized by means of flows assigned to paths on their routing lists. In this problem, we are interested in minimizing the capacity cost."
      ],
      "metadata": {
        "id": "x-4rFUZdr10g"
      },
      "id": "x-4rFUZdr10g"
    },
    {
      "cell_type": "code",
      "source": [
        "# Copyright 2014 Dr. Greg M. Bernstein\n",
        "\"\"\" A single script that formulates a continuous **node-link** dimensioning problem.\n",
        "    This was used to generate the example given in the course slides. This is\n",
        "    not designed to be reusable since the \"shortest path allocation rule\" makes\n",
        "    this approach highly inefficient.\n",
        "\"\"\"\n",
        "from pulp import LpProblem, LpMinimize, LpVariable, LpStatus, lpSum\n",
        "import networkx as nx\n",
        "import matplotlib.pyplot as plt\n",
        "\n",
        "if __name__ == '__main__':\n",
        "\n",
        "    # Define the network, we'll start with an undirected version and use a\n",
        "    # convenient utility function to convert it to a directed graph.\n",
        "\n",
        "    g_temp = nx.Graph()\n",
        "    # Don't need to add nodes separately.\n",
        "    g_temp.add_edge(\"N0\", \"N1\", weight=1)\n",
        "    g_temp.add_edge(\"N0\", \"N5\", weight=1)\n",
        "    g_temp.add_edge(\"N0\", \"N6\", weight=1)\n",
        "    g_temp.add_edge(\"N1\", \"N2\", weight=1)\n",
        "    g_temp.add_edge(\"N2\", \"N3\", weight=1)\n",
        "    g_temp.add_edge(\"N3\", \"N4\", weight=1)\n",
        "    g_temp.add_edge(\"N3\", \"N6\", weight=1)\n",
        "    g_temp.add_edge(\"N4\", \"N5\", weight=1)\n",
        "    g_temp.add_edge(\"N5\", \"N6\", weight=1)\n",
        "    print (g_temp.edges(data=True))\n",
        "\n",
        "    g = g_temp.to_directed()  # Nice function to produce a directed version\n",
        "    print (g.edges(data=True))\n",
        "    nx.draw(g_temp,with_labels=True)\n",
        "    plt.show()\n",
        "\n",
        "    # Here we define demands using a Python dictionary. A Python tuple (a,b)\n",
        "    # is used for the demand pair, and its dictionary value represents its\n",
        "    # volume.\n",
        "\n",
        "    demands = {(\"N0\", \"N3\"): 25, (\"N2\", \"N3\"): 29,\n",
        "               (\"N1\", \"N6\"): 25, (\"N3\", \"N5\"): 31,\n",
        "               (\"N0\", \"N2\"): 16}\n",
        "    print (demands)\n",
        "\n",
        "    # Set up Node Link Formulation Linear Program\n",
        "    # First some nice lists to help us stay organized\n",
        "\n",
        "    demand_list = sorted(demands.keys())\n",
        "    link_list = sorted(g.edges())\n",
        "    #print(\"g.nodes=\",g.nodes())\n",
        "    node_list = sorted(g.nodes())\n",
        "    node_list =g.nodes()\n",
        "    print (demand_list)\n",
        "    print (link_list)\n",
        "    print (node_list)\n",
        "    prob = LpProblem(\"Dimensioning Basic Node Link Formulation\", LpMinimize)\n",
        "\n",
        "    # Create a dictionary to hold link flow variables\n",
        "    # these will be indexed by a tuple of (link, demand) pairs.\n",
        "    # remember that these are each tuples themselves\n",
        "\n",
        "    link_flows = {}\n",
        "    for link in link_list:\n",
        "        for demand in demand_list:\n",
        "            name = \"xL{}_{}_D{}_{}\".format(link[0], link[1], demand[0], demand[1])\n",
        "            link_flows[(link,demand)] = LpVariable(name, 0)\n",
        "    # Create another dictionary to hold the link capacity\n",
        "    # variables:\n",
        "    link_cap = {}\n",
        "    for e in link_list:\n",
        "        name = \"y_{}_{}\".format(e[0], e[1])\n",
        "        link_cap[e] = LpVariable(name, 0)\n",
        "    # Add the objective function which is the cost of\n",
        "    # all links times their capacity.\n",
        "    tmp_list = []\n",
        "    for e in link_list:\n",
        "        tmp_list.append(g[e[0]][e[1]][\"weight\"]*link_cap[e])\n",
        "    prob += lpSum(tmp_list)\n",
        "    # Now lets include the link capacity constraints\n",
        "    # we have one to add for each link\n",
        "    for link in link_list:\n",
        "        tmp_list = []\n",
        "        tmp_list.append(-1.0*link_cap[link])\n",
        "        for demand in demand_list:\n",
        "            tmp_list.append(link_flows[(link, demand)])\n",
        "        link_name = \"L{}_{}\".format(link[0], link[1])\n",
        "        prob += lpSum(tmp_list)<= 0, \"LinkCap|\" + link_name\n",
        "    # Now for the node flow conservation constraints\n",
        "    # We have one of these for each node and demand pair.\n",
        "    for node in node_list:\n",
        "        for demand in demand_list:\n",
        "            tmp_list = []\n",
        "            in_edges = g.in_edges(node)\n",
        "            out_edges = g.out_edges(node)\n",
        "            for link in out_edges:\n",
        "                tmp_list.append(link_flows[(link, demand)])\n",
        "            for link in in_edges:\n",
        "                tmp_list.append(-1.0*link_flows[(link, demand)])\n",
        "            rhs = 0.0  # Default transit node, but check if source or sink\n",
        "            if node == demand[0]:  # Is node the source of the demand\n",
        "                rhs = demands[demand]\n",
        "            if node == demand[1]:  # Is node the sink of the demand\n",
        "                rhs = -demands[demand]\n",
        "            constraint_name = \"NodeCons|{}D{}_{}\".format(node, demand[0], demand[1])\n",
        "            prob += lpSum(tmp_list) == rhs, constraint_name\n",
        "    #prob.writeLP(\"basicDimNodeLinkEx.lpt\")\n",
        "    prob.solve()\n",
        "    print (\"Status:\", LpStatus[prob.status])\n",
        "    for v in prob.variables():\n",
        "        if v.varValue > 0 :\n",
        "            print (v.name, \"=\", v.varValue)\n",
        "\n"
      ],
      "metadata": {
        "colab": {
          "base_uri": "https://localhost:8080/",
          "height": 979
        },
        "id": "9sT57Hkfu9Lk",
        "outputId": "f8332acc-c2aa-4604-815e-7fbcc373be45"
      },
      "execution_count": null,
      "outputs": [
        {
          "output_type": "stream",
          "name": "stdout",
          "text": [
            "[('N0', 'N1', {'weight': 1}), ('N0', 'N5', {'weight': 1}), ('N0', 'N6', {'weight': 1}), ('N1', 'N2', {'weight': 1}), ('N5', 'N4', {'weight': 1}), ('N5', 'N6', {'weight': 1}), ('N6', 'N3', {'weight': 1}), ('N2', 'N3', {'weight': 1}), ('N3', 'N4', {'weight': 1})]\n",
            "[('N0', 'N1', {'weight': 1}), ('N0', 'N5', {'weight': 1}), ('N0', 'N6', {'weight': 1}), ('N1', 'N0', {'weight': 1}), ('N1', 'N2', {'weight': 1}), ('N5', 'N0', {'weight': 1}), ('N5', 'N4', {'weight': 1}), ('N5', 'N6', {'weight': 1}), ('N6', 'N0', {'weight': 1}), ('N6', 'N3', {'weight': 1}), ('N6', 'N5', {'weight': 1}), ('N2', 'N1', {'weight': 1}), ('N2', 'N3', {'weight': 1}), ('N3', 'N2', {'weight': 1}), ('N3', 'N4', {'weight': 1}), ('N3', 'N6', {'weight': 1}), ('N4', 'N3', {'weight': 1}), ('N4', 'N5', {'weight': 1})]\n"
          ]
        },
        {
          "output_type": "display_data",
          "data": {
            "text/plain": [
              "<Figure size 640x480 with 1 Axes>"
            ],
            "image/png": "[encoded data removed]"
          },
          "metadata": {}
        },
        {
          "output_type": "stream",
          "name": "stdout",
          "text": [
            "{('N0', 'N3'): 25, ('N2', 'N3'): 29, ('N1', 'N6'): 25, ('N3', 'N5'): 31, ('N0', 'N2'): 16}\n",
            "[('N0', 'N2'), ('N0', 'N3'), ('N1', 'N6'), ('N2', 'N3'), ('N3', 'N5')]\n",
            "[('N0', 'N1'), ('N0', 'N5'), ('N0', 'N6'), ('N1', 'N0'), ('N1', 'N2'), ('N2', 'N1'), ('N2', 'N3'), ('N3', 'N2'), ('N3', 'N4'), ('N3', 'N6'), ('N4', 'N3'), ('N4', 'N5'), ('N5', 'N0'), ('N5', 'N4'), ('N5', 'N6'), ('N6', 'N0'), ('N6', 'N3'), ('N6', 'N5')]\n",
            "['N0', 'N1', 'N5', 'N6', 'N2', 'N3', 'N4']\n",
            "Status: Optimal\n",
            "xLN0_N1_DN0_N2 = 16.0\n",
            "xLN0_N6_DN0_N3 = 25.0\n",
            "xLN0_N6_DN1_N6 = 25.0\n",
            "xLN1_N0_DN1_N6 = 25.0\n",
            "xLN1_N2_DN0_N2 = 16.0\n",
            "xLN2_N3_DN2_N3 = 29.0\n",
            "xLN3_N6_DN3_N5 = 31.0\n",
            "xLN6_N3_DN0_N3 = 25.0\n",
            "xLN6_N5_DN3_N5 = 31.0\n",
            "y_N0_N1 = 16.0\n",
            "y_N0_N6 = 50.0\n",
            "y_N1_N0 = 25.0\n",
            "y_N1_N2 = 16.0\n",
            "y_N2_N3 = 29.0\n",
            "y_N3_N6 = 31.0\n",
            "y_N6_N3 = 25.0\n",
            "y_N6_N5 = 31.0\n"
          ]
        }
      ],
      "id": "9sT57Hkfu9Lk"
    },
    {
      "cell_type": "markdown",
      "source": [
        "<h1 id=\"hid1\" class=\"section\">Prepared by Leila Asadzadeh</h1>\n",
        "\n",
        "Reference:\n",
        "\n",
        "Routing, Flow, and Capacity Design in Communication and Computer Networks (The Morgan Kaufmann Series in Networking)</br>\n",
        "Michal Pioro, Deepankar Medhi</br>\n",
        "2004 </br>\n",
        "Code link:\n",
        "https://www.grotto-networking.com/netDesignCourse.html </br>\n",
        "\n",
        "slide:\n",
        "3-ModularDimProblem.pdf </br>"
      ],
      "metadata": {
        "id": "DXOeOwFvoW-B"
      },
      "id": "DXOeOwFvoW-B"
    },
    {
      "cell_type": "markdown",
      "source": [
        "##  Modular Node-Link Example"
      ],
      "metadata": {
        "id": "6l4RgJWIhE1V"
      },
      "id": "6l4RgJWIhE1V"
    },
    {
      "cell_type": "markdown",
      "source": [
        "Modular dimensioning problems can only allocate bandwidth in fixed size chunks."
      ],
      "metadata": {
        "id": "AOg3tu9FvYay"
      },
      "id": "AOg3tu9FvYay"
    },
    {
      "cell_type": "code",
      "source": [
        "# Copyright 2014 Dr. Greg M. Bernstein\n",
        "\"\"\" A single script that formulates a modular **node-link** dimensioning problem.\n",
        "    This was used to generate the example given in the course slides. This generates\n",
        "    a mixed integer programming (MIP) problem.\n",
        "\"\"\""
      ],
      "metadata": {
        "id": "zVXsJGiOhWFn"
      },
      "id": "zVXsJGiOhWFn",
      "execution_count": null,
      "outputs": []
    },
    {
      "cell_type": "code",
      "source": [
        "from networkx.readwrite import json_graph\n",
        "from pulp import LpProblem, LpMinimize, LpVariable, LpStatus, lpSum, value\n",
        "import networkx as nx\n",
        "import matplotlib.pyplot as plt"
      ],
      "metadata": {
        "id": "J1yAWNbyhb9M"
      },
      "id": "J1yAWNbyhb9M",
      "execution_count": null,
      "outputs": []
    },
    {
      "cell_type": "markdown",
      "source": [
        "###  Define the network, we'll start with an undirected version and use a convenient utility function to convert it to a directed graph."
      ],
      "metadata": {
        "id": "M8NdtKZehfDy"
      },
      "id": "M8NdtKZehfDy"
    },
    {
      "cell_type": "code",
      "source": [
        "link_mod = 40\n",
        "\n",
        "g_temp = nx.Graph()\n",
        "g_temp.add_edge(\"N0\", \"N1\", weight=1)\n",
        "g_temp.add_edge(\"N0\", \"N5\", weight=1)\n",
        "g_temp.add_edge(\"N0\", \"N6\", weight=1)\n",
        "g_temp.add_edge(\"N1\", \"N2\", weight=1)\n",
        "g_temp.add_edge(\"N2\", \"N3\", weight=1)\n",
        "g_temp.add_edge(\"N3\", \"N4\", weight=1)\n",
        "g_temp.add_edge(\"N3\", \"N6\", weight=1)\n",
        "g_temp.add_edge(\"N4\", \"N5\", weight=1)\n",
        "g_temp.add_edge(\"N5\", \"N6\", weight=1)\n",
        "print (g_temp.edges(data=True))\n",
        "\n",
        "g = g_temp.to_directed()  # Nice function to produce a directed version\n",
        "print (g.edges(data=True))"
      ],
      "metadata": {
        "id": "3uvgSVbahgxC"
      },
      "id": "3uvgSVbahgxC",
      "execution_count": null,
      "outputs": []
    },
    {
      "cell_type": "code",
      "source": [
        "nx.draw(g,with_labels=True)\n",
        "plt.show()"
      ],
      "metadata": {
        "id": "mSf0NAQLhmQd"
      },
      "id": "mSf0NAQLhmQd",
      "execution_count": null,
      "outputs": []
    },
    {
      "cell_type": "markdown",
      "source": [
        "###  Here we define demands using a Python dictionary. A Python tuple (a,b) is used for the demand pair, and its dictionary value represents its volume."
      ],
      "metadata": {
        "id": "cFI1Yn2yhjpZ"
      },
      "id": "cFI1Yn2yhjpZ"
    },
    {
      "cell_type": "code",
      "source": [
        "demandsUni = {(\"N0\", \"N3\"): 25, (\"N2\", \"N3\"): 29,\n",
        "               (\"N1\", \"N6\"): 25, (\"N3\", \"N5\"): 31,\n",
        "               (\"N0\", \"N2\"): 16}\n",
        "print (\"demandsUni=\",demandsUni)\n",
        "\n",
        "demands = {}\n",
        "for d in demandsUni.keys():\n",
        "    demands[d] = demandsUni[d]\n",
        "    demands[d[1],d[0]] = demandsUni[d]\n",
        "print (\"demands=\",demands)"
      ],
      "metadata": {
        "id": "nX_yHsgYhsQb"
      },
      "id": "nX_yHsgYhsQb",
      "execution_count": null,
      "outputs": []
    },
    {
      "cell_type": "markdown",
      "source": [
        " ###  Set up Node Link Formulation Linear Program First some nice lists to help us stay organized"
      ],
      "metadata": {
        "id": "NPI4uJxShzMn"
      },
      "id": "NPI4uJxShzMn"
    },
    {
      "cell_type": "code",
      "source": [
        "demand_list = sorted(demands.keys())\n",
        "link_list = sorted(g.edges())\n",
        "node_list = sorted(g.nodes())\n",
        "print (\"demand_list=\",demand_list)\n",
        "print (\"link_list=\",link_list)\n",
        "print (\"node_list=\",node_list)\n",
        "prob = LpProblem(\"DimensioningBasicNodeLinkFormulation\", LpMinimize)"
      ],
      "metadata": {
        "id": "lmXt4wZAh1Pr"
      },
      "id": "lmXt4wZAh1Pr",
      "execution_count": null,
      "outputs": []
    },
    {
      "cell_type": "markdown",
      "source": [
        "###  Create a dictionary to hold link flow variables these will be indexed by a tuple of (link, demand) pairs. Remember that these are each tuples themselves"
      ],
      "metadata": {
        "id": "LzeZQo8bh4Ss"
      },
      "id": "LzeZQo8bh4Ss"
    },
    {
      "cell_type": "code",
      "source": [
        "link_flows = {}\n",
        "for link in link_list:\n",
        "    for demand in demand_list:\n",
        "        name = \"xL{}_{}_D{}_{}\".format(link[0], link[1], demand[0], demand[1])\n",
        "        link_flows[(link,demand)] = LpVariable(name, 0)"
      ],
      "metadata": {
        "id": "X5l-d8ZOh7pJ"
      },
      "id": "X5l-d8ZOh7pJ",
      "execution_count": null,
      "outputs": []
    },
    {
      "cell_type": "markdown",
      "source": [
        "###  Create another dictionary to hold the link capacity variables $$ y_e $$"
      ],
      "metadata": {
        "id": "EgNMouYRh--y"
      },
      "id": "EgNMouYRh--y"
    },
    {
      "cell_type": "code",
      "source": [
        "link_cap = {}\n",
        "for e in link_list:\n",
        "    name = \"y_{}_{}\".format(e[0], e[1])\n",
        "    link_cap[e] = LpVariable(name, 0, cat=\"Integer\")  # Capacity variables constrained to integers"
      ],
      "metadata": {
        "id": "X4rNnwBWiCRm"
      },
      "id": "X4rNnwBWiCRm",
      "execution_count": null,
      "outputs": []
    },
    {
      "cell_type": "markdown",
      "source": [
        "###  Add the objective function which is the cost of all links times their capacity\n",
        "$$ \\large F=\\sum_{e}M\\xi_e y_e $$"
      ],
      "metadata": {
        "id": "I49iItD8iFLx"
      },
      "id": "I49iItD8iFLx"
    },
    {
      "cell_type": "code",
      "source": [
        "tmp_list = []\n",
        "for e in link_list:\n",
        "    tmp_list.append(link_mod*g[e[0]][e[1]][\"weight\"]*link_cap[e])\n",
        "prob += lpSum(tmp_list)"
      ],
      "metadata": {
        "id": "DAelP12fiJKo"
      },
      "id": "DAelP12fiJKo",
      "execution_count": null,
      "outputs": []
    },
    {
      "cell_type": "markdown",
      "source": [
        "### Now lets include the link capacity constraints we have one to add for each link\n",
        "$$ \\large \\sum_{d}x_{ed}- M y_{e} \\leq 0 $$"
      ],
      "metadata": {
        "id": "1vriGxSViMOF"
      },
      "id": "1vriGxSViMOF"
    },
    {
      "cell_type": "code",
      "source": [
        "for link in link_list:\n",
        "    tmp_list = []\n",
        "    tmp_list.append(-link_mod*link_cap[link])      # In terms of link modularity\n",
        "    for demand in demand_list:\n",
        "        tmp_list.append(link_flows[(link, demand)])\n",
        "    link_name = \"L{}_{}\".format(link[0], link[1])\n",
        "    prob += lpSum(tmp_list)<= 0, \"LinkCap|\" + link_name"
      ],
      "metadata": {
        "id": "XVhs9A1aiQMB"
      },
      "id": "XVhs9A1aiQMB",
      "execution_count": null,
      "outputs": []
    },
    {
      "cell_type": "markdown",
      "source": [
        "###  Now for the node flow conservation constraints We have one of these for each node and demand pair\n",
        "$$  \\sum_{e}a_{ev}x_{ed}-\\sum_{e}b_{ev}x_{ed}= \\left\\{ \\begin{array}{rcl}\n",
        "h_d &  \\mbox{if} & v=s_d \\\\ 0 & \\mbox{if} & v\\neq s_d,t_d & v=1,2,...,V & d= 1,2,..., D \\\\\n",
        "-h_d & \\mbox{if} & v=t_d\n",
        "\\end{array}\\right. $$"
      ],
      "metadata": {
        "id": "Cfzu1XduiTCG"
      },
      "id": "Cfzu1XduiTCG"
    },
    {
      "cell_type": "code",
      "source": [
        "for node in node_list:\n",
        "    for demand in demand_list:\n",
        "        tmp_list = []\n",
        "        in_edges = g.in_edges(node)\n",
        "        out_edges = g.out_edges(node)\n",
        "        for link in out_edges:\n",
        "            tmp_list.append(link_flows[(link, demand)])\n",
        "        for link in in_edges:\n",
        "            tmp_list.append(-1.0*link_flows[(link, demand)])\n",
        "        rhs = 0.0  # Default transit node, but check if source or sink\n",
        "        if node == demand[0]:  # Is node the source of the demand\n",
        "            rhs = demands[demand]\n",
        "        if node == demand[1]:  # Is node the sink of the demand\n",
        "            rhs = -demands[demand]\n",
        "        constraint_name = \"NodeCons|{}D{}_{}\".format(node, demand[0], demand[1])\n",
        "        prob += lpSum(tmp_list) == rhs, constraint_name"
      ],
      "metadata": {
        "id": "bKW-um52iW0m"
      },
      "id": "bKW-um52iW0m",
      "execution_count": null,
      "outputs": []
    },
    {
      "cell_type": "markdown",
      "source": [
        "### Solve the MIP problem"
      ],
      "metadata": {
        "id": "INuf0A_8ic-B"
      },
      "id": "INuf0A_8ic-B"
    },
    {
      "cell_type": "code",
      "source": [
        "prob.writeLP(\"ModDimNodeLink.lpt\")\n",
        "prob.solve()\n",
        "print (\"Status:\", LpStatus[prob.status], \" Objective: \", value(prob.objective))\n",
        "for v in prob.variables():\n",
        "    if v.varValue >0 :\n",
        "        print (v.name, \"=\", v.varValue)"
      ],
      "metadata": {
        "id": "7PfDJv7qiefg"
      },
      "id": "7PfDJv7qiefg",
      "execution_count": null,
      "outputs": []
    },
    {
      "cell_type": "markdown",
      "source": [
        "<h1 id=\"hid1\" class=\"section\">Prepared by Leila Asadzadeh</h1>\n",
        "\n",
        "Reference:\n",
        "\n",
        "Routing, Flow, and Capacity Design in Communication and Computer Networks (The Morgan Kaufmann Series in Networking)</br>\n",
        "Michal Pioro, Deepankar Medhi</br>\n",
        "2004 </br>\n",
        "Code link:\n",
        "https://www.grotto-networking.com/netDesignCourse.html </br>\n",
        "\n",
        "Slide:\n",
        "4-Single-Path Allocation.pdf </br>"
      ],
      "metadata": {
        "id": "Nd4HG6rmorPJ"
      },
      "id": "Nd4HG6rmorPJ"
    },
    {
      "cell_type": "markdown",
      "source": [
        "## Single-Path Allocation"
      ],
      "metadata": {
        "id": "LOUN-Sufolm9"
      },
      "id": "LOUN-Sufolm9"
    },
    {
      "cell_type": "markdown",
      "source": [
        "We may request non-bifurcated solution, splitting of flows are not allowed and we have one flow for one demand. In the next example we have hop count limits for each demand."
      ],
      "metadata": {
        "id": "X8cPg3bOwH_-"
      },
      "id": "X8cPg3bOwH_-"
    },
    {
      "cell_type": "code",
      "source": [
        "from pulp import LpProblem, LpMinimize, LpVariable, LpStatus, lpSum\n",
        "import matplotlib.pyplot as plt\n",
        "import networkx as nx\n",
        "from sys import float_info"
      ],
      "metadata": {
        "id": "xgQkH09NpHpD"
      },
      "id": "xgQkH09NpHpD",
      "execution_count": null,
      "outputs": []
    },
    {
      "cell_type": "code",
      "source": [
        "# Copyright 2014 Dr. Greg M. Bernstein\n",
        "\"\"\" A function and its helpers to convert a flow into simple conformal paths.\n",
        "    In particular these functions are very useful when interpreting the solutions\n",
        "    of network design problems that utilize a **node-link** formulation.\n",
        "\"\"\"\n",
        "\n",
        "from sys import float_info\n",
        "import copy\n",
        "\n",
        "\n",
        "def pathCost(path, g, wt=\"weight\"):\n",
        "    \"\"\" Compute the cost of the given path in a graph.\n",
        "\n",
        "    Parameters\n",
        "    ----------\n",
        "    path : list\n",
        "        a path given as a node list.\n",
        "    g : networkx.Graph\n",
        "        a networkx graph or directed graph where links have some type of weight attribute.\n",
        "    wt : string\n",
        "        (optional) the name of the link attribute to be used to compute the (additive) path cost.\n",
        "\n",
        "    Returns\n",
        "    -------\n",
        "    cost : float\n",
        "        The total cost of the path.\n",
        "    \"\"\"\n",
        "    cost = 0.0\n",
        "    for i in range(len(path)-1):\n",
        "        if not g.has_edge(path[i], path[i+1]):\n",
        "            raise Exception('Bad Path')\n",
        "        else:\n",
        "            cost += g[path[i]][path[i+1]][wt]\n",
        "    return cost\n",
        "\n",
        "\n",
        "def getAllPathsInfo(demands, d_links, g, wt=\"weight\"):\n",
        "    \"\"\" Gets info on all the solution paths from the demand-link solution variables\n",
        "\n",
        "    Parameters\n",
        "    ----------\n",
        "\n",
        "    demands : dictionary\n",
        "        dictionary of original problem demands. Note that the demand volumes are not used just\n",
        "        the demand pairs.\n",
        "    d_links : dictionary\n",
        "        dictionary of demand-link solution variables. These are the result of solving a design problem\n",
        "        in node-link form.\n",
        "    g : networkx.DiGraph\n",
        "        The directed graph of the network.\n",
        "    wt : string\n",
        "        (optional) the link attribute to be used when computing path costs.\n",
        "\n",
        "    Returns\n",
        "    -------\n",
        "    path_list : list\n",
        "        A list of path dictionaries with node-list, cost, and capacity information.\n",
        "    \"\"\"\n",
        "    print (d_links)\n",
        "    all_paths = []\n",
        "    for d in demands.keys():\n",
        "        d_paths = flowToPaths(d, d_links[d])\n",
        "        for i in range(len(d_paths[0])):\n",
        "            tmp_path = {\"capacity\": d_paths[0][i], \"nodeList\": d_paths[1][i],\n",
        "                        \"cost\": pathCost(d_paths[1][i], g, wt=wt)}\n",
        "            all_paths.append(tmp_path)\n",
        "    return all_paths\n",
        "\n",
        "\n",
        "def flowToPaths(demand, gflow):\n",
        "    \"\"\" Given a flow corresponding to a demand, realizes it via one or more paths.\n",
        "        This is based on the outline of the proof of the\n",
        "        conformal realization theorem which is given as an excercise in [1].\n",
        "\n",
        "        [1] *D. P. Bertsekas*, **Network Optimization: Continuous\n",
        "        and Discrete Models**. Athena Scientific, 1998.\n",
        "\n",
        "        Parameters\n",
        "        ----------\n",
        "        demand : tuple\n",
        "            a pair of nodes identifiers indicating the source and sink of the flow.\n",
        "        gflow : list\n",
        "            a list of nested tuples (edge, flow value) where edge = (nodeA, nodeB)\n",
        "\n",
        "        Returns\n",
        "        -------\n",
        "        paths : list\n",
        "            a tuple of a list of the paths loads and a list of the corresponding paths\n",
        "    \"\"\"\n",
        "    loads = []\n",
        "    #path_link_list = []\n",
        "    path_node_list = []\n",
        "    path_load, link_list, flow = _flowToPath(demand, gflow, append=True)\n",
        "    #print \"First link list: {}\".format(link_list)\n",
        "    loads.append(path_load)\n",
        "    #path_link_list.append(link_list)\n",
        "    path_node_list.append(_linkListToNodeList(demand, link_list))\n",
        "    reduced_flow = _reduceFlowByLoad(path_load, link_list, flow)\n",
        "    #print \"First reduced flow: {}\".format(reduced_flow)\n",
        "\n",
        "    while len(reduced_flow) > 0:\n",
        "        load, link_list, reduced_flow = _flowToPath(demand, reduced_flow, append=False)\n",
        "        loads.append(load)\n",
        "        #path_link_list.append(link_list)\n",
        "        path_node_list.append(_linkListToNodeList(demand, link_list))\n",
        "        reduced_flow = _reduceFlowByLoad(load, link_list, reduced_flow)\n",
        "\n",
        "    return loads, path_node_list\n",
        "\n",
        "\n",
        "def _reduceFlowByLoad(load, link_list, flow):\n",
        "    \"\"\"\n",
        "    Reduces the flow by the load on the links in the list.\n",
        "    Removes links from the flow with no more flow, i.e., zero flow.\n",
        "    \"\"\"\n",
        "    flow2 = []\n",
        "    for tmp in flow:\n",
        "        if tmp[0] in link_list:\n",
        "            # subtract load\n",
        "            if abs(tmp[1] - load) > float_info.epsilon*10000.0*(tmp[1]+load):\n",
        "                flow2.append((tmp[0], tmp[1] - load))\n",
        "        else:\n",
        "            flow2.append(tmp)\n",
        "    return flow2\n",
        "\n",
        "\n",
        "def _flowToPath(demand, gflow, append=True):\n",
        "    \"\"\"Here we find the smallest capacity path within a flow.\n",
        "    Returns the load of the smallest path within the flow, the links\n",
        "    that make up the path, and the flow.\n",
        "    Based on the conformal realization theorem algorithm in\n",
        "    [1] D. P. Bertsekas and D. P. Bertsekas, Network Optimization: Continuous\n",
        "    and Discrete Models. Athena Scientific, 1998.\n",
        "    \"\"\"\n",
        "    flow = copy.deepcopy(gflow)\n",
        "    node_set = set()\n",
        "    for link_load in flow:\n",
        "        node_set.add(link_load[0][0])  # Adds the source node\n",
        "        node_set.add(link_load[0][1])  # Adds the destination node\n",
        "\n",
        "    # compute the divergence of each node\n",
        "    div_dict = {}\n",
        "    for node in node_set:\n",
        "        div_dict[node] = 0\n",
        "    for link_load in flow:\n",
        "        div_dict[link_load[0][0]] += link_load[1]  # the flow leaving the node\n",
        "        div_dict[link_load[0][1]] += -link_load[1]  # the flow entering the node\n",
        "    # check equality of source and destination divergence\n",
        "    #print \"Div Dictionary: {}\".format(div_dict)\n",
        "    tmp = div_dict[demand[0]] + div_dict[demand[1]]\n",
        "    zero_compare = 1000.0*float_info.epsilon*abs(div_dict[demand[0]])\n",
        "    if append:\n",
        "        if tmp > zero_compare:\n",
        "            raise Exception(\"Source and Sink flows don't seem to correspond\")\n",
        "        for node in node_set:\n",
        "            if node != demand[0] and node != demand[1]:\n",
        "                if div_dict[node] > zero_compare:\n",
        "                    #print \"Flow during exception: {}\".format(flow)\n",
        "                    raise Exception(\"Demands and flows don't seem to correspond\")\n",
        "\n",
        "    # Append artificial link for source and destination demands per Bertsekas\n",
        "    if append:\n",
        "        special_node = \"*S*\"\n",
        "        flow.append(((special_node, demand[0]), div_dict[demand[0]]))\n",
        "        flow.append(((demand[1], special_node), div_dict[demand[0]]))\n",
        "        node_set.add(special_node)\n",
        "    # Pick a link with the minimum flow\n",
        "    def flow_load(flow):\n",
        "        return flow[1]\n",
        "    sel_link = min(flow, key=flow_load)\n",
        "    #print \"Selected link: {}\".format(sel_link)\n",
        "    # Now we can get to work\n",
        "    set_list = []\n",
        "    node_labels = {}\n",
        "    tmp = set()\n",
        "    tmp.add(sel_link[0][1])  # Adds the target node of the link\n",
        "    node_labels[sel_link[0][1]] = sel_link[0]\n",
        "    set_list.append(tmp)\n",
        "    k = 0  # Set index\n",
        "    set_union = tmp\n",
        "\n",
        "    while set_union < node_set:\n",
        "        tmp = set()\n",
        "        # Check over all nodes in the current set indexed by k\n",
        "        for m in set_list[k]:\n",
        "            # Check for a link from m to a node n not in the set_union\n",
        "            # if so add it to the current set\n",
        "            for f in flow:\n",
        "                if (f[0][0] == m) and (f[0][1] not in set_union):\n",
        "                    tmp.add(f[0][1])\n",
        "                    node_labels[f[0][1]] = f[0]\n",
        "        if len(tmp) == 0:\n",
        "            break\n",
        "        k += 1\n",
        "        set_list.append(tmp)\n",
        "        set_union = set_union | tmp\n",
        "    #\n",
        "    # Now Bertsekas says to \"traceback from sel_link[0][0] to sel_link[0][1] through the\n",
        "    # node labels.\n",
        "    link_list = []\n",
        "    link_list.append(sel_link[0])\n",
        "    #print \"Node labels: {}\".format(node_labels)\n",
        "    start = sel_link[0][0]\n",
        "    end = sel_link[0][1]\n",
        "    link_list.append(node_labels[start])\n",
        "    while node_labels[start][0] != end:\n",
        "        start = node_labels[start][0]\n",
        "        link_list.append(node_labels[start])\n",
        "    #print \"Trace Back Link List: {}\".format(link_list)\n",
        "\n",
        "    return sel_link[1], link_list, flow\n",
        "\n",
        "def _linkListToNodeList(demand,link_list):\n",
        "    \"\"\"\n",
        "    Takes a list of links and recovers the path between the\n",
        "    end points in the demand. Note that the link_list may have\n",
        "    some \"fictious\" links to the artificial node that gets\n",
        "    inserted in the conformal realization algorithm.\n",
        "    \"\"\"\n",
        "    node_list = []\n",
        "    cur_node = demand[0]\n",
        "\n",
        "    keep_going = True\n",
        "    while keep_going:\n",
        "        node_list.append(cur_node)\n",
        "        next_node = None\n",
        "        for link in link_list:\n",
        "            if link[0] == cur_node:\n",
        "                next_node = link[1]\n",
        "        #\n",
        "        keep_going = cur_node != demand[1]\n",
        "        if keep_going and next_node == None:\n",
        "            raise Exception(\"Bad path list\")\n",
        "        else:\n",
        "            cur_node = next_node\n",
        "\n",
        "    return node_list\n",
        "\n",
        "\n",
        "def getDemandLinks(demands, link_list, flow_vars, no_splitting=False):\n",
        "    \"\"\" Searches the solution values of the flow variables for \"non-zero\" link demand values.\n",
        "\n",
        "        Parameters\n",
        "        ----------\n",
        "        demands : dictionary\n",
        "            a demand dictionary indexed by a demand pair and whose value is the volume\n",
        "        link_list : list\n",
        "            a list of links (edges) of the network as node tuples.\n",
        "        flow_vars : dictionary\n",
        "            a dictionary of link, demand variables. In our case we are working with\n",
        "            the solutions that have been returned from the solver. These are of type\n",
        "            PuLP LpVariables.\n",
        "\n",
        "        Returns\n",
        "        -------\n",
        "        used_links : dictionary\n",
        "            a dictionary indexed by a demand pair whose value is a nested tuple of (link, load) where\n",
        "            link is a node pair (tuple).\n",
        "\n",
        "            For example:\n",
        "            {('N0', 'N2'): [((u'N0', u'N1'), 16.0), ((u'N1', u'N2'), 16.0)],\n",
        "            ('N0', 'N3'): [((u'N0', u'N6'), 25.0), ((u'N6', u'N3'), 25.0)],\n",
        "            ('N1', 'N6'): [((u'N0', u'N6'), 25.0), ((u'N1', u'N0'), 25.0)],\n",
        "            ('N2', 'N3'): [((u'N2', u'N3'), 29.0)],\n",
        "            ('N3', 'N5'): [((u'N3', u'N4'), 31.0), ((u'N4', u'N5'), 31.0)]}\n",
        "\n",
        "    \"\"\"\n",
        "    demand_links = {}\n",
        "    if no_splitting:\n",
        "        zero_test = float_info.epsilon\n",
        "\n",
        "    for d in demands.keys():\n",
        "        flow_list = []\n",
        "        for e in link_list:\n",
        "            if not no_splitting:\n",
        "                zero_test = float_info.epsilon*demands[d]\n",
        "            if flow_vars[e,d].value() > zero_test:\n",
        "                flow_list.append((e, flow_vars[e,d].value()))\n",
        "        demand_links[d] = flow_list\n",
        "\n",
        "    return demand_links"
      ],
      "metadata": {
        "id": "eP-R2_TC8PkU"
      },
      "id": "eP-R2_TC8PkU",
      "execution_count": null,
      "outputs": []
    },
    {
      "cell_type": "code",
      "source": [
        "def single_path_capacitated_node_link(g, demands, nd=None):\n",
        "    \"\"\" Creates a single path capacitated network design problem in a node-link formulation\n",
        "\n",
        "        Parameters\n",
        "        ----------\n",
        "        g : networkx.DiGraph\n",
        "            a directed network graph g,\n",
        "        demands : dictionary\n",
        "            a dictionary of demands indexed by node pairs\n",
        "        nd : dictionary\n",
        "            (optional) nd if given is a dictionary of hop count limits for each demand.\n",
        "        Returns\n",
        "        -------\n",
        "        pulp.LpProblem\n",
        "            a PuLP problem instance suitable for solving or writing. Note that this is now\n",
        "            a Mixed Integer Program containing binary and continuous variables.\n",
        "    \"\"\"\n",
        "    demand_list = sorted(demands.keys())\n",
        "    link_list = sorted(g.edges())\n",
        "    node_list = sorted(g.nodes())\n",
        "    prob = LpProblem(\"Basic Node Link Formulation\", LpMinimize)\n",
        "\n",
        "    unit_flows = {}\n",
        "    for link in link_list:            # link flow variables indexed by a tuple of (link, demand) pairs.\n",
        "        for demand in demand_list:\n",
        "            name = \"xL{}_{}_D{}_{}\".format(link[0], link[1], demand[0], demand[1])\n",
        "            unit_flows[(link,demand)] = LpVariable(name, 0, cat='Binary')\n",
        "\n",
        "    tmp_list = []\n",
        "    for link in link_list:  # Objective function\n",
        "        for demand in demand_list:\n",
        "            tmp_list.append(g[link[0]][link[1]][\"weight\"]*demands[demand]*unit_flows[(link,demand)])\n",
        "    prob += lpSum(tmp_list)\n",
        "\n",
        "    for link in link_list:  #link capacity constraints\n",
        "        tmp_list = []\n",
        "        for demand in demand_list:\n",
        "            tmp_list.append(demands[demand]*unit_flows[(link, demand)])\n",
        "        link_name = \"L{}_{}\".format(link[0], link[1])\n",
        "        prob += lpSum(tmp_list)<= g[link[0]][link[1]]['capacity'], \"LinkCap|\" + link_name\n",
        "\n",
        "    for node in node_list:  # node flow conservation constraints\n",
        "        for demand in demand_list:\n",
        "            tmp_list = []\n",
        "            in_edges = g.in_edges(node)\n",
        "            out_edges = g.out_edges(node)\n",
        "            for link in out_edges:\n",
        "                tmp_list.append(unit_flows[(link, demand)])\n",
        "            for link in in_edges:\n",
        "                tmp_list.append(-1.0*unit_flows[(link, demand)])\n",
        "            rhs = 0.0  # Default transit node, but check if source or sink\n",
        "            if node == demand[0]:  # Is node the source of the demand\n",
        "                rhs = 1.0\n",
        "            if node == demand[1]:  # Is node the sink of the demand\n",
        "                rhs = -1.0\n",
        "            constraint_name = \"NodeCons|{}D{}_{}\".format(node, demand[0], demand[1])\n",
        "            prob += lpSum(tmp_list) == rhs, constraint_name\n",
        "\n",
        "    if nd is not None:\n",
        "        for d in demand_list:\n",
        "            tmp_list = []\n",
        "            for e in link_list:\n",
        "                tmp_list.append(unit_flows[e, d])\n",
        "            constraint_name = \"HopCount|D{}_{}\".format(d[0], d[1])\n",
        "            prob += lpSum(tmp_list) <= nd[d], constraint_name\n",
        "    return prob, unit_flows"
      ],
      "metadata": {
        "id": "RZTwtyfRpOfG"
      },
      "id": "RZTwtyfRpOfG",
      "execution_count": null,
      "outputs": []
    },
    {
      "cell_type": "code",
      "source": [
        "g_temp = nx.Graph()\n",
        "g_temp.add_edge(\"N0\", \"N1\", weight=1, capacity=40)\n",
        "g_temp.add_edge(\"N0\", \"N5\", weight=1, capacity=40)\n",
        "g_temp.add_edge(\"N0\", \"N6\", weight=1, capacity=40)\n",
        "g_temp.add_edge(\"N1\", \"N2\", weight=1, capacity=40)\n",
        "g_temp.add_edge(\"N2\", \"N3\", weight=1, capacity=40)\n",
        "g_temp.add_edge(\"N3\", \"N4\", weight=1, capacity=40)\n",
        "g_temp.add_edge(\"N3\", \"N6\", weight=1, capacity=40)\n",
        "g_temp.add_edge(\"N4\", \"N5\", weight=1, capacity=40)\n",
        "g_temp.add_edge(\"N5\", \"N6\", weight=1, capacity=40)\n",
        "print (g_temp.edges(data=True))\n",
        "\n",
        "g = g_temp.to_directed()  # Nice function to produce a directed version\n",
        "print (g.edges(data=True))"
      ],
      "metadata": {
        "colab": {
          "base_uri": "https://localhost:8080/"
        },
        "id": "oJ2Lef37pR8M",
        "outputId": "4b9c34cb-c252-46b4-946e-422423288953"
      },
      "id": "oJ2Lef37pR8M",
      "execution_count": null,
      "outputs": [
        {
          "output_type": "stream",
          "name": "stdout",
          "text": [
            "[('N0', 'N1', {'weight': 1, 'capacity': 40}), ('N0', 'N5', {'weight': 1, 'capacity': 40}), ('N0', 'N6', {'weight': 1, 'capacity': 40}), ('N1', 'N2', {'weight': 1, 'capacity': 40}), ('N5', 'N4', {'weight': 1, 'capacity': 40}), ('N5', 'N6', {'weight': 1, 'capacity': 40}), ('N6', 'N3', {'weight': 1, 'capacity': 40}), ('N2', 'N3', {'weight': 1, 'capacity': 40}), ('N3', 'N4', {'weight': 1, 'capacity': 40})]\n",
            "[('N0', 'N1', {'weight': 1, 'capacity': 40}), ('N0', 'N5', {'weight': 1, 'capacity': 40}), ('N0', 'N6', {'weight': 1, 'capacity': 40}), ('N1', 'N0', {'weight': 1, 'capacity': 40}), ('N1', 'N2', {'weight': 1, 'capacity': 40}), ('N5', 'N0', {'weight': 1, 'capacity': 40}), ('N5', 'N4', {'weight': 1, 'capacity': 40}), ('N5', 'N6', {'weight': 1, 'capacity': 40}), ('N6', 'N0', {'weight': 1, 'capacity': 40}), ('N6', 'N3', {'weight': 1, 'capacity': 40}), ('N6', 'N5', {'weight': 1, 'capacity': 40}), ('N2', 'N1', {'weight': 1, 'capacity': 40}), ('N2', 'N3', {'weight': 1, 'capacity': 40}), ('N3', 'N2', {'weight': 1, 'capacity': 40}), ('N3', 'N4', {'weight': 1, 'capacity': 40}), ('N3', 'N6', {'weight': 1, 'capacity': 40}), ('N4', 'N3', {'weight': 1, 'capacity': 40}), ('N4', 'N5', {'weight': 1, 'capacity': 40})]\n"
          ]
        }
      ]
    },
    {
      "cell_type": "code",
      "source": [
        "nx.draw(g,with_labels=True)\n",
        "plt.show()"
      ],
      "metadata": {
        "colab": {
          "base_uri": "https://localhost:8080/",
          "height": 516
        },
        "id": "b19ACSKypV9w",
        "outputId": "fc836c18-d607-4447-f342-716e47252ac9"
      },
      "id": "b19ACSKypV9w",
      "execution_count": null,
      "outputs": [
        {
          "output_type": "display_data",
          "data": {
            "text/plain": [
              "<Figure size 640x480 with 1 Axes>"
            ],
            "image/png": "[encoded data removed]"
          },
          "metadata": {}
        }
      ]
    },
    {
      "cell_type": "code",
      "source": [
        "demandsUni = {(\"N0\", \"N3\"): 25, (\"N2\", \"N3\"): 29,\n",
        "               (\"N1\", \"N6\"): 24, (\"N3\", \"N5\"): 31,\n",
        "               (\"N0\", \"N2\"): 16}\n",
        "print (demandsUni)"
      ],
      "metadata": {
        "colab": {
          "base_uri": "https://localhost:8080/"
        },
        "id": "2LFMkk9ipYtL",
        "outputId": "be87a0c7-a44f-4814-cf3a-6cb3d8a476c1"
      },
      "id": "2LFMkk9ipYtL",
      "execution_count": null,
      "outputs": [
        {
          "output_type": "stream",
          "name": "stdout",
          "text": [
            "{('N0', 'N3'): 25, ('N2', 'N3'): 29, ('N1', 'N6'): 24, ('N3', 'N5'): 31, ('N0', 'N2'): 16}\n"
          ]
        }
      ]
    },
    {
      "cell_type": "code",
      "source": [
        "demands = {}\n",
        "    # create bidirectional demands\n",
        "for d in demandsUni.keys():\n",
        "    demands[d] = demandsUni[d]\n",
        "    demands[d[1],d[0]] = demandsUni[d]\n",
        "print (demands)"
      ],
      "metadata": {
        "colab": {
          "base_uri": "https://localhost:8080/"
        },
        "id": "cbxNSlPbpcCt",
        "outputId": "3c97dd2b-aef1-42a6-8c7a-bcee47051af8"
      },
      "id": "cbxNSlPbpcCt",
      "execution_count": null,
      "outputs": [
        {
          "output_type": "stream",
          "name": "stdout",
          "text": [
            "{('N0', 'N3'): 25, ('N3', 'N0'): 25, ('N2', 'N3'): 29, ('N3', 'N2'): 29, ('N1', 'N6'): 24, ('N6', 'N1'): 24, ('N3', 'N5'): 31, ('N5', 'N3'): 31, ('N0', 'N2'): 16, ('N2', 'N0'): 16}\n"
          ]
        }
      ]
    },
    {
      "cell_type": "code",
      "source": [
        "# Try setting up some hop count limits for the demands\n",
        "nd = {}\n",
        "for d in demands.keys():\n",
        "    nd[d] = 4            # Default test hop count limit\n",
        "nd['N1', 'N6'] = 2       # Limit this\n",
        "nd['N6', 'N1'] = 2       # and this"
      ],
      "metadata": {
        "id": "Xv2Mi_abpfMs"
      },
      "id": "Xv2Mi_abpfMs",
      "execution_count": null,
      "outputs": []
    },
    {
      "cell_type": "code",
      "source": [
        "prob, flow_vars = single_path_capacitated_node_link(g, demands, nd)\n",
        "#prob.writeLP(\"SPANodeLink.lpt\")\n",
        "prob.solve()\n",
        "print (\"Status:\", LpStatus[prob.status])"
      ],
      "metadata": {
        "colab": {
          "base_uri": "https://localhost:8080/"
        },
        "id": "Hg8CHJA1pkTS",
        "outputId": "ff81af4d-537d-4398-ee33-610c7fec092d"
      },
      "id": "Hg8CHJA1pkTS",
      "execution_count": null,
      "outputs": [
        {
          "output_type": "stream",
          "name": "stdout",
          "text": [
            "Status: Optimal\n"
          ]
        }
      ]
    },
    {
      "cell_type": "code",
      "source": [
        "link_loads = {}\n",
        "for e in g.edges():\n",
        "    tmp_load = 0.0\n",
        "    for d in demands.keys():\n",
        "        tmp_load += flow_vars[e,d].value()\n",
        "    link_loads[e] = tmp_load\n",
        "print (link_loads)"
      ],
      "metadata": {
        "colab": {
          "base_uri": "https://localhost:8080/"
        },
        "id": "d2dAukOcpnaX",
        "outputId": "6af97d22-9e3a-41d3-80b2-29f61cd38062"
      },
      "id": "d2dAukOcpnaX",
      "execution_count": null,
      "outputs": [
        {
          "output_type": "stream",
          "name": "stdout",
          "text": [
            "{('N0', 'N1'): 2.0, ('N0', 'N5'): 1.0, ('N0', 'N6'): 1.0, ('N1', 'N0'): 2.0, ('N1', 'N2'): 1.0, ('N5', 'N0'): 1.0, ('N5', 'N4'): 1.0, ('N5', 'N6'): 1.0, ('N6', 'N0'): 1.0, ('N6', 'N3'): 1.0, ('N6', 'N5'): 1.0, ('N2', 'N1'): 1.0, ('N2', 'N3'): 1.0, ('N3', 'N2'): 1.0, ('N3', 'N4'): 1.0, ('N3', 'N6'): 1.0, ('N4', 'N3'): 1.0, ('N4', 'N5'): 1.0}\n"
          ]
        }
      ]
    },
    {
      "cell_type": "code",
      "source": [
        "d_links = getDemandLinks(demands, list(g.edges()), flow_vars)\n",
        "print (d_links)"
      ],
      "metadata": {
        "colab": {
          "base_uri": "https://localhost:8080/"
        },
        "id": "ayGqk8oTprUI",
        "outputId": "0025e102-c966-43ea-e892-ccd6f5500a04"
      },
      "id": "ayGqk8oTprUI",
      "execution_count": null,
      "outputs": [
        {
          "output_type": "stream",
          "name": "stdout",
          "text": [
            "{('N0', 'N3'): [(('N0', 'N5'), 1.0), (('N5', 'N6'), 1.0), (('N6', 'N3'), 1.0)], ('N3', 'N0'): [(('N5', 'N0'), 1.0), (('N6', 'N5'), 1.0), (('N3', 'N6'), 1.0)], ('N2', 'N3'): [(('N2', 'N3'), 1.0)], ('N3', 'N2'): [(('N3', 'N2'), 1.0)], ('N1', 'N6'): [(('N0', 'N6'), 1.0), (('N1', 'N0'), 1.0)], ('N6', 'N1'): [(('N0', 'N1'), 1.0), (('N6', 'N0'), 1.0)], ('N3', 'N5'): [(('N3', 'N4'), 1.0), (('N4', 'N5'), 1.0)], ('N5', 'N3'): [(('N5', 'N4'), 1.0), (('N4', 'N3'), 1.0)], ('N0', 'N2'): [(('N0', 'N1'), 1.0), (('N1', 'N2'), 1.0)], ('N2', 'N0'): [(('N1', 'N0'), 1.0), (('N2', 'N1'), 1.0)]}\n"
          ]
        }
      ]
    },
    {
      "cell_type": "code",
      "source": [
        "d_paths = {}\n",
        "all_paths = getAllPathsInfo(demands, d_links, g)\n",
        "print()\n",
        "print (all_paths)"
      ],
      "metadata": {
        "colab": {
          "base_uri": "https://localhost:8080/"
        },
        "id": "23I-ZOoJpu9f",
        "outputId": "98b049fd-f74d-406d-abe7-516140f3d0c2"
      },
      "id": "23I-ZOoJpu9f",
      "execution_count": null,
      "outputs": [
        {
          "output_type": "stream",
          "name": "stdout",
          "text": [
            "{('N0', 'N3'): [(('N0', 'N5'), 1.0), (('N5', 'N6'), 1.0), (('N6', 'N3'), 1.0)], ('N3', 'N0'): [(('N5', 'N0'), 1.0), (('N6', 'N5'), 1.0), (('N3', 'N6'), 1.0)], ('N2', 'N3'): [(('N2', 'N3'), 1.0)], ('N3', 'N2'): [(('N3', 'N2'), 1.0)], ('N1', 'N6'): [(('N0', 'N6'), 1.0), (('N1', 'N0'), 1.0)], ('N6', 'N1'): [(('N0', 'N1'), 1.0), (('N6', 'N0'), 1.0)], ('N3', 'N5'): [(('N3', 'N4'), 1.0), (('N4', 'N5'), 1.0)], ('N5', 'N3'): [(('N5', 'N4'), 1.0), (('N4', 'N3'), 1.0)], ('N0', 'N2'): [(('N0', 'N1'), 1.0), (('N1', 'N2'), 1.0)], ('N2', 'N0'): [(('N1', 'N0'), 1.0), (('N2', 'N1'), 1.0)]}\n",
            "\n",
            "[{'capacity': 1.0, 'nodeList': ['N0', 'N5', 'N6', 'N3'], 'cost': 3.0}, {'capacity': 1.0, 'nodeList': ['N3', 'N6', 'N5', 'N0'], 'cost': 3.0}, {'capacity': 1.0, 'nodeList': ['N2', 'N3'], 'cost': 1.0}, {'capacity': 1.0, 'nodeList': ['N3', 'N2'], 'cost': 1.0}, {'capacity': 1.0, 'nodeList': ['N1', 'N0', 'N6'], 'cost': 2.0}, {'capacity': 1.0, 'nodeList': ['N6', 'N0', 'N1'], 'cost': 2.0}, {'capacity': 1.0, 'nodeList': ['N3', 'N4', 'N5'], 'cost': 2.0}, {'capacity': 1.0, 'nodeList': ['N5', 'N4', 'N3'], 'cost': 2.0}, {'capacity': 1.0, 'nodeList': ['N0', 'N1', 'N2'], 'cost': 2.0}, {'capacity': 1.0, 'nodeList': ['N2', 'N1', 'N0'], 'cost': 2.0}]\n"
          ]
        }
      ]
    }
  ],
  "metadata": {
    "kernelspec": {
      "display_name": "Python 3 (ipykernel)",
      "language": "python",
      "name": "python3"
    },
    "language_info": {
      "codemirror_mode": {
        "name": "ipython",
        "version": 3
      },
      "file_extension": ".py",
      "mimetype": "text/x-python",
      "name": "python",
      "nbconvert_exporter": "python",
      "pygments_lexer": "ipython3",
      "version": "3.9.7"
    },
    "colab": {
      "provenance": []
    }
  },
  "nbformat": 4,
  "nbformat_minor": 5
}